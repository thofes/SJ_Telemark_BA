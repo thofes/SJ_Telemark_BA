{
  "nbformat": 4,
  "nbformat_minor": 0,
  "metadata": {
    "colab": {
      "name": "Untitled12.ipynb",
      "provenance": [],
      "authorship_tag": "ABX9TyOT6LQa0SAxkQslodwMB7l4",
      "include_colab_link": true
    },
    "kernelspec": {
      "name": "python3",
      "display_name": "Python 3"
    },
    "language_info": {
      "name": "python"
    }
  },
  "cells": [
    {
      "cell_type": "markdown",
      "metadata": {
        "id": "view-in-github",
        "colab_type": "text"
      },
      "source": [
        "<a href=\"https://colab.research.google.com/github/thofes/judging_SJ_BA/blob/Augmentation/Mark_Mirror.ipynb\" target=\"_parent\"><img src=\"https://colab.research.google.com/assets/colab-badge.svg\" alt=\"Open In Colab\"/></a>"
      ]
    },
    {
      "cell_type": "code",
      "source": [
        "#Connect GDrive\n",
        "from google.colab import drive\n",
        "drive.mount('/content.gdrive')"
      ],
      "metadata": {
        "colab": {
          "base_uri": "https://localhost:8080/"
        },
        "id": "7VCNvpmvH-IX",
        "outputId": "0c94e0d2-4649-4076-bf61-58dda77997ce"
      },
      "execution_count": 1,
      "outputs": [
        {
          "output_type": "stream",
          "name": "stdout",
          "text": [
            "Mounted at /content.gdrive\n"
          ]
        }
      ]
    },
    {
      "cell_type": "code",
      "source": [
        "from matplotlib.pyplot import imshow\n",
        "import numpy as np\n",
        "from PIL import Image\n",
        "#from scipy.misc import imresize\n",
        "from scipy.ndimage.interpolation import rotate\n",
        "\n",
        "image = np.array(Image.open('/content.gdrive/MyDrive/Manually_Labeled/NoTelemark/1/11.jpg'), dtype=np.float32)\n",
        "imshow(image)\n",
        "h, w, _ = image.shape\n",
        "angle = 30\n",
        "image = rotate(image, angle)\n",
        "#image = imresize(image, (h, w))\n",
        "#image.save(image)\n",
        "#imshow(image)\n",
        "\n",
        "\n",
        "\"\"\"\n",
        "im = cv2.imread('/content.gdrive/MyDrive/Manually_Labeled/NoTelemark/1/11.jpg')\n",
        "im2 = Image.open('/content.gdrive/MyDrive/Manually_Labeled/NoTelemark/1/11.jpg')\n",
        "cv2_imshow(im)\n",
        "\n",
        "rotated = im2.rotate(30)\n",
        "\n",
        "cv2_imshow(rotated)\n",
        "\n",
        "#rotated.show()\n",
        "\"\"\""
      ],
      "metadata": {
        "id": "ePyjc47rFcGM",
        "outputId": "0ffaf1a1-6142-4165-ec3a-8d94db6e4544",
        "colab": {
          "base_uri": "https://localhost:8080/",
          "height": 295
        }
      },
      "execution_count": 17,
      "outputs": [
        {
          "output_type": "stream",
          "name": "stderr",
          "text": [
            "Clipping input data to the valid range for imshow with RGB data ([0..1] for floats or [0..255] for integers).\n"
          ]
        },
        {
          "output_type": "execute_result",
          "data": {
            "text/plain": [
              "\"\\nim = cv2.imread('/content.gdrive/MyDrive/Manually_Labeled/NoTelemark/1/11.jpg')\\nim2 = Image.open('/content.gdrive/MyDrive/Manually_Labeled/NoTelemark/1/11.jpg')\\ncv2_imshow(im)\\n\\nrotated = im2.rotate(30)\\n\\ncv2_imshow(rotated)\\n\\n#rotated.show()\\n\""
            ],
            "application/vnd.google.colaboratory.intrinsic+json": {
              "type": "string"
            }
          },
          "metadata": {},
          "execution_count": 17
        },
        {
          "output_type": "display_data",
          "data": {
            "text/plain": [
              "<Figure size 432x288 with 1 Axes>"
            ],
            "image/png": "[encoded data removed]"
          },
          "metadata": {
            "needs_background": "light"
          }
        }
      ]
    },
    {
      "cell_type": "code",
      "source": [
        "# import the Python Image processing Library\n",
        "\n",
        "from PIL.ExifTags import *\n",
        "from PIL import Image\n",
        "import sys\n",
        "import os\n",
        "import glob\n",
        "import time\n",
        "\n",
        "directory = 'rotated'\n",
        "\n",
        "parent_dir = '/content.gdrive/MyDrive/Manually_Labeled/NoTelemark'\n",
        "path = os.path.join(parent_dir, directory)\n",
        "\n",
        "os.mkdir(path)\n",
        "\n",
        "im = Image.open('/content.gdrive/MyDrive/Manually_Labeled/NoTelemark/1/11.jpg')\n",
        "im=im.rotate(-30, expand=True)\n",
        "im.show()\n",
        "\n",
        "im.save('/content.gdrive/MyDrive/Manually_Labeled/NoTelemark/rotated/rotated.jpg')\n",
        "\n",
        "img = Image.open('/content.gdrive/MyDrive/Manually_Labeled/NoTelemark/1/11.jpg')"
      ],
      "metadata": {
        "id": "SyYue3v2LG24"
      },
      "execution_count": 25,
      "outputs": []
    },
    {
      "cell_type": "code",
      "execution_count": 36,
      "metadata": {
        "colab": {
          "base_uri": "https://localhost:8080/"
        },
        "id": "W9vDh-TkHsIj",
        "outputId": "1efb5824-4416-443b-84c6-9a4ad4b64ed6"
      },
      "outputs": [
        {
          "output_type": "stream",
          "name": "stdout",
          "text": [
            "162 224\n",
            "165 227\n",
            "149 206\n",
            "157 232\n",
            "156 204\n",
            "159 207\n",
            "151 215\n",
            "164 242\n",
            "153 204\n",
            "155 201\n",
            "158 204\n",
            "156 204\n",
            "157 198\n",
            "155 173\n",
            "162 199\n",
            "154 193\n",
            "156 192\n",
            "155 188\n",
            "155 192\n",
            "155 192\n",
            "159 190\n"
          ]
        }
      ],
      "source": [
        "from PIL import Image, ImageOps\n",
        "import os\n",
        "from os.path import exists, join, basename, splitext\n",
        "\n",
        "\n",
        "PATH = \"/content.gdrive/My Drive/Test/Telemark/316\"\n",
        "#label= []\n",
        "#try:\n",
        "    #label = next(os.walk(PATH))[1]\n",
        "#except StopIteration:\n",
        "    #pass\n",
        "#data[\"labels\"].append(label)\n",
        "#print(label)\n",
        "#print(len(label))\n",
        "\n",
        "#for l in label:\n",
        "  #Path_jumpers = PATH + '/' + l\n",
        "  #print(Path_jumpers)\n",
        "  #Jumpers = []\n",
        "  #try:\n",
        "    #Jumpers = next(os.walk(PATH))[1]\n",
        "  #except StopIteration:\n",
        "    #pass\n",
        "  #print(Jumpers)\n",
        "  #print(len(Jumpers))\n",
        "\n",
        "#for j in Jumpers:\n",
        "\n",
        "directoryp30 = 'rotatedp30_' + str(j)\n",
        "directorym30 = 'rotatedm30_' + str(j)\n",
        "directorymirror = 'mirror_' + str(j)\n",
        "\n",
        "parent_dir = \"/content.gdrive/My Drive/Test/Telemark\"\n",
        "pathp30 = os.path.join(parent_dir, directoryp30)\n",
        "pathm30 = os.path.join(parent_dir, directorym30)\n",
        "pathmirror = os.path.join(parent_dir, directorymirror)\n",
        "\n",
        "os.mkdir(pathp30)\n",
        "os.mkdir(pathm30)\n",
        "os.mkdir(pathmirror)\n",
        "\n",
        "    #Path_Pic = Path_jumpers + '/' + j \n",
        "    #print(Path_Pic)\n",
        "    \n",
        "  #print(Path_jumpers)\n",
        "for i in range(21):\n",
        "        Path = PATH + '/exp/crop' + str(i+1) + '.jpg'\n",
        "        #print(Path)\n",
        "\n",
        "        im = Image.open(Path)\n",
        "        width, height = im.size\n",
        "        print(width, height)\n",
        "\n",
        "\n",
        "        im_mirror = ImageOps.mirror(im)\n",
        "        newsize = (width, height)\n",
        "        im_mirror = im_mirror.resize(newsize)\n",
        "        im_mirror.save(pathmirror + '/' + str(i+1) + '.jpg')\n",
        "        \n",
        "        im_rotatep30=im.rotate(30, expand=True)\n",
        "        im_rotatep30 = im_rotatep30.resize(newsize)\n",
        "        im_rotatep30.save(pathp30 + '/' + str(i+1) + '.jpg')\n",
        "\n",
        "        im_rotatem30=im.rotate(-30, expand=True)\n",
        "        im_rotatem30 = im_rotatem30.resize(newsize)\n",
        "        im_rotatem30.save(pathm30 + '/' + str(i+1) + '.jpg')\n",
        "\n",
        "\n",
        "\n",
        "\n",
        "\n"
      ]
    }
  ]
}