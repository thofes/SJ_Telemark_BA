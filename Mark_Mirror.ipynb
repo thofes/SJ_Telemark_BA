{
  "nbformat": 4,
  "nbformat_minor": 0,
  "metadata": {
    "colab": {
      "name": "Untitled12.ipynb",
      "provenance": [],
      "authorship_tag": "ABX9TyN0bXVGav7kDlT6gDsrVyMQ",
      "include_colab_link": true
    },
    "kernelspec": {
      "name": "python3",
      "display_name": "Python 3"
    },
    "language_info": {
      "name": "python"
    }
  },
  "cells": [
    {
      "cell_type": "markdown",
      "metadata": {
        "id": "view-in-github",
        "colab_type": "text"
      },
      "source": [
        "<a href=\"https://colab.research.google.com/github/thofes/judging_SJ_BA/blob/main/Mark_Mirror.ipynb\" target=\"_parent\"><img src=\"https://colab.research.google.com/assets/colab-badge.svg\" alt=\"Open In Colab\"/></a>"
      ]
    },
    {
      "cell_type": "code",
      "source": [
        "#Connect GDrive\n",
        "from google.colab import drive\n",
        "drive.mount('/content.gdrive')"
      ],
      "metadata": {
        "colab": {
          "base_uri": "https://localhost:8080/"
        },
        "id": "7VCNvpmvH-IX",
        "outputId": "c62efead-bd5a-4415-b02b-e0cf7476fd7d"
      },
      "execution_count": 1,
      "outputs": [
        {
          "output_type": "stream",
          "name": "stdout",
          "text": [
            "Mounted at /content.gdrive\n"
          ]
        }
      ]
    },
    {
      "cell_type": "code",
      "execution_count": 11,
      "metadata": {
        "colab": {
          "base_uri": "https://localhost:8080/"
        },
        "id": "W9vDh-TkHsIj",
        "outputId": "a069edc6-bb01-47f8-b5e8-79f151052ee4"
      },
      "outputs": [
        {
          "output_type": "stream",
          "name": "stdout",
          "text": [
            "['Telemark']\n",
            "/content.gdrive/My Drive/Mirror_Telemark/Telemark\n",
            "['17', '3']\n",
            "/content.gdrive/My Drive/Mirror_Telemark/Telemark/17\n",
            "/content.gdrive/My Drive/Mirror_Telemark/Telemark/3\n"
          ]
        }
      ],
      "source": [
        "from PIL import Image, ImageOps\n",
        "import os\n",
        "from os.path import exists, join, basename, splitext\n",
        "\n",
        "PATH = \"/content.gdrive/My Drive/Mark_Mirror\"\n",
        "label= []\n",
        "try:\n",
        "    label = next(os.walk(PATH))[1]\n",
        "except StopIteration:\n",
        "    pass\n",
        "#data[\"labels\"].append(label)\n",
        "print(label)\n",
        "\n",
        "for l in label:\n",
        "  Path_jumpers = PATH + '/' + l\n",
        "  print(Path_jumpers)\n",
        "  Jumpers = []\n",
        "  try:\n",
        "    Jumpers = next(os.walk(Path_jumpers))[1]\n",
        "  except StopIteration:\n",
        "    pass\n",
        "  print(Jumpers)\n",
        "\n",
        "  for j in Jumpers:\n",
        "    Path_Pic = Path_jumpers + '/' + j \n",
        "    print(Path_Pic)\n",
        "\n",
        "    for i in range(21):\n",
        "      Path = Path_Pic + '/' + str(i+1) + '.jpg'\n",
        "\n",
        "\n",
        "      im = Image.open(Path)\n",
        "      im_mirror = ImageOps.mirror(im)\n",
        "      im_mirror.save(Path)"
      ]
    }
  ]
}