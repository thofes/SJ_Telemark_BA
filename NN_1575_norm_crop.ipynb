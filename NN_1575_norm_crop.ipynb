{
  "cells": [
    {
      "cell_type": "markdown",
      "metadata": {
        "id": "view-in-github",
        "colab_type": "text"
      },
      "source": [
        "<a href=\"https://colab.research.google.com/github/thofes/judging_SJ_BA/blob/main/NN_1575_norm_crop.ipynb\" target=\"_parent\"><img src=\"https://colab.research.google.com/assets/colab-badge.svg\" alt=\"Open In Colab\"/></a>"
      ]
    },
    {
      "cell_type": "code",
      "execution_count": 1,
      "metadata": {
        "colab": {
          "base_uri": "https://localhost:8080/"
        },
        "id": "SVN2myC-oH6N",
        "outputId": "0722001c-f78c-42d0-ad6f-b1c195cf087e"
      },
      "outputs": [
        {
          "output_type": "stream",
          "name": "stdout",
          "text": [
            "Mounted at /content.gdrive\n"
          ]
        }
      ],
      "source": [
        "#Connect GDrive\n",
        "from google.colab import drive\n",
        "drive.mount('/content.gdrive')"
      ]
    },
    {
      "cell_type": "code",
      "execution_count": 42,
      "metadata": {
        "colab": {
          "base_uri": "https://localhost:8080/"
        },
        "id": "0UAMjfuEoISk",
        "outputId": "51c8fc3b-63b3-4071-f99d-29ddc255a9aa"
      },
      "outputs": [
        {
          "output_type": "stream",
          "name": "stdout",
          "text": [
            "['data_manually_labeled_original.json', 'data_manually_labled_Telemark_mirror.json', 'data_PseudoLabeled_last_1805.json', 'data_PseudoLabeled_1_50.json', 'data_Manually_Labeled_11042022.json', 'data_Manually_Labeled_mirror_09042022.json', 'data_Manually_Labeled_09042022.json', 'data_PseudoLabeled_251_300.json', 'data_PseudoLabeled_201_250.json', 'data_PseudoLabeled_151_200.json', 'data_PseudoLabeled_101_150.json', 'data_PseudoLabeled_51_100.json', 'data_PseudoLabeled_601_650.json', 'data_PseudoLabeled_551_600.json', 'data_PseudoLabeled_501_550.json', 'data_PseudoLabeled_451_500.json', 'data_PseudoLabeled_401_450.json', 'data_PseudoLabeled_351_400.json', 'data_PseudoLabeled_301_350.json', 'data_PseudoLabeled_851_900.json', 'data_PseudoLabeled_801_850.json', 'data_PseudoLabeled_751_800.json', 'data_PseudoLabeled_701_750.json', 'data_PseudoLabeled_651_700.json', 'data_PseudoLabeled_1151_1200.json', 'data_PseudoLabeled_1101_1150.json', 'data_PseudoLabeled_1051_1100.json', 'data_PseudoLabeled_1001_1050.json', 'data_PseudoLabeled_951_1000.json', 'data_PseudoLabeled_901_950.json', 'data_PseudoLabeled_1401_1450.json', 'data_PseudoLabeled_1351_1400.json', 'data_PseudoLabeled_1301_1350.json', 'data_PseudoLabeled_1251_1300.json', 'data_PseudoLabeled_1201_1250.json', 'data_PseudoLabeled_1651_1700.json', 'data_PseudoLabeled_1601_1650.json', 'data_PseudoLabeled_1551_1600.json', 'data_PseudoLabeled_1501_1550.json', 'data_PseudoLabeled_1451_1500.json', 'data_PseudoLabeled_1751_1800.json', 'data_PseudoLabeled_1701_1750.json']\n",
            "[0. 0. 0. 0. 1. 0. 1. 1. 0. 0. 0. 0. 0. 0. 1. 0. 0. 1. 0. 1. 0. 0. 0. 0.\n",
            " 1. 1. 0. 1. 1. 1. 1. 0. 1. 0. 1. 0. 0. 0. 0. 1. 0. 0. 1. 1. 0. 0. 0. 1.\n",
            " 0. 0. 0. 1. 0. 1. 1. 0. 0. 1. 0. 1. 1. 0. 1. 1. 1. 0. 1. 1. 0. 1. 1. 0.\n",
            " 0. 0. 1. 0. 0. 0. 0. 0. 1. 1. 1. 0. 0. 0. 1. 1. 0. 0. 1. 1. 0. 1. 0. 1.\n",
            " 0. 0. 0. 0. 1. 1. 0. 0. 1. 1. 1. 1. 0. 1. 0. 1. 0. 1. 1. 0. 1. 1. 1. 1.\n",
            " 0. 0. 0. 0. 1. 0. 0. 0. 0. 0. 1. 0. 0. 0. 0. 1. 1. 1. 1. 0. 0. 0. 0. 1.\n",
            " 0. 0. 0. 0. 1. 1. 1. 0. 1. 0. 0. 0. 0. 1. 0. 0. 1. 0. 1. 1. 0. 0. 1. 1.\n",
            " 0. 0. 0. 0. 0. 0. 0. 1. 1. 0. 0. 0. 1. 0. 0. 0. 1. 0. 1. 0. 1. 1. 0. 1.\n",
            " 1. 0. 0. 0. 1. 0. 1. 1. 1. 1. 1. 0. 0. 0. 0. 0. 0. 0. 0. 1. 0. 0. 0. 0.\n",
            " 0. 1. 0. 0. 0. 0. 1. 0. 0. 1. 1. 0. 0. 0. 0. 0. 1. 1. 0. 1. 0. 1. 0. 1.\n",
            " 0. 0. 0. 0. 1. 1. 1. 1. 1. 0. 1. 0. 0. 0. 0. 1. 0. 0. 0. 0. 1. 0. 1. 1.\n",
            " 0. 0. 0. 0. 0. 0. 1. 0. 0. 1. 1. 0. 0. 1. 1. 1. 1. 0. 1. 0. 1. 0. 1. 0.\n",
            " 0. 0. 1. 1. 0. 0. 0. 0. 1. 0. 0. 1. 0. 1. 0. 0. 0. 1. 1. 0. 1. 1. 0. 1.\n",
            " 0. 0. 0. 0. 1. 0. 0. 1. 0. 0. 0. 0. 1. 1. 1. 0. 1. 1. 0. 0. 0. 0. 0. 0.\n",
            " 1. 0. 1. 0. 0. 1. 0. 0. 1. 0. 1. 0. 0. 0. 0. 1. 0. 0. 0. 0. 1. 1. 0. 1.\n",
            " 1. 0. 0. 0. 0. 1. 0. 1. 0. 0. 1. 1. 0. 0. 0. 0. 1. 1. 0. 1. 0. 1. 0. 0.\n",
            " 0. 1. 0. 0. 0. 0. 0. 0. 1. 0. 0. 0. 1. 0. 0. 0. 0. 1. 0. 1. 0. 1. 0. 0.\n",
            " 0. 0. 1. 1. 0. 0. 0. 1. 0. 1. 1. 1. 0. 1. 1. 1. 1. 0. 0. 1. 0. 1. 0. 0.\n",
            " 1. 0. 0. 0. 0. 1. 0. 1. 1. 0. 0. 0. 0. 0. 0. 0. 1. 0. 1. 0. 1. 0. 0. 1.\n",
            " 0. 0. 0. 1. 0. 1. 0. 0. 0. 0. 0. 1. 1. 0. 1. 0. 0. 0. 0. 0. 0. 1. 0. 1.\n",
            " 0. 0. 1. 0. 0. 0. 1. 0. 0. 0. 0. 0. 0. 0. 0. 0. 0. 0. 0. 0. 1. 1. 0. 1.\n",
            " 0. 0. 0. 1. 0. 1. 1. 0. 0. 1. 1. 1. 1. 0. 0. 1. 1. 1. 1. 0. 0. 0. 0. 0.\n",
            " 1. 1. 1. 0. 0. 1. 0. 1. 1. 1. 1. 0. 0. 1. 0. 0. 1. 0. 0. 0. 1. 1. 0. 0.\n",
            " 1. 0. 1. 0. 0. 1. 0. 0. 1. 1. 1. 0. 0. 1. 0. 0. 0. 1. 1. 1. 1. 0. 0. 0.\n",
            " 0. 0. 0. 0. 1. 1. 0. 0. 1. 0. 1. 0. 0. 1. 1. 0. 1. 0. 0. 1. 0. 0. 0. 0.\n",
            " 0. 1. 1. 0. 0. 0. 0. 0. 0. 1. 1. 1. 0. 1. 0. 0. 1. 0. 1. 1. 0. 1. 1. 1.\n",
            " 0. 0. 0. 0. 0. 0. 0. 0. 1. 1. 0. 1. 0. 0. 0. 0. 1. 1. 1. 0. 0. 1. 1. 1.\n",
            " 0. 1. 0. 1. 1. 0. 0. 0. 1. 0. 1. 0. 0. 1. 0. 0. 1. 1. 1. 0. 0. 0. 0. 1.\n",
            " 0. 1. 0. 0. 1. 0. 0. 1. 0. 0. 0. 1. 0. 0. 0. 1. 1. 1. 0. 0. 1. 1. 1. 0.\n",
            " 1. 1. 0. 0. 1. 1. 0. 1. 0. 1. 1. 1. 0. 1. 0. 0. 1. 1. 1. 0. 0. 1. 0. 1.\n",
            " 0. 1. 1. 0. 1. 1. 0. 0. 0. 1. 1. 0. 1. 0. 1. 1. 0. 1. 0. 1. 0. 1. 0. 0.\n",
            " 0. 0. 0. 0. 0. 0. 1. 0. 0. 1. 0. 0. 1. 0. 0. 0. 0. 1. 0. 0. 1. 0. 0. 0.\n",
            " 1. 1. 0. 0. 1. 1. 0. 0. 0. 0. 0. 0. 0. 0. 0. 0. 1. 0. 1. 0. 0. 0. 1. 0.\n",
            " 0. 1. 1. 0. 0. 0. 0. 1. 1. 0. 0. 0. 0. 0. 0. 0. 1. 0. 0. 0. 1. 0. 0. 0.\n",
            " 1. 1. 1. 1. 0. 0. 0. 0. 0. 1. 1. 0. 0. 0. 0. 1. 0. 1. 0. 1. 1. 0. 0. 0.\n",
            " 1. 0. 0. 0. 0. 1. 0. 1. 0. 0. 1. 1. 1. 1. 0. 1. 1. 0. 0. 0. 0. 0. 1. 0.\n",
            " 1. 1. 0. 1. 0. 1. 0. 0. 0. 1. 0. 1. 1. 0. 0. 1. 1. 0. 1. 1. 0. 0. 0. 1.\n",
            " 0. 1. 0. 0. 1. 0. 1. 0. 1. 0. 0. 0. 1. 0. 1. 1. 0. 1. 0. 0. 0. 0. 0. 1.\n",
            " 1. 1. 1. 0. 0. 1. 1. 1. 1. 0. 1. 1. 1. 0. 1. 0. 1. 1. 1. 0. 0. 0. 0. 1.\n",
            " 1. 0. 0. 1. 1. 1. 1. 1. 1. 0. 0. 1. 0. 1. 1. 1. 0. 1. 0. 0. 1. 0. 0. 1.\n",
            " 1. 0. 0. 0. 1. 0. 0. 0. 1. 1. 0. 1. 0. 0. 1. 1. 0. 0. 0. 1. 0. 0. 1. 0.\n",
            " 0. 1. 0. 0. 0. 1. 0. 1. 1. 0. 0. 1. 0. 0. 1. 0. 0. 0. 1. 1. 1. 0. 1. 0.\n",
            " 0. 1. 1. 0. 0. 1. 1. 0. 1. 1. 1. 0. 0. 0. 0. 0. 1. 1. 0. 0. 0. 0. 1. 1.\n",
            " 1. 1. 1. 0. 0. 0. 1. 1. 0. 1. 0. 0. 1. 0. 1. 1. 0. 1. 1. 1. 1. 0. 0. 0.\n",
            " 0. 0. 0. 1. 1. 0. 0. 0. 1. 1. 0. 0. 0. 1. 1. 0. 1. 0. 1. 1. 1. 1. 0. 1.\n",
            " 0. 1. 1. 0. 0. 0. 0. 1. 0. 0. 0. 0. 0. 1. 1. 0. 0. 0. 1. 1. 0. 0. 1. 1.\n",
            " 0. 0. 0. 1. 1. 1. 0. 0. 0. 0. 0. 1. 1. 1. 0. 1. 1. 0. 1. 0. 0. 0. 0. 1.\n",
            " 0. 1. 0. 1. 0. 1. 1. 0. 0. 1. 0. 1. 0. 0. 1. 1. 0. 1. 0. 0. 0. 1. 0. 0.\n",
            " 1. 1. 0. 0. 1. 0. 0. 1. 0. 1. 1. 0. 1. 0. 1. 0. 0. 1. 1. 0. 1. 0. 1. 1.\n",
            " 0. 1. 0. 1. 0. 0. 0. 0. 1. 1. 0. 0. 1. 0. 1. 0. 0. 0. 0. 0. 1. 0. 0. 1.\n",
            " 0. 0. 0. 0. 0. 0. 1. 1. 0. 0. 0. 1. 1. 1. 1. 1. 1. 1. 0. 0. 0. 0. 1. 1.\n",
            " 1. 0. 0. 0. 0. 1. 1. 0. 0. 0. 0. 0. 0. 0. 0. 0. 1. 0. 0. 1. 1. 0. 1. 0.\n",
            " 0. 1. 1. 1. 1. 1. 0. 1. 0. 1. 1. 1. 0. 0. 1. 1. 1. 0. 0. 0. 0. 0. 0. 0.\n",
            " 0. 1. 0. 1. 0. 1. 0. 1. 0. 0. 0. 0. 1. 0. 1. 0. 1. 1. 0. 0. 0. 0. 1. 1.\n",
            " 1. 0. 0. 0. 1. 0. 0. 1. 0. 0. 1. 1. 0. 0. 0. 1. 1. 1. 0. 0. 0. 0. 1. 0.\n",
            " 1. 0. 0. 1. 0. 0. 0. 0. 1. 0. 0. 1. 0. 0. 1. 0. 1. 0. 0. 0. 0. 1. 0. 1.\n",
            " 0. 0. 0. 1. 0. 0. 0. 1. 1. 0. 0. 0. 0. 1. 0. 1. 0. 1. 1. 0. 0. 0. 1. 0.\n",
            " 1. 1. 0. 0. 1. 0. 0. 0. 0. 0. 0. 1. 1. 1. 1. 0. 0. 0. 1. 1. 1. 0. 1. 1.\n",
            " 0. 0. 0. 0. 1. 0. 1. 1. 0. 0. 1. 1. 0. 1. 1. 0. 1. 1. 1. 0. 0. 1. 0. 0.\n",
            " 1. 0. 0. 1. 0. 0. 1. 0. 0. 1. 1. 0. 1. 0. 0. 1. 0. 1. 0. 1. 1. 1. 0. 1.\n",
            " 1. 1. 0. 1. 0. 1. 1. 1. 1. 1. 0. 0. 0. 0. 1. 1. 0. 1. 1. 0. 0. 0. 1. 1.\n",
            " 0. 1. 0. 1. 1. 0. 1. 1. 0. 0. 0. 1. 0. 0. 0. 0. 1. 0. 0. 1. 1. 0. 1. 1.\n",
            " 0. 0. 0. 0. 0. 1. 0. 0. 1. 0. 0. 1. 1. 0. 1. 0. 1. 0. 1. 0. 1. 0. 0. 0.\n",
            " 0. 0. 0. 0. 0. 0. 1. 1. 1. 1. 1. 0. 0. 1. 0. 0. 1. 0. 0. 1. 0. 0. 1. 1.\n",
            " 0. 1. 0. 1. 0. 0. 1. 1. 1. 1. 0. 1. 0. 0. 1. 0. 0. 0. 0. 0. 0. 0. 1. 0.\n",
            " 1. 0. 1. 0. 0. 0. 0. 1. 0. 1. 1. 1. 0. 0. 1. 1. 0. 0. 1. 0. 1. 0. 0. 0.\n",
            " 0. 1. 1. 1. 0. 0. 0. 1. 0. 1. 0. 1. 0. 1. 1. 1. 0. 0. 1. 0. 0. 0. 0. 0.\n",
            " 0. 0. 0. 0. 0. 1. 1. 0. 1. 0. 0. 0. 1. 0. 1. 0. 0. 1. 1. 1. 0. 1. 1. 1.\n",
            " 1. 1. 1. 1. 1. 1. 0. 1. 0. 1. 0. 0. 0. 1. 0. 0. 1. 1. 1. 0. 0. 1. 1. 1.\n",
            " 1. 1. 1. 0. 1. 1. 0. 1. 1. 1. 1. 0. 0. 0. 0. 0. 1. 1. 0. 1. 1. 0. 0. 1.\n",
            " 0. 0. 0. 0. 0. 0. 1. 1. 1. 0. 1. 1. 0. 0. 0. 0. 0. 1. 1. 0. 0. 1. 1. 1.\n",
            " 0. 1. 0. 0. 0. 0. 0. 1. 0. 0. 0. 1. 0. 0. 0. 0. 1. 0. 1. 0. 1. 0. 0. 1.\n",
            " 1. 0. 0. 0. 1. 0. 1. 0. 0. 0. 1. 0. 0. 1. 0. 0. 0. 1. 0. 0. 1. 0. 0. 0.\n",
            " 0. 0. 1. 0. 1. 0. 0. 0. 1. 1. 0. 1. 0. 0. 0. 0. 0. 0. 0. 0. 0. 1. 1. 0.\n",
            " 0. 0. 0. 1. 1. 0. 1. 0. 1. 0. 1. 0. 1. 0. 0. 0. 1. 0. 0. 0. 1. 1. 0. 0.\n",
            " 0. 0. 0. 1. 0. 0. 1. 0. 0. 0. 0. 0. 0. 0. 0. 0. 1. 0. 1. 0. 0. 1. 0. 0.\n",
            " 0. 0. 1. 1. 1. 1. 1. 0. 0. 0. 1. 1. 1. 0. 0. 1. 0. 1. 0. 1. 1. 0. 0. 0.\n",
            " 1. 1. 0. 0. 0. 0. 0. 1. 0. 0. 1. 1. 0. 1. 0. 0. 1. 0. 1. 1. 0. 0. 0. 0.\n",
            " 1. 1. 0. 0. 1. 0. 0. 1. 1. 1. 1. 0. 0. 1. 1. 0. 0. 0. 0. 0. 1. 0. 0. 0.\n",
            " 0. 1. 0. 1. 1. 0. 1. 0. 1. 0. 0. 0. 1. 0. 1. 0. 1. 1. 1. 0. 0. 0. 0. 0.\n",
            " 0. 1. 0. 1. 1. 0. 1. 0. 1. 1. 0. 0. 0. 0. 0. 1. 0. 0. 1. 1. 1. 0. 0. 0.\n",
            " 0. 1. 0. 0. 1. 0. 0. 1. 0. 0. 1. 1. 1. 1. 1. 0. 0. 1. 0. 1. 1. 0. 0. 0.\n",
            " 1. 0. 0. 0. 0. 1. 0. 0. 1. 0. 1. 0. 1. 1. 1. 1. 1. 1. 0. 1. 1. 0. 0. 1.\n",
            " 1. 1. 0. 0. 0. 1. 0. 0. 0. 0. 0. 1. 1. 0. 0. 0. 0. 0. 1. 1. 1. 0. 0. 1.\n",
            " 1. 0. 0. 0. 0. 1. 0. 1. 0. 1. 0. 1. 1. 1. 1. 0. 0. 0. 0. 1. 0. 0. 1. 1.\n",
            " 1. 0. 0. 0. 0. 0. 1. 1. 1. 1. 1. 1. 0. 0. 1. 0. 0. 0. 1. 1. 0. 0. 1. 0.\n",
            " 1. 0. 0. 0. 1. 0. 0. 0. 0. 1. 0. 0. 0. 0. 1. 1. 1. 0. 1. 1. 0. 0. 0. 0.\n",
            " 1. 0. 1. 0. 0. 1. 0. 0. 0. 1. 1. 0. 1. 0. 0. 1. 0. 1. 1. 0. 0. 1. 0. 0.\n",
            " 0. 0. 0. 1. 1. 0. 1. 0. 0. 0. 0. 0. 1. 1. 1. 0. 0. 0. 0. 0. 0. 1. 0. 0.\n",
            " 0. 1. 0. 1. 1. 0. 0. 0. 0. 0. 1. 0. 0. 1. 1. 0. 0. 1. 1. 0. 0. 1. 1. 1.\n",
            " 0. 0. 1. 1. 0. 1. 1. 0. 1. 1. 1. 1. 1. 0. 0. 0. 1. 1. 1. 0. 0. 0. 1. 0.\n",
            " 0. 1. 0. 0. 1. 1. 0. 1. 0. 1. 0. 1. 1. 1. 1. 0. 1. 1. 0. 1. 1. 1. 1. 0.\n",
            " 1. 0. 1. 1. 0. 0. 0. 1. 1. 0. 0. 1. 1. 0. 1. 0. 1. 1. 0. 0. 0. 1. 0. 1.\n",
            " 0. 1. 0. 1. 1. 1. 1. 1. 0. 0. 0. 0. 1. 1. 1. 0. 0. 1. 0. 1. 0. 0. 1. 0.\n",
            " 1. 1. 0. 0. 0. 0. 1. 1. 1. 1. 1. 1. 1. 0. 1. 1. 1. 1. 0. 1. 0. 1. 0. 0.\n",
            " 1. 1. 0. 0. 0. 1. 0. 0. 1. 0. 0. 0. 1. 0. 1. 0. 1. 1. 0. 0. 1. 1. 1. 0.\n",
            " 1. 0. 0. 0. 0. 0. 1. 1. 0. 1. 1. 1. 0. 0. 0. 0. 0. 1. 0. 1. 0. 1. 0. 1.\n",
            " 1. 1. 1. 1. 0. 0. 0. 0. 0. 1. 1. 0. 1. 1. 1. 0. 1. 0. 0. 0. 1. 0. 1. 0.\n",
            " 0. 1. 0. 1. 1. 1. 1. 1. 0. 1. 0. 0. 1. 0. 0. 1. 1. 0. 0. 1. 1. 1. 0. 0.\n",
            " 1. 0. 1. 0. 1. 0. 0. 1. 0. 0. 0. 0. 1. 0. 1. 0. 1. 0. 0. 0. 0. 0. 0. 0.\n",
            " 0. 0. 0. 1. 0. 0. 1. 1. 0. 1. 0. 0. 1. 1. 0. 1. 0. 0. 0. 1. 1. 0. 0. 0.\n",
            " 0. 1. 1. 0. 0. 0. 0. 1. 0. 0. 1. 1. 1. 0. 0. 1. 1. 0. 1. 0. 0. 1. 1. 0.\n",
            " 0. 0. 0. 0. 1. 1. 1. 0. 0. 0. 1. 1. 1. 0. 0. 0. 1. 0. 0. 0. 0. 0. 1. 0.\n",
            " 0. 0. 0. 1. 1. 1. 1. 0. 0. 1. 1. 1. 1. 0. 0. 0. 0. 0. 1. 1. 0. 0. 0. 1.\n",
            " 0. 0. 0. 0. 1. 1. 0. 0. 0. 1. 0. 0. 0. 1. 0. 0. 1. 1. 1. 1. 1. 0. 0. 0.\n",
            " 0. 0. 1. 0. 1. 1. 1. 0. 0. 0. 0. 0. 1. 1. 0. 0. 0. 1. 1. 0. 0. 0. 1. 0.\n",
            " 1. 0. 0. 1. 1. 0. 1. 0. 1. 1. 1. 0. 0. 0. 0. 0. 0. 0. 1. 1. 1. 0. 0. 0.\n",
            " 1. 0. 0. 1. 1. 0. 1. 1. 0. 1. 1. 1. 0. 1. 0. 1. 1. 1. 0. 0. 0. 0. 0. 0.\n",
            " 1. 0. 1. 0. 1. 1. 0. 1. 1. 0. 1. 1. 0. 1. 0. 0. 0. 1. 1. 0. 1. 1. 1. 0.\n",
            " 0. 0. 1. 1. 1. 1. 0. 0. 1. 0. 0. 0. 1. 0. 1. 1. 1. 0. 0. 0. 0. 1. 1. 0.\n",
            " 0. 0. 0. 1. 0. 0. 0. 1. 1. 0. 0. 0. 0. 0. 1. 1. 0. 1. 1. 1. 1. 0. 1. 1.\n",
            " 1. 0. 1. 1. 1. 0. 0. 1. 0. 0. 0. 1. 0. 0. 0. 0. 0. 1. 0. 0. 0. 1. 0. 1.\n",
            " 0. 1. 0. 1. 1. 0. 0. 0. 0. 0. 0. 1. 1. 0. 1. 1. 0. 1. 1. 0. 0. 0. 0. 0.\n",
            " 1. 0. 0. 1. 0. 0. 0. 1. 0. 0. 0. 1. 1. 0. 1. 0. 0. 0. 0. 0. 0. 0. 0. 0.\n",
            " 1. 0. 0. 1. 0. 0. 1. 1. 0. 1. 1. 1. 0. 1. 1. 0. 1. 1. 1. 0. 1. 0. 0. 1.\n",
            " 0. 0. 0. 1. 0. 0. 1. 0. 0. 1. 1. 1. 0. 1. 0. 1. 0. 1. 1. 0. 1. 1. 0. 1.\n",
            " 0. 0. 1. 0. 0. 0. 1. 0. 1. 0. 0. 1. 1. 0. 1. 1. 0. 0. 0. 0. 0. 0. 1. 0.\n",
            " 0. 1. 1. 0. 0. 1. 0. 0. 0. 1. 0. 0. 0. 0. 1. 0. 0. 0. 1. 0. 0. 0. 0. 0.\n",
            " 1. 1. 1. 1. 1. 0. 1. 0. 0. 0. 0. 1. 0. 0. 0. 1. 0. 0. 1. 0. 0. 0. 0. 0.\n",
            " 0. 0. 1. 1. 0. 0. 0. 0. 1. 1. 0. 0. 0. 0. 0. 0. 0. 1. 0. 0. 1. 0. 1. 1.\n",
            " 0. 0. 0. 0. 0. 0. 1.]\n",
            "(2887, 1575)\n",
            "(2887,)\n",
            "[0. 0. 0. ... 0. 0. 1.]\n",
            "[[0.35586455 0.34484789 0.27427834 ... 0.         0.         0.        ]\n",
            " [0.         0.         0.         ... 0.         0.         0.        ]\n",
            " [0.90647501 0.43342301 0.51610947 ... 0.         0.         0.        ]\n",
            " ...\n",
            " [0.28807229 0.29762694 0.63411182 ... 0.         0.         0.        ]\n",
            " [0.6837284  0.31545043 0.62853092 ... 0.         0.         0.        ]\n",
            " [0.         0.         0.         ... 0.         0.         0.        ]]\n"
          ]
        }
      ],
      "source": [
        "#import json files 1575\n",
        "\n",
        "import os\n",
        "import json\n",
        "import numpy as np\n",
        "from sklearn.utils import shuffle\n",
        "\n",
        "PATH = \"/content.gdrive/MyDrive/Datasets_1575\"\n",
        "sets = []\n",
        "try:\n",
        "    sets = next(os.walk(PATH))[2]\n",
        "except StopIteration:\n",
        "    pass\n",
        "\n",
        "print(sets)\n",
        "X = np.empty(shape=(0,1575))\n",
        "y = np.empty(shape=0)\n",
        "\n",
        "\n",
        "\n",
        "for path in sets:\n",
        "    path = PATH + '/' + path\n",
        "    with open(path, \"r\") as fp:\n",
        "        data1 = json.load(fp)\n",
        "\n",
        "    # convert lists to numpy arrays\n",
        "    X1 = np.array(data1[\"keypoints\"])\n",
        "    #X = np.array(data[\"mfcc\"])\n",
        "    y1 = np.array(data1[\"labels\"])\n",
        "\n",
        "    X = np.concatenate((X,X1), axis=0)\n",
        "    y = np.concatenate((y,y1), axis=0)\n",
        "X,y = shuffle(X,y)\n",
        "with np.printoptions(threshold=np.inf):\n",
        "    print(y)\n",
        "\n",
        "print(X.shape)\n",
        "print(y.shape)\n",
        "print(y)\n",
        "print(X)"
      ]
    },
    {
      "cell_type": "code",
      "source": [
        "# 50:50 verteilung\n",
        "counter = 0\n",
        "index0 = []\n",
        "for i,x in enumerate(np.nditer(y)):\n",
        "  if x == 0 and counter <470:\n",
        "      counter+=1\n",
        "      index0.append(i)\n",
        "\n",
        "print(counter)\n",
        "print(index0)\n",
        "X = np.delete(X, index0, 0)\n",
        "y = np.delete(y, index0, None)\n",
        "\n",
        "print(X.shape)\n",
        "print(y.shape)\n",
        "print(y)\n",
        "print(X)"
      ],
      "metadata": {
        "colab": {
          "base_uri": "https://localhost:8080/"
        },
        "id": "EH6BbA8X3j7X",
        "outputId": "7f1df7a4-cd19-4ea0-d135-d7ab8e98ba0b"
      },
      "execution_count": 43,
      "outputs": [
        {
          "output_type": "stream",
          "name": "stdout",
          "text": [
            "470\n",
            "[0, 1, 2, 3, 5, 8, 9, 10, 11, 12, 13, 15, 16, 18, 20, 21, 22, 23, 26, 31, 33, 35, 36, 37, 38, 40, 41, 44, 45, 46, 48, 49, 50, 52, 55, 56, 58, 61, 65, 68, 71, 72, 73, 75, 76, 77, 78, 79, 83, 84, 85, 88, 89, 92, 94, 96, 97, 98, 99, 102, 103, 108, 110, 112, 115, 120, 121, 122, 123, 125, 126, 127, 128, 129, 131, 132, 133, 134, 139, 140, 141, 142, 144, 145, 146, 147, 151, 153, 154, 155, 156, 158, 159, 161, 164, 165, 168, 169, 170, 171, 172, 173, 174, 177, 178, 179, 181, 182, 183, 185, 187, 190, 193, 194, 195, 197, 203, 204, 205, 206, 207, 208, 209, 210, 212, 213, 214, 215, 216, 218, 219, 220, 221, 223, 224, 227, 228, 229, 230, 231, 234, 236, 238, 240, 241, 242, 243, 249, 251, 252, 253, 254, 256, 257, 258, 259, 261, 264, 265, 266, 267, 268, 269, 271, 272, 275, 276, 281, 283, 285, 287, 288, 289, 292, 293, 294, 295, 297, 298, 300, 302, 303, 304, 307, 310, 312, 313, 314, 315, 317, 318, 320, 321, 322, 323, 327, 330, 331, 332, 333, 334, 335, 337, 339, 340, 342, 343, 345, 347, 348, 349, 350, 352, 353, 354, 355, 358, 361, 362, 363, 364, 366, 368, 369, 372, 373, 374, 375, 378, 380, 382, 383, 384, 386, 387, 388, 389, 390, 391, 393, 394, 395, 397, 398, 399, 400, 402, 404, 406, 407, 408, 409, 412, 413, 414, 416, 420, 425, 426, 428, 430, 431, 433, 434, 435, 436, 438, 441, 442, 443, 444, 445, 446, 447, 449, 451, 453, 454, 456, 457, 458, 460, 462, 463, 464, 465, 466, 469, 471, 472, 473, 474, 475, 476, 478, 480, 481, 483, 484, 485, 487, 488, 489, 490, 491, 492, 493, 494, 495, 496, 497, 498, 499, 502, 504, 505, 506, 508, 511, 512, 517, 518, 523, 524, 525, 526, 527, 531, 532, 534, 539, 540, 542, 543, 545, 546, 547, 550, 551, 553, 555, 556, 558, 559, 563, 564, 566, 567, 568, 573, 574, 575, 576, 577, 578, 579, 582, 583, 585, 587, 588, 591, 593, 594, 596, 597, 598, 599, 600, 603, 604, 605, 606, 607, 608, 612, 614, 615, 617, 620, 624, 625, 626, 627, 628, 629, 630, 631, 634, 636, 637, 638, 639, 643, 644, 648, 650, 653, 654, 655, 657, 659, 660, 662, 663, 667, 668, 669, 670, 672, 674, 675, 677, 678, 680, 681, 682, 684, 685, 686, 690, 691, 695, 698, 699, 702, 704, 708, 710, 711, 715, 716, 718, 720, 723, 726, 727, 728, 731, 733, 736, 738, 740, 742, 743, 744, 745, 746, 747, 748, 749, 751, 752, 754, 755, 757, 758, 759, 760, 762, 763, 765, 766, 767, 770, 771, 774, 775, 776, 777]\n",
            "(2417, 1575)\n",
            "(2417,)\n",
            "[1. 1. 1. ... 0. 0. 1.]\n",
            "[[0.         0.         0.         ... 0.7663154  0.70045376 0.54305494]\n",
            " [0.         0.         0.         ... 0.4003357  0.7729798  0.50986212]\n",
            " [0.32865325 0.34621921 0.15189709 ... 0.64764446 0.74034655 0.25120717]\n",
            " ...\n",
            " [0.28807229 0.29762694 0.63411182 ... 0.         0.         0.        ]\n",
            " [0.6837284  0.31545043 0.62853092 ... 0.         0.         0.        ]\n",
            " [0.         0.         0.         ... 0.         0.         0.        ]]\n"
          ]
        }
      ]
    },
    {
      "cell_type": "code",
      "execution_count": 44,
      "metadata": {
        "colab": {
          "base_uri": "https://localhost:8080/"
        },
        "id": "tyNWtLCwGbNG",
        "outputId": "ad1d1b47-1098-44f1-9ce1-5033428bee61"
      },
      "outputs": [
        {
          "output_type": "stream",
          "name": "stdout",
          "text": [
            "(2417, 1575)\n",
            "1119702\n",
            "[45, 46, 47, 48, 49, 50, 51, 52, 53, 54, 55, 56, 57, 58, 59, 60, 61, 62, 63, 64, 65, 66, 67, 68, 69, 70, 71, 72, 73, 74, 120, 121, 122, 123, 124, 125, 126, 127, 128, 129, 130, 131, 132, 133, 134, 135, 136, 137, 138, 139, 140, 141, 142, 143, 144, 145, 146, 147, 148, 149, 195, 196, 197, 198, 199, 200, 201, 202, 203, 204, 205, 206, 207, 208, 209, 210, 211, 212, 213, 214, 215, 216, 217, 218, 219, 220, 221, 222, 223, 224, 270, 271, 272, 273, 274, 275, 276, 277, 278, 279, 280, 281, 282, 283, 284, 285, 286, 287, 288, 289, 290, 291, 292, 293, 294, 295, 296, 297, 298, 299, 345, 346, 347, 348, 349, 350, 351, 352, 353, 354, 355, 356, 357, 358, 359, 360, 361, 362, 363, 364, 365, 366, 367, 368, 369, 370, 371, 372, 373, 374, 420, 421, 422, 423, 424, 425, 426, 427, 428, 429, 430, 431, 432, 433, 434, 435, 436, 437, 438, 439, 440, 441, 442, 443, 444, 445, 446, 447, 448, 449, 495, 496, 497, 498, 499, 500, 501, 502, 503, 504, 505, 506, 507, 508, 509, 510, 511, 512, 513, 514, 515, 516, 517, 518, 519, 520, 521, 522, 523, 524, 570, 571, 572, 573, 574, 575, 576, 577, 578, 579, 580, 581, 582, 583, 584, 585, 586, 587, 588, 589, 590, 591, 592, 593, 594, 595, 596, 597, 598, 599, 645, 646, 647, 648, 649, 650, 651, 652, 653, 654, 655, 656, 657, 658, 659, 660, 661, 662, 663, 664, 665, 666, 667, 668, 669, 670, 671, 672, 673, 674, 720, 721, 722, 723, 724, 725, 726, 727, 728, 729, 730, 731, 732, 733, 734, 735, 736, 737, 738, 739, 740, 741, 742, 743, 744, 745, 746, 747, 748, 749, 795, 796, 797, 798, 799, 800, 801, 802, 803, 804, 805, 806, 807, 808, 809, 810, 811, 812, 813, 814, 815, 816, 817, 818, 819, 820, 821, 822, 823, 824, 870, 871, 872, 873, 874, 875, 876, 877, 878, 879, 880, 881, 882, 883, 884, 885, 886, 887, 888, 889, 890, 891, 892, 893, 894, 895, 896, 897, 898, 899, 945, 946, 947, 948, 949, 950, 951, 952, 953, 954, 955, 956, 957, 958, 959, 960, 961, 962, 963, 964, 965, 966, 967, 968, 969, 970, 971, 972, 973, 974, 1020, 1021, 1022, 1023, 1024, 1025, 1026, 1027, 1028, 1029, 1030, 1031, 1032, 1033, 1034, 1035, 1036, 1037, 1038, 1039, 1040, 1041, 1042, 1043, 1044, 1045, 1046, 1047, 1048, 1049, 1095, 1096, 1097, 1098, 1099, 1100, 1101, 1102, 1103, 1104, 1105, 1106, 1107, 1108, 1109, 1110, 1111, 1112, 1113, 1114, 1115, 1116, 1117, 1118, 1119, 1120, 1121, 1122, 1123, 1124, 1170, 1171, 1172, 1173, 1174, 1175, 1176, 1177, 1178, 1179, 1180, 1181, 1182, 1183, 1184, 1185, 1186, 1187, 1188, 1189, 1190, 1191, 1192, 1193, 1194, 1195, 1196, 1197, 1198, 1199, 1245, 1246, 1247, 1248, 1249, 1250, 1251, 1252, 1253, 1254, 1255, 1256, 1257, 1258, 1259, 1260, 1261, 1262, 1263, 1264, 1265, 1266, 1267, 1268, 1269, 1270, 1271, 1272, 1273, 1274, 1320, 1321, 1322, 1323, 1324, 1325, 1326, 1327, 1328, 1329, 1330, 1331, 1332, 1333, 1334, 1335, 1336, 1337, 1338, 1339, 1340, 1341, 1342, 1343, 1344, 1345, 1346, 1347, 1348, 1349, 1395, 1396, 1397, 1398, 1399, 1400, 1401, 1402, 1403, 1404, 1405, 1406, 1407, 1408, 1409, 1410, 1411, 1412, 1413, 1414, 1415, 1416, 1417, 1418, 1419, 1420, 1421, 1422, 1423, 1424, 1470, 1471, 1472, 1473, 1474, 1475, 1476, 1477, 1478, 1479, 1480, 1481, 1482, 1483, 1484, 1485, 1486, 1487, 1488, 1489, 1490, 1491, 1492, 1493, 1494, 1495, 1496, 1497, 1498, 1499, 1545, 1546, 1547, 1548, 1549, 1550, 1551, 1552, 1553, 1554, 1555, 1556, 1557, 1558, 1559, 1560, 1561, 1562, 1563, 1564, 1565, 1566, 1567, 1568, 1569, 1570, 1571, 1572, 1573, 1574]\n",
            "(2417, 945)\n",
            "570966\n"
          ]
        }
      ],
      "source": [
        "# Relevante KP 945\n",
        "#with np.printoptions(threshold=np.inf):\n",
        "    #print(X[0])\n",
        "print(X.shape)\n",
        "counter_alt =0\n",
        "for x in X:\n",
        "  for k in x:\n",
        "      if k == 0:\n",
        "          counter_alt+= 1\n",
        "\n",
        "print(counter_alt)\n",
        "\n",
        "delete_index = []\n",
        "for i in range(21):\n",
        "    liste = [*range(45+(i*75),75+(i*75),1)]\n",
        "    delete_index.append(liste)\n",
        "\n",
        "flat_list = [item for sublist in delete_index for item in sublist]\n",
        "\n",
        "print(flat_list)\n",
        "X = np.delete(X, delete_index, axis=1)\n",
        "\n",
        "\n",
        "\n",
        "print(X.shape)\n",
        "#with np.printoptions(threshold=np.inf):\n",
        "    #print(X[0])\n",
        "\n",
        "counter_neu =0\n",
        "for x in X:\n",
        "  for k in x:\n",
        "      if k == 0:\n",
        "          counter_neu+= 1\n",
        "print(counter_neu)"
      ]
    },
    {
      "cell_type": "code",
      "source": [
        "co=0\n",
        "for x in y:\n",
        "    if x ==0:\n",
        "      co+=1\n",
        "\n",
        "print(co)\n"
      ],
      "metadata": {
        "colab": {
          "base_uri": "https://localhost:8080/"
        },
        "id": "zdnTMR3Nc0QT",
        "outputId": "03a372c7-0010-46a6-ca67-6f64ee12f968"
      },
      "execution_count": 45,
      "outputs": [
        {
          "output_type": "stream",
          "name": "stdout",
          "text": [
            "1209\n"
          ]
        }
      ]
    },
    {
      "cell_type": "code",
      "execution_count": 7,
      "metadata": {
        "colab": {
          "base_uri": "https://localhost:8080/"
        },
        "id": "Wk8FLAY_qCDE",
        "outputId": "175aae86-70c0-46fe-9fe8-99eecb4532d0"
      },
      "outputs": [
        {
          "output_type": "stream",
          "name": "stdout",
          "text": [
            "Collecting tensorflow-addons\n",
            "  Downloading tensorflow_addons-0.16.1-cp37-cp37m-manylinux_2_12_x86_64.manylinux2010_x86_64.whl (1.1 MB)\n",
            "\u001b[K     |████████████████████████████████| 1.1 MB 5.3 MB/s \n",
            "\u001b[?25hRequirement already satisfied: typeguard>=2.7 in /usr/local/lib/python3.7/dist-packages (from tensorflow-addons) (2.7.1)\n",
            "Installing collected packages: tensorflow-addons\n",
            "Successfully installed tensorflow-addons-0.16.1\n"
          ]
        }
      ],
      "source": [
        "\n",
        "!pip install -U tensorflow-addons"
      ]
    },
    {
      "cell_type": "code",
      "execution_count": 50,
      "metadata": {
        "colab": {
          "base_uri": "https://localhost:8080/"
        },
        "id": "qi9G7kXLoMoc",
        "outputId": "3d36f89c-9f22-491f-9ac0-6a9b4c202219"
      },
      "outputs": [
        {
          "output_type": "stream",
          "name": "stdout",
          "text": [
            "Model: \"sequential_14\"\n",
            "_________________________________________________________________\n",
            " Layer (type)                Output Shape              Param #   \n",
            "=================================================================\n",
            " dense_27 (Dense)            (None, 945, 1200)         2400      \n",
            "                                                                 \n",
            " conv1d_28 (Conv1D)          (None, 315, 32)           1728032   \n",
            "                                                                 \n",
            " dropout_42 (Dropout)        (None, 315, 32)           0         \n",
            "                                                                 \n",
            " conv1d_29 (Conv1D)          (None, 21, 64)            30784     \n",
            "                                                                 \n",
            " dropout_43 (Dropout)        (None, 21, 64)            0         \n",
            "                                                                 \n",
            " lstm_14 (LSTM)              (None, 21)                7224      \n",
            "                                                                 \n",
            " dropout_44 (Dropout)        (None, 21)                0         \n",
            "                                                                 \n",
            " dense_28 (Dense)            (None, 1)                 22        \n",
            "                                                                 \n",
            "=================================================================\n",
            "Total params: 1,768,462\n",
            "Trainable params: 1,768,462\n",
            "Non-trainable params: 0\n",
            "_________________________________________________________________\n"
          ]
        }
      ],
      "source": [
        "#Creating binary classification model 1575\n",
        "import json\n",
        "import numpy as np\n",
        "import tensorflow as tf\n",
        "from tensorflow import keras\n",
        "from tensorflow.keras.models import Sequential\n",
        "from tensorflow.keras.callbacks import EarlyStopping\n",
        "from tensorflow.keras.layers import Activation, Dense, Conv1D, Dropout, MaxPooling1D, LSTM, Conv2D, Flatten,GlobalMaxPooling1D, Reshape\n",
        "from tensorflow.keras.optimizers import Adam\n",
        "from tensorflow.keras.metrics import categorical_crossentropy, binary_crossentropy\n",
        "from sklearn.utils import shuffle\n",
        "import tensorflow_addons as tfa\n",
        "\n",
        "\n",
        "\n",
        "\n",
        "\n",
        "def Ranger(sync_period=6,\n",
        "           slow_step_size=0.5,\n",
        "           learning_rate=0.001,\n",
        "           beta_1=0.9,\n",
        "           beta_2=0.999,\n",
        "           epsilon=1e-7,\n",
        "           weight_decay=0.,\n",
        "           amsgrad=False,\n",
        "           sma_threshold=5.0,\n",
        "           total_steps=0,\n",
        "           warmup_proportion=0.1,\n",
        "           min_lr=0.,\n",
        "           name=\"Ranger\"):\n",
        "    inner = tfa.optimizers.RectifiedAdam(learning_rate, beta_1, beta_2, epsilon, weight_decay, amsgrad, sma_threshold, total_steps, warmup_proportion, min_lr, name)\n",
        "    optim = tfa.optimizers.Lookahead(inner, sync_period, slow_step_size, name)\n",
        "    return optim\n",
        "\n",
        "\n",
        "\n",
        "model = Sequential([\n",
        "    \n",
        "    Dense(units=1200, input_shape=(945,1), activation='relu'), \n",
        "    #Dense(units=1575, activation='relu'),\n",
        "    \n",
        "    #Reshape((945,1)),                   \n",
        "    Conv1D(filters=32, kernel_size=45, strides=3, padding='same', activation='relu'), # input_shape=(945,1),\n",
        "    Dropout(0.15),\n",
        "    Conv1D(filters=64, kernel_size=15, strides=15, padding='same', activation='relu'),\n",
        "    Dropout(0.15),\n",
        "    LSTM(21), #, return_sequences=True\n",
        "    Dropout(0.15),\n",
        "    Dense(units=1, activation='sigmoid') #sigmoid\n",
        "])\n",
        "\n",
        "save_callback = EarlyStopping(\n",
        "    monitor=\"val_accuracy\",\n",
        "    min_delta=0,\n",
        "    patience=50,\n",
        "    verbose=1,\n",
        "    mode=\"auto\",\n",
        "    baseline=None,\n",
        "    restore_best_weights=True,\n",
        ")\n",
        "def scheduler(epoche, lr):\n",
        "      if epoche < 2:\n",
        "          return lr\n",
        "      else:\n",
        "          return lr*0.97\n",
        "lr_scheduler = keras.callbacks.LearningRateScheduler(scheduler, verbose=1)\n",
        "#model.compile(optimizer=Adam(learning_rate=0.001), loss='binary_crossentropy', metrics=['accuracy'])\n",
        "model.compile(optimizer=Ranger(), loss='binary_crossentropy', metrics=['accuracy'])\n",
        "\n",
        "\n",
        "model.summary()\n",
        "\n"
      ]
    },
    {
      "cell_type": "code",
      "execution_count": 51,
      "metadata": {
        "colab": {
          "base_uri": "https://localhost:8080/",
          "height": 1000
        },
        "id": "VOEiMkStoTs9",
        "outputId": "7d1461b7-6a0f-4078-fcc4-a502c2bed87f"
      },
      "outputs": [
        {
          "output_type": "stream",
          "name": "stdout",
          "text": [
            "Epoch 1/1000\n",
            "49/49 - 18s - loss: 0.6920 - accuracy: 0.5256 - val_loss: 0.7048 - val_accuracy: 0.4070 - 18s/epoch - 369ms/step\n",
            "Epoch 2/1000\n",
            "49/49 - 13s - loss: 0.6896 - accuracy: 0.5546 - val_loss: 0.7019 - val_accuracy: 0.4194 - 13s/epoch - 264ms/step\n",
            "Epoch 3/1000\n",
            "49/49 - 13s - loss: 0.6845 - accuracy: 0.5541 - val_loss: 0.6830 - val_accuracy: 0.5744 - 13s/epoch - 263ms/step\n",
            "Epoch 4/1000\n",
            "49/49 - 13s - loss: 0.6734 - accuracy: 0.5887 - val_loss: 0.6688 - val_accuracy: 0.6157 - 13s/epoch - 265ms/step\n",
            "Epoch 5/1000\n",
            "49/49 - 13s - loss: 0.6530 - accuracy: 0.6260 - val_loss: 0.6308 - val_accuracy: 0.6322 - 13s/epoch - 262ms/step\n",
            "Epoch 6/1000\n",
            "49/49 - 13s - loss: 0.6409 - accuracy: 0.6405 - val_loss: 0.6380 - val_accuracy: 0.6198 - 13s/epoch - 263ms/step\n",
            "Epoch 7/1000\n",
            "49/49 - 13s - loss: 0.6060 - accuracy: 0.6710 - val_loss: 0.6086 - val_accuracy: 0.6508 - 13s/epoch - 262ms/step\n",
            "Epoch 8/1000\n",
            "49/49 - 13s - loss: 0.5946 - accuracy: 0.6844 - val_loss: 0.6003 - val_accuracy: 0.6426 - 13s/epoch - 264ms/step\n",
            "Epoch 9/1000\n",
            "49/49 - 13s - loss: 0.5607 - accuracy: 0.7020 - val_loss: 0.5512 - val_accuracy: 0.6983 - 13s/epoch - 261ms/step\n",
            "Epoch 10/1000\n",
            "49/49 - 13s - loss: 0.5182 - accuracy: 0.7424 - val_loss: 0.5054 - val_accuracy: 0.7231 - 13s/epoch - 264ms/step\n",
            "Epoch 11/1000\n",
            "49/49 - 13s - loss: 0.4894 - accuracy: 0.7688 - val_loss: 0.4808 - val_accuracy: 0.7521 - 13s/epoch - 262ms/step\n",
            "Epoch 12/1000\n",
            "49/49 - 13s - loss: 0.4722 - accuracy: 0.7791 - val_loss: 0.4643 - val_accuracy: 0.7665 - 13s/epoch - 265ms/step\n",
            "Epoch 13/1000\n",
            "49/49 - 13s - loss: 0.4449 - accuracy: 0.7936 - val_loss: 0.4874 - val_accuracy: 0.7438 - 13s/epoch - 262ms/step\n",
            "Epoch 14/1000\n",
            "49/49 - 13s - loss: 0.4233 - accuracy: 0.8076 - val_loss: 0.4663 - val_accuracy: 0.7748 - 13s/epoch - 263ms/step\n",
            "Epoch 15/1000\n",
            "49/49 - 13s - loss: 0.3960 - accuracy: 0.8205 - val_loss: 0.3819 - val_accuracy: 0.8285 - 13s/epoch - 261ms/step\n",
            "Epoch 16/1000\n",
            "49/49 - 13s - loss: 0.3687 - accuracy: 0.8458 - val_loss: 0.4463 - val_accuracy: 0.8079 - 13s/epoch - 264ms/step\n",
            "Epoch 17/1000\n",
            "49/49 - 13s - loss: 0.3753 - accuracy: 0.8314 - val_loss: 0.3610 - val_accuracy: 0.8450 - 13s/epoch - 262ms/step\n",
            "Epoch 18/1000\n",
            "49/49 - 13s - loss: 0.3623 - accuracy: 0.8376 - val_loss: 0.4369 - val_accuracy: 0.7975 - 13s/epoch - 264ms/step\n",
            "Epoch 19/1000\n",
            "49/49 - 13s - loss: 0.3485 - accuracy: 0.8500 - val_loss: 0.3548 - val_accuracy: 0.8512 - 13s/epoch - 261ms/step\n",
            "Epoch 20/1000\n",
            "49/49 - 13s - loss: 0.3378 - accuracy: 0.8572 - val_loss: 0.3452 - val_accuracy: 0.8409 - 13s/epoch - 264ms/step\n",
            "Epoch 21/1000\n",
            "49/49 - 13s - loss: 0.3287 - accuracy: 0.8670 - val_loss: 0.3659 - val_accuracy: 0.8326 - 13s/epoch - 262ms/step\n",
            "Epoch 22/1000\n",
            "49/49 - 13s - loss: 0.3226 - accuracy: 0.8650 - val_loss: 0.3327 - val_accuracy: 0.8554 - 13s/epoch - 261ms/step\n",
            "Epoch 23/1000\n",
            "49/49 - 13s - loss: 0.3052 - accuracy: 0.8738 - val_loss: 0.3441 - val_accuracy: 0.8450 - 13s/epoch - 263ms/step\n",
            "Epoch 24/1000\n",
            "49/49 - 13s - loss: 0.3029 - accuracy: 0.8733 - val_loss: 0.3110 - val_accuracy: 0.8616 - 13s/epoch - 262ms/step\n",
            "Epoch 25/1000\n",
            "49/49 - 13s - loss: 0.2900 - accuracy: 0.8764 - val_loss: 0.3637 - val_accuracy: 0.8616 - 13s/epoch - 261ms/step\n",
            "Epoch 26/1000\n",
            "49/49 - 13s - loss: 0.2757 - accuracy: 0.8779 - val_loss: 0.3974 - val_accuracy: 0.8430 - 13s/epoch - 263ms/step\n",
            "Epoch 27/1000\n",
            "49/49 - 13s - loss: 0.2782 - accuracy: 0.8831 - val_loss: 0.3662 - val_accuracy: 0.8450 - 13s/epoch - 262ms/step\n",
            "Epoch 28/1000\n",
            "49/49 - 13s - loss: 0.3025 - accuracy: 0.8645 - val_loss: 0.3386 - val_accuracy: 0.8512 - 13s/epoch - 262ms/step\n",
            "Epoch 29/1000\n",
            "49/49 - 13s - loss: 0.2720 - accuracy: 0.8836 - val_loss: 0.3396 - val_accuracy: 0.8574 - 13s/epoch - 263ms/step\n",
            "Epoch 30/1000\n",
            "49/49 - 13s - loss: 0.2482 - accuracy: 0.9007 - val_loss: 0.3085 - val_accuracy: 0.8595 - 13s/epoch - 262ms/step\n",
            "Epoch 31/1000\n",
            "49/49 - 13s - loss: 0.2503 - accuracy: 0.8955 - val_loss: 0.2934 - val_accuracy: 0.8616 - 13s/epoch - 261ms/step\n",
            "Epoch 32/1000\n",
            "49/49 - 13s - loss: 0.2404 - accuracy: 0.9002 - val_loss: 0.3096 - val_accuracy: 0.8781 - 13s/epoch - 263ms/step\n",
            "Epoch 33/1000\n",
            "49/49 - 13s - loss: 0.2462 - accuracy: 0.8981 - val_loss: 0.3192 - val_accuracy: 0.8492 - 13s/epoch - 262ms/step\n",
            "Epoch 34/1000\n",
            "49/49 - 13s - loss: 0.2377 - accuracy: 0.9033 - val_loss: 0.3343 - val_accuracy: 0.8595 - 13s/epoch - 262ms/step\n",
            "Epoch 35/1000\n",
            "49/49 - 13s - loss: 0.2300 - accuracy: 0.9126 - val_loss: 0.3969 - val_accuracy: 0.8512 - 13s/epoch - 262ms/step\n",
            "Epoch 36/1000\n",
            "49/49 - 13s - loss: 0.2174 - accuracy: 0.9100 - val_loss: 0.3140 - val_accuracy: 0.8822 - 13s/epoch - 262ms/step\n",
            "Epoch 37/1000\n",
            "49/49 - 13s - loss: 0.2134 - accuracy: 0.9136 - val_loss: 0.2847 - val_accuracy: 0.9008 - 13s/epoch - 261ms/step\n",
            "Epoch 38/1000\n",
            "49/49 - 13s - loss: 0.2141 - accuracy: 0.9105 - val_loss: 0.2994 - val_accuracy: 0.8719 - 13s/epoch - 262ms/step\n",
            "Epoch 39/1000\n",
            "49/49 - 13s - loss: 0.2062 - accuracy: 0.9203 - val_loss: 0.2980 - val_accuracy: 0.8678 - 13s/epoch - 261ms/step\n",
            "Epoch 40/1000\n",
            "49/49 - 13s - loss: 0.1913 - accuracy: 0.9291 - val_loss: 0.2895 - val_accuracy: 0.8905 - 13s/epoch - 262ms/step\n",
            "Epoch 41/1000\n",
            "49/49 - 13s - loss: 0.1749 - accuracy: 0.9338 - val_loss: 0.3435 - val_accuracy: 0.8802 - 13s/epoch - 263ms/step\n",
            "Epoch 42/1000\n",
            "49/49 - 13s - loss: 0.1734 - accuracy: 0.9343 - val_loss: 0.2739 - val_accuracy: 0.8740 - 13s/epoch - 261ms/step\n",
            "Epoch 43/1000\n",
            "49/49 - 13s - loss: 0.1825 - accuracy: 0.9281 - val_loss: 0.3323 - val_accuracy: 0.8864 - 13s/epoch - 261ms/step\n",
            "Epoch 44/1000\n",
            "49/49 - 13s - loss: 0.1976 - accuracy: 0.9234 - val_loss: 0.2707 - val_accuracy: 0.8802 - 13s/epoch - 262ms/step\n",
            "Epoch 45/1000\n",
            "49/49 - 13s - loss: 0.1636 - accuracy: 0.9348 - val_loss: 0.2849 - val_accuracy: 0.8884 - 13s/epoch - 262ms/step\n",
            "Epoch 46/1000\n",
            "49/49 - 13s - loss: 0.1552 - accuracy: 0.9421 - val_loss: 0.3132 - val_accuracy: 0.8946 - 13s/epoch - 261ms/step\n",
            "Epoch 47/1000\n",
            "49/49 - 13s - loss: 0.1547 - accuracy: 0.9395 - val_loss: 0.3018 - val_accuracy: 0.8843 - 13s/epoch - 261ms/step\n",
            "Epoch 48/1000\n",
            "49/49 - 13s - loss: 0.1576 - accuracy: 0.9384 - val_loss: 0.2756 - val_accuracy: 0.8905 - 13s/epoch - 262ms/step\n",
            "Epoch 49/1000\n",
            "49/49 - 13s - loss: 0.1561 - accuracy: 0.9483 - val_loss: 0.2678 - val_accuracy: 0.8946 - 13s/epoch - 262ms/step\n",
            "Epoch 50/1000\n",
            "49/49 - 13s - loss: 0.1531 - accuracy: 0.9379 - val_loss: 0.2912 - val_accuracy: 0.8926 - 13s/epoch - 261ms/step\n",
            "Epoch 51/1000\n",
            "49/49 - 13s - loss: 0.1666 - accuracy: 0.9327 - val_loss: 0.3171 - val_accuracy: 0.8760 - 13s/epoch - 261ms/step\n",
            "Epoch 52/1000\n",
            "49/49 - 13s - loss: 0.1517 - accuracy: 0.9421 - val_loss: 0.2882 - val_accuracy: 0.8967 - 13s/epoch - 262ms/step\n",
            "Epoch 53/1000\n",
            "49/49 - 13s - loss: 0.1339 - accuracy: 0.9472 - val_loss: 0.3125 - val_accuracy: 0.8967 - 13s/epoch - 263ms/step\n",
            "Epoch 54/1000\n",
            "49/49 - 13s - loss: 0.1242 - accuracy: 0.9576 - val_loss: 0.3332 - val_accuracy: 0.8905 - 13s/epoch - 262ms/step\n",
            "Epoch 55/1000\n",
            "49/49 - 13s - loss: 0.1244 - accuracy: 0.9493 - val_loss: 0.3418 - val_accuracy: 0.8719 - 13s/epoch - 260ms/step\n",
            "Epoch 56/1000\n",
            "49/49 - 13s - loss: 0.1445 - accuracy: 0.9436 - val_loss: 0.2903 - val_accuracy: 0.8802 - 13s/epoch - 262ms/step\n",
            "Epoch 57/1000\n",
            "49/49 - 13s - loss: 0.1213 - accuracy: 0.9581 - val_loss: 0.3624 - val_accuracy: 0.8843 - 13s/epoch - 263ms/step\n",
            "Epoch 58/1000\n",
            "49/49 - 13s - loss: 0.1221 - accuracy: 0.9581 - val_loss: 0.2953 - val_accuracy: 0.8926 - 13s/epoch - 261ms/step\n",
            "Epoch 59/1000\n",
            "49/49 - 13s - loss: 0.1388 - accuracy: 0.9498 - val_loss: 0.3557 - val_accuracy: 0.8760 - 13s/epoch - 261ms/step\n",
            "Epoch 60/1000\n",
            "49/49 - 13s - loss: 0.1125 - accuracy: 0.9602 - val_loss: 0.3510 - val_accuracy: 0.8822 - 13s/epoch - 263ms/step\n",
            "Epoch 61/1000\n",
            "49/49 - 13s - loss: 0.1121 - accuracy: 0.9576 - val_loss: 0.3136 - val_accuracy: 0.8967 - 13s/epoch - 262ms/step\n",
            "Epoch 62/1000\n",
            "49/49 - 13s - loss: 0.1103 - accuracy: 0.9648 - val_loss: 0.3303 - val_accuracy: 0.8802 - 13s/epoch - 260ms/step\n",
            "Epoch 63/1000\n",
            "49/49 - 13s - loss: 0.1117 - accuracy: 0.9602 - val_loss: 0.3429 - val_accuracy: 0.8740 - 13s/epoch - 260ms/step\n",
            "Epoch 64/1000\n",
            "49/49 - 13s - loss: 0.0992 - accuracy: 0.9659 - val_loss: 0.3667 - val_accuracy: 0.8760 - 13s/epoch - 262ms/step\n",
            "Epoch 65/1000\n",
            "49/49 - 13s - loss: 0.0990 - accuracy: 0.9659 - val_loss: 0.3805 - val_accuracy: 0.8616 - 13s/epoch - 262ms/step\n",
            "Epoch 66/1000\n",
            "49/49 - 13s - loss: 0.0930 - accuracy: 0.9643 - val_loss: 0.3340 - val_accuracy: 0.8884 - 13s/epoch - 261ms/step\n",
            "Epoch 67/1000\n",
            "49/49 - 13s - loss: 0.0913 - accuracy: 0.9659 - val_loss: 0.4085 - val_accuracy: 0.8678 - 13s/epoch - 261ms/step\n",
            "Epoch 68/1000\n",
            "49/49 - 13s - loss: 0.1084 - accuracy: 0.9628 - val_loss: 0.3320 - val_accuracy: 0.8822 - 13s/epoch - 262ms/step\n",
            "Epoch 69/1000\n",
            "49/49 - 13s - loss: 0.0769 - accuracy: 0.9726 - val_loss: 0.4043 - val_accuracy: 0.8678 - 13s/epoch - 263ms/step\n",
            "Epoch 70/1000\n",
            "49/49 - 13s - loss: 0.1005 - accuracy: 0.9648 - val_loss: 0.4923 - val_accuracy: 0.8616 - 13s/epoch - 261ms/step\n",
            "Epoch 71/1000\n",
            "49/49 - 13s - loss: 0.0812 - accuracy: 0.9710 - val_loss: 0.3456 - val_accuracy: 0.8905 - 13s/epoch - 261ms/step\n",
            "Epoch 72/1000\n",
            "49/49 - 13s - loss: 0.1325 - accuracy: 0.9514 - val_loss: 0.3379 - val_accuracy: 0.8884 - 13s/epoch - 262ms/step\n",
            "Epoch 73/1000\n",
            "49/49 - 13s - loss: 0.1192 - accuracy: 0.9550 - val_loss: 0.3582 - val_accuracy: 0.8822 - 13s/epoch - 262ms/step\n",
            "Epoch 74/1000\n",
            "49/49 - 13s - loss: 0.0861 - accuracy: 0.9633 - val_loss: 0.4385 - val_accuracy: 0.8678 - 13s/epoch - 261ms/step\n",
            "Epoch 75/1000\n",
            "49/49 - 13s - loss: 0.0690 - accuracy: 0.9736 - val_loss: 0.3187 - val_accuracy: 0.8822 - 13s/epoch - 262ms/step\n",
            "Epoch 76/1000\n",
            "49/49 - 13s - loss: 0.0631 - accuracy: 0.9798 - val_loss: 0.3729 - val_accuracy: 0.8843 - 13s/epoch - 262ms/step\n",
            "Epoch 77/1000\n",
            "49/49 - 13s - loss: 0.0708 - accuracy: 0.9757 - val_loss: 0.4049 - val_accuracy: 0.8822 - 13s/epoch - 262ms/step\n",
            "Epoch 78/1000\n",
            "49/49 - 13s - loss: 0.0778 - accuracy: 0.9715 - val_loss: 0.4415 - val_accuracy: 0.8636 - 13s/epoch - 261ms/step\n",
            "Epoch 79/1000\n",
            "49/49 - 13s - loss: 0.0560 - accuracy: 0.9788 - val_loss: 0.3787 - val_accuracy: 0.8905 - 13s/epoch - 260ms/step\n",
            "Epoch 80/1000\n",
            "49/49 - 13s - loss: 0.0984 - accuracy: 0.9648 - val_loss: 0.4331 - val_accuracy: 0.8616 - 13s/epoch - 262ms/step\n",
            "Epoch 81/1000\n",
            "49/49 - 13s - loss: 0.0768 - accuracy: 0.9736 - val_loss: 0.3674 - val_accuracy: 0.8657 - 13s/epoch - 262ms/step\n",
            "Epoch 82/1000\n",
            "49/49 - 13s - loss: 0.0703 - accuracy: 0.9736 - val_loss: 0.3905 - val_accuracy: 0.8719 - 13s/epoch - 272ms/step\n",
            "Epoch 83/1000\n",
            "49/49 - 13s - loss: 0.0806 - accuracy: 0.9726 - val_loss: 0.3645 - val_accuracy: 0.8988 - 13s/epoch - 260ms/step\n",
            "Epoch 84/1000\n",
            "49/49 - 13s - loss: 0.0573 - accuracy: 0.9772 - val_loss: 0.3537 - val_accuracy: 0.8967 - 13s/epoch - 262ms/step\n",
            "Epoch 85/1000\n",
            "49/49 - 13s - loss: 0.0537 - accuracy: 0.9814 - val_loss: 0.3733 - val_accuracy: 0.9029 - 13s/epoch - 262ms/step\n",
            "Epoch 86/1000\n",
            "49/49 - 13s - loss: 0.0620 - accuracy: 0.9752 - val_loss: 0.3640 - val_accuracy: 0.8926 - 13s/epoch - 261ms/step\n",
            "Epoch 87/1000\n",
            "49/49 - 13s - loss: 0.0567 - accuracy: 0.9819 - val_loss: 0.3820 - val_accuracy: 0.8740 - 13s/epoch - 261ms/step\n",
            "Epoch 88/1000\n",
            "49/49 - 13s - loss: 0.0536 - accuracy: 0.9814 - val_loss: 0.4275 - val_accuracy: 0.8843 - 13s/epoch - 262ms/step\n",
            "Epoch 89/1000\n",
            "49/49 - 13s - loss: 0.0642 - accuracy: 0.9778 - val_loss: 0.5048 - val_accuracy: 0.8636 - 13s/epoch - 263ms/step\n",
            "Epoch 90/1000\n",
            "49/49 - 13s - loss: 0.0689 - accuracy: 0.9767 - val_loss: 0.3865 - val_accuracy: 0.8864 - 13s/epoch - 262ms/step\n",
            "Epoch 91/1000\n",
            "49/49 - 13s - loss: 0.0476 - accuracy: 0.9855 - val_loss: 0.3651 - val_accuracy: 0.8843 - 13s/epoch - 260ms/step\n",
            "Epoch 92/1000\n",
            "49/49 - 13s - loss: 0.0453 - accuracy: 0.9855 - val_loss: 0.4173 - val_accuracy: 0.8822 - 13s/epoch - 262ms/step\n",
            "Epoch 93/1000\n",
            "49/49 - 13s - loss: 0.0403 - accuracy: 0.9876 - val_loss: 0.4954 - val_accuracy: 0.8698 - 13s/epoch - 263ms/step\n",
            "Epoch 94/1000\n",
            "49/49 - 13s - loss: 0.0937 - accuracy: 0.9653 - val_loss: 0.4299 - val_accuracy: 0.8802 - 13s/epoch - 261ms/step\n",
            "Epoch 95/1000\n",
            "49/49 - 13s - loss: 0.0606 - accuracy: 0.9809 - val_loss: 0.5290 - val_accuracy: 0.8533 - 13s/epoch - 261ms/step\n",
            "Epoch 96/1000\n",
            "49/49 - 13s - loss: 0.0539 - accuracy: 0.9814 - val_loss: 0.4142 - val_accuracy: 0.8698 - 13s/epoch - 262ms/step\n",
            "Epoch 97/1000\n",
            "49/49 - 13s - loss: 0.0421 - accuracy: 0.9865 - val_loss: 0.4569 - val_accuracy: 0.8884 - 13s/epoch - 262ms/step\n",
            "Epoch 98/1000\n"
          ]
        },
        {
          "output_type": "error",
          "ename": "KeyboardInterrupt",
          "evalue": "ignored",
          "traceback": [
            "\u001b[0;31m---------------------------------------------------------------------------\u001b[0m",
            "\u001b[0;31mKeyboardInterrupt\u001b[0m                         Traceback (most recent call last)",
            "\u001b[0;32m<ipython-input-51-7033cb9789d4>\u001b[0m in \u001b[0;36m<module>\u001b[0;34m()\u001b[0m\n\u001b[0;32m----> 1\u001b[0;31m \u001b[0mhistory\u001b[0m \u001b[0;34m=\u001b[0m \u001b[0mmodel\u001b[0m\u001b[0;34m.\u001b[0m\u001b[0mfit\u001b[0m\u001b[0;34m(\u001b[0m\u001b[0mx\u001b[0m\u001b[0;34m=\u001b[0m\u001b[0mX\u001b[0m\u001b[0;34m,\u001b[0m \u001b[0my\u001b[0m\u001b[0;34m=\u001b[0m\u001b[0my\u001b[0m\u001b[0;34m,\u001b[0m \u001b[0mbatch_size\u001b[0m\u001b[0;34m=\u001b[0m\u001b[0;36m40\u001b[0m\u001b[0;34m,\u001b[0m \u001b[0mvalidation_split\u001b[0m \u001b[0;34m=\u001b[0m \u001b[0;36m0.2\u001b[0m\u001b[0;34m,\u001b[0m \u001b[0mepochs\u001b[0m\u001b[0;34m=\u001b[0m\u001b[0;36m1000\u001b[0m\u001b[0;34m,\u001b[0m \u001b[0mshuffle\u001b[0m\u001b[0;34m=\u001b[0m\u001b[0;32mTrue\u001b[0m\u001b[0;34m,\u001b[0m \u001b[0mverbose\u001b[0m \u001b[0;34m=\u001b[0m \u001b[0;36m2\u001b[0m\u001b[0;34m,\u001b[0m \u001b[0mcallbacks\u001b[0m\u001b[0;34m=\u001b[0m\u001b[0;34m[\u001b[0m\u001b[0msave_callback\u001b[0m\u001b[0;34m]\u001b[0m\u001b[0;34m)\u001b[0m\u001b[0;34m\u001b[0m\u001b[0;34m\u001b[0m\u001b[0m\n\u001b[0m",
            "\u001b[0;32m/usr/local/lib/python3.7/dist-packages/keras/utils/traceback_utils.py\u001b[0m in \u001b[0;36merror_handler\u001b[0;34m(*args, **kwargs)\u001b[0m\n\u001b[1;32m     62\u001b[0m     \u001b[0mfiltered_tb\u001b[0m \u001b[0;34m=\u001b[0m \u001b[0;32mNone\u001b[0m\u001b[0;34m\u001b[0m\u001b[0;34m\u001b[0m\u001b[0m\n\u001b[1;32m     63\u001b[0m     \u001b[0;32mtry\u001b[0m\u001b[0;34m:\u001b[0m\u001b[0;34m\u001b[0m\u001b[0;34m\u001b[0m\u001b[0m\n\u001b[0;32m---> 64\u001b[0;31m       \u001b[0;32mreturn\u001b[0m \u001b[0mfn\u001b[0m\u001b[0;34m(\u001b[0m\u001b[0;34m*\u001b[0m\u001b[0margs\u001b[0m\u001b[0;34m,\u001b[0m \u001b[0;34m**\u001b[0m\u001b[0mkwargs\u001b[0m\u001b[0;34m)\u001b[0m\u001b[0;34m\u001b[0m\u001b[0;34m\u001b[0m\u001b[0m\n\u001b[0m\u001b[1;32m     65\u001b[0m     \u001b[0;32mexcept\u001b[0m \u001b[0mException\u001b[0m \u001b[0;32mas\u001b[0m \u001b[0me\u001b[0m\u001b[0;34m:\u001b[0m  \u001b[0;31m# pylint: disable=broad-except\u001b[0m\u001b[0;34m\u001b[0m\u001b[0;34m\u001b[0m\u001b[0m\n\u001b[1;32m     66\u001b[0m       \u001b[0mfiltered_tb\u001b[0m \u001b[0;34m=\u001b[0m \u001b[0m_process_traceback_frames\u001b[0m\u001b[0;34m(\u001b[0m\u001b[0me\u001b[0m\u001b[0;34m.\u001b[0m\u001b[0m__traceback__\u001b[0m\u001b[0;34m)\u001b[0m\u001b[0;34m\u001b[0m\u001b[0;34m\u001b[0m\u001b[0m\n",
            "\u001b[0;32m/usr/local/lib/python3.7/dist-packages/keras/engine/training.py\u001b[0m in \u001b[0;36mfit\u001b[0;34m(self, x, y, batch_size, epochs, verbose, callbacks, validation_split, validation_data, shuffle, class_weight, sample_weight, initial_epoch, steps_per_epoch, validation_steps, validation_batch_size, validation_freq, max_queue_size, workers, use_multiprocessing)\u001b[0m\n\u001b[1;32m   1374\u001b[0m         \u001b[0mcallbacks\u001b[0m\u001b[0;34m.\u001b[0m\u001b[0mon_epoch_begin\u001b[0m\u001b[0;34m(\u001b[0m\u001b[0mepoch\u001b[0m\u001b[0;34m)\u001b[0m\u001b[0;34m\u001b[0m\u001b[0;34m\u001b[0m\u001b[0m\n\u001b[1;32m   1375\u001b[0m         \u001b[0;32mwith\u001b[0m \u001b[0mdata_handler\u001b[0m\u001b[0;34m.\u001b[0m\u001b[0mcatch_stop_iteration\u001b[0m\u001b[0;34m(\u001b[0m\u001b[0;34m)\u001b[0m\u001b[0;34m:\u001b[0m\u001b[0;34m\u001b[0m\u001b[0;34m\u001b[0m\u001b[0m\n\u001b[0;32m-> 1376\u001b[0;31m           \u001b[0;32mfor\u001b[0m \u001b[0mstep\u001b[0m \u001b[0;32min\u001b[0m \u001b[0mdata_handler\u001b[0m\u001b[0;34m.\u001b[0m\u001b[0msteps\u001b[0m\u001b[0;34m(\u001b[0m\u001b[0;34m)\u001b[0m\u001b[0;34m:\u001b[0m\u001b[0;34m\u001b[0m\u001b[0;34m\u001b[0m\u001b[0m\n\u001b[0m\u001b[1;32m   1377\u001b[0m             with tf.profiler.experimental.Trace(\n\u001b[1;32m   1378\u001b[0m                 \u001b[0;34m'train'\u001b[0m\u001b[0;34m,\u001b[0m\u001b[0;34m\u001b[0m\u001b[0;34m\u001b[0m\u001b[0m\n",
            "\u001b[0;32m/usr/local/lib/python3.7/dist-packages/keras/engine/data_adapter.py\u001b[0m in \u001b[0;36msteps\u001b[0;34m(self)\u001b[0m\n\u001b[1;32m   1244\u001b[0m       \u001b[0;32mif\u001b[0m \u001b[0mself\u001b[0m\u001b[0;34m.\u001b[0m\u001b[0m_insufficient_data\u001b[0m\u001b[0;34m:\u001b[0m  \u001b[0;31m# Set by `catch_stop_iteration`.\u001b[0m\u001b[0;34m\u001b[0m\u001b[0;34m\u001b[0m\u001b[0m\n\u001b[1;32m   1245\u001b[0m         \u001b[0;32mbreak\u001b[0m\u001b[0;34m\u001b[0m\u001b[0;34m\u001b[0m\u001b[0m\n\u001b[0;32m-> 1246\u001b[0;31m       \u001b[0moriginal_spe\u001b[0m \u001b[0;34m=\u001b[0m \u001b[0mself\u001b[0m\u001b[0;34m.\u001b[0m\u001b[0m_steps_per_execution\u001b[0m\u001b[0;34m.\u001b[0m\u001b[0mnumpy\u001b[0m\u001b[0;34m(\u001b[0m\u001b[0;34m)\u001b[0m\u001b[0;34m.\u001b[0m\u001b[0mitem\u001b[0m\u001b[0;34m(\u001b[0m\u001b[0;34m)\u001b[0m\u001b[0;34m\u001b[0m\u001b[0;34m\u001b[0m\u001b[0m\n\u001b[0m\u001b[1;32m   1247\u001b[0m       can_run_full_execution = (\n\u001b[1;32m   1248\u001b[0m           \u001b[0moriginal_spe\u001b[0m \u001b[0;34m==\u001b[0m \u001b[0;36m1\u001b[0m \u001b[0;32mor\u001b[0m\u001b[0;34m\u001b[0m\u001b[0;34m\u001b[0m\u001b[0m\n",
            "\u001b[0;32m/usr/local/lib/python3.7/dist-packages/tensorflow/python/ops/resource_variable_ops.py\u001b[0m in \u001b[0;36mnumpy\u001b[0;34m(self)\u001b[0m\n\u001b[1;32m    672\u001b[0m   \u001b[0;32mdef\u001b[0m \u001b[0mnumpy\u001b[0m\u001b[0;34m(\u001b[0m\u001b[0mself\u001b[0m\u001b[0;34m)\u001b[0m\u001b[0;34m:\u001b[0m\u001b[0;34m\u001b[0m\u001b[0;34m\u001b[0m\u001b[0m\n\u001b[1;32m    673\u001b[0m     \u001b[0;32mif\u001b[0m \u001b[0mcontext\u001b[0m\u001b[0;34m.\u001b[0m\u001b[0mexecuting_eagerly\u001b[0m\u001b[0;34m(\u001b[0m\u001b[0;34m)\u001b[0m\u001b[0;34m:\u001b[0m\u001b[0;34m\u001b[0m\u001b[0;34m\u001b[0m\u001b[0m\n\u001b[0;32m--> 674\u001b[0;31m       \u001b[0;32mreturn\u001b[0m \u001b[0mself\u001b[0m\u001b[0;34m.\u001b[0m\u001b[0mread_value\u001b[0m\u001b[0;34m(\u001b[0m\u001b[0;34m)\u001b[0m\u001b[0;34m.\u001b[0m\u001b[0mnumpy\u001b[0m\u001b[0;34m(\u001b[0m\u001b[0;34m)\u001b[0m\u001b[0;34m\u001b[0m\u001b[0;34m\u001b[0m\u001b[0m\n\u001b[0m\u001b[1;32m    675\u001b[0m     raise NotImplementedError(\n\u001b[1;32m    676\u001b[0m         \"numpy() is only available when eager execution is enabled.\")\n",
            "\u001b[0;32m/usr/local/lib/python3.7/dist-packages/tensorflow/python/framework/ops.py\u001b[0m in \u001b[0;36mnumpy\u001b[0;34m(self)\u001b[0m\n\u001b[1;32m   1221\u001b[0m     \"\"\"\n\u001b[1;32m   1222\u001b[0m     \u001b[0;31m# TODO(slebedev): Consider avoiding a copy for non-CPU or remote tensors.\u001b[0m\u001b[0;34m\u001b[0m\u001b[0;34m\u001b[0m\u001b[0;34m\u001b[0m\u001b[0m\n\u001b[0;32m-> 1223\u001b[0;31m     \u001b[0mmaybe_arr\u001b[0m \u001b[0;34m=\u001b[0m \u001b[0mself\u001b[0m\u001b[0;34m.\u001b[0m\u001b[0m_numpy\u001b[0m\u001b[0;34m(\u001b[0m\u001b[0;34m)\u001b[0m  \u001b[0;31m# pylint: disable=protected-access\u001b[0m\u001b[0;34m\u001b[0m\u001b[0;34m\u001b[0m\u001b[0m\n\u001b[0m\u001b[1;32m   1224\u001b[0m     \u001b[0;32mreturn\u001b[0m \u001b[0mmaybe_arr\u001b[0m\u001b[0;34m.\u001b[0m\u001b[0mcopy\u001b[0m\u001b[0;34m(\u001b[0m\u001b[0;34m)\u001b[0m \u001b[0;32mif\u001b[0m \u001b[0misinstance\u001b[0m\u001b[0;34m(\u001b[0m\u001b[0mmaybe_arr\u001b[0m\u001b[0;34m,\u001b[0m \u001b[0mnp\u001b[0m\u001b[0;34m.\u001b[0m\u001b[0mndarray\u001b[0m\u001b[0;34m)\u001b[0m \u001b[0;32melse\u001b[0m \u001b[0mmaybe_arr\u001b[0m\u001b[0;34m\u001b[0m\u001b[0;34m\u001b[0m\u001b[0m\n\u001b[1;32m   1225\u001b[0m \u001b[0;34m\u001b[0m\u001b[0m\n",
            "\u001b[0;32m/usr/local/lib/python3.7/dist-packages/tensorflow/python/framework/ops.py\u001b[0m in \u001b[0;36m_numpy\u001b[0;34m(self)\u001b[0m\n\u001b[1;32m   1187\u001b[0m   \u001b[0;32mdef\u001b[0m \u001b[0m_numpy\u001b[0m\u001b[0;34m(\u001b[0m\u001b[0mself\u001b[0m\u001b[0;34m)\u001b[0m\u001b[0;34m:\u001b[0m\u001b[0;34m\u001b[0m\u001b[0;34m\u001b[0m\u001b[0m\n\u001b[1;32m   1188\u001b[0m     \u001b[0;32mtry\u001b[0m\u001b[0;34m:\u001b[0m\u001b[0;34m\u001b[0m\u001b[0;34m\u001b[0m\u001b[0m\n\u001b[0;32m-> 1189\u001b[0;31m       \u001b[0;32mreturn\u001b[0m \u001b[0mself\u001b[0m\u001b[0;34m.\u001b[0m\u001b[0m_numpy_internal\u001b[0m\u001b[0;34m(\u001b[0m\u001b[0;34m)\u001b[0m\u001b[0;34m\u001b[0m\u001b[0;34m\u001b[0m\u001b[0m\n\u001b[0m\u001b[1;32m   1190\u001b[0m     \u001b[0;32mexcept\u001b[0m \u001b[0mcore\u001b[0m\u001b[0;34m.\u001b[0m\u001b[0m_NotOkStatusException\u001b[0m \u001b[0;32mas\u001b[0m \u001b[0me\u001b[0m\u001b[0;34m:\u001b[0m  \u001b[0;31m# pylint: disable=protected-access\u001b[0m\u001b[0;34m\u001b[0m\u001b[0;34m\u001b[0m\u001b[0m\n\u001b[1;32m   1191\u001b[0m       \u001b[0;32mraise\u001b[0m \u001b[0mcore\u001b[0m\u001b[0;34m.\u001b[0m\u001b[0m_status_to_exception\u001b[0m\u001b[0;34m(\u001b[0m\u001b[0me\u001b[0m\u001b[0;34m)\u001b[0m \u001b[0;32mfrom\u001b[0m \u001b[0;32mNone\u001b[0m  \u001b[0;31m# pylint: disable=protected-access\u001b[0m\u001b[0;34m\u001b[0m\u001b[0;34m\u001b[0m\u001b[0m\n",
            "\u001b[0;31mKeyboardInterrupt\u001b[0m: "
          ]
        }
      ],
      "source": [
        "history = model.fit(x=X, y=y, batch_size=40, validation_split = 0.2, epochs=1000, shuffle=True, verbose = 2, callbacks=[save_callback])"
      ]
    },
    {
      "cell_type": "code",
      "execution_count": 39,
      "metadata": {
        "id": "J05JHTrNoZTL",
        "colab": {
          "base_uri": "https://localhost:8080/",
          "height": 573
        },
        "outputId": "6519db50-9389-4b2f-9727-2da261de252e"
      },
      "outputs": [
        {
          "output_type": "display_data",
          "data": {
            "text/plain": [
              "<Figure size 432x288 with 1 Axes>"
            ],
            "image/png": "[encoded data removed]"
          },
          "metadata": {
            "needs_background": "light"
          }
        },
        {
          "output_type": "display_data",
          "data": {
            "text/plain": [
              "<Figure size 432x288 with 1 Axes>"
            ],
            "image/png": "[encoded data removed]"
          },
          "metadata": {
            "needs_background": "light"
          }
        }
      ],
      "source": [
        "\n",
        "import keras\n",
        "from matplotlib import pyplot as plt\n",
        "\n",
        "plt.plot(history.history['accuracy'])\n",
        "plt.plot(history.history['val_accuracy'])\n",
        "plt.title('model accuracy')\n",
        "plt.ylabel('accuracy')\n",
        "plt.xlabel('epoch')\n",
        "plt.legend(['train', 'val'], loc='upper left')\n",
        "plt.show()\n",
        "\n",
        "plt.plot(history.history['loss'])\n",
        "plt.plot(history.history['val_loss'])\n",
        "plt.title('model loss')\n",
        "plt.ylabel('loss')\n",
        "plt.xlabel('epoch')\n",
        "plt.legend(['train', 'val'], loc='upper left')\n",
        "plt.show()"
      ]
    },
    {
      "cell_type": "code",
      "execution_count": null,
      "metadata": {
        "colab": {
          "base_uri": "https://localhost:8080/"
        },
        "id": "5yUgob2oBQET",
        "outputId": "3ed76f29-88d0-4bc7-d3bc-9f5be13fe7ed"
      },
      "outputs": [
        {
          "output_type": "stream",
          "name": "stderr",
          "text": [
            "WARNING:absl:Found untraced functions such as lstm_cell_1_layer_call_fn, lstm_cell_1_layer_call_and_return_conditional_losses while saving (showing 2 of 2). These functions will not be directly callable after loading.\n"
          ]
        },
        {
          "output_type": "stream",
          "name": "stdout",
          "text": [
            "INFO:tensorflow:Assets written to: /content.gdrive/MyDrive/NN_945_ohne_Dense/assets\n"
          ]
        },
        {
          "output_type": "stream",
          "name": "stderr",
          "text": [
            "INFO:tensorflow:Assets written to: /content.gdrive/MyDrive/NN_945_ohne_Dense/assets\n",
            "WARNING:absl:<keras.layers.recurrent.LSTMCell object at 0x7f98b04a0150> has the same name 'LSTMCell' as a built-in Keras object. Consider renaming <class 'keras.layers.recurrent.LSTMCell'> to avoid naming conflicts when loading with `tf.keras.models.load_model`. If renaming is not possible, pass the object in the `custom_objects` parameter of the load function.\n"
          ]
        }
      ],
      "source": [
        "model.save('/content.gdrive/MyDrive/NN_945_ohne_Dense')"
      ]
    },
    {
      "cell_type": "code",
      "execution_count": null,
      "metadata": {
        "id": "5l1_HfnSCgtC"
      },
      "outputs": [],
      "source": [
        "import json\n",
        "import numpy as np\n",
        "with open('/content.gdrive/MyDrive/Datasets_1575/data_Manually_Labeled_09042022.json', \"r\") as fp:\n",
        "    data2 = json.load(fp)\n",
        "# convert lists to numpy arrays\n",
        "X2 = np.array(data2[\"keypoints\"])\n",
        "y2 = np.array(data2[\"labels\"])\n",
        "\n",
        "predictions = model.predict(X2, batch_size = 10, verbose =0)\n",
        "\n",
        "print(predictions, y2)\n",
        "counter =0\n",
        "for i, x in enumerate(predictions):\n",
        "    if np.around(x) != y2[i]:\n",
        "        counter+=1\n",
        "print(y2.shape)\n",
        "print(counter)"
      ]
    },
    {
      "cell_type": "code",
      "execution_count": null,
      "metadata": {
        "id": "xV0-fXTYC7p-"
      },
      "outputs": [],
      "source": [
        "from tensorflow import keras\n",
        "model = keras.models.load_model('/content.gdrive/MyDrive/Model_1575_norm_crop')"
      ]
    },
    {
      "cell_type": "code",
      "execution_count": null,
      "metadata": {
        "id": "YwXZ5JzbncjU"
      },
      "outputs": [],
      "source": [
        "model.summary()"
      ]
    },
    {
      "cell_type": "code",
      "execution_count": null,
      "metadata": {
        "id": "WpUifyJ-nhpq"
      },
      "outputs": [],
      "source": [
        ""
      ]
    }
  ],
  "metadata": {
    "accelerator": "GPU",
    "colab": {
      "name": "NN_1575_norm_crop.ipynb",
      "provenance": [],
      "include_colab_link": true
    },
    "kernelspec": {
      "display_name": "Python 3",
      "name": "python3"
    },
    "language_info": {
      "name": "python"
    }
  },
  "nbformat": 4,
  "nbformat_minor": 0
}