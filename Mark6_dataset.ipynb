{
  "nbformat": 4,
  "nbformat_minor": 0,
  "metadata": {
    "colab": {
      "name": "Mark6_dataset.ipynb",
      "provenance": [],
      "authorship_tag": "ABX9TyNGhX+ZLzuPdQ2PRY+64DVf",
      "include_colab_link": true
    },
    "kernelspec": {
      "name": "python3",
      "display_name": "Python 3"
    },
    "language_info": {
      "name": "python"
    }
  },
  "cells": [
    {
      "cell_type": "markdown",
      "metadata": {
        "id": "view-in-github",
        "colab_type": "text"
      },
      "source": [
        "<a href=\"https://colab.research.google.com/github/thofes/judging_SJ_BA/blob/main/Mark6_dataset.ipynb\" target=\"_parent\"><img src=\"https://colab.research.google.com/assets/colab-badge.svg\" alt=\"Open In Colab\"/></a>"
      ]
    },
    {
      "cell_type": "code",
      "execution_count": null,
      "metadata": {
        "id": "fHxXEr88Ra6k"
      },
      "outputs": [],
      "source": [
        "#Connect GDrive\n",
        "from google.colab import drive\n",
        "drive.mount('/content.gdrive')\n",
        "\n",
        "#init Repository - YOLOv5\n",
        "%cd /content\n",
        "\n",
        "\n",
        "!git clone https://github.com/thofes/yolov5  # clone\n",
        "%cd yolov5\n",
        "%pip install -qr requirements.txt  # install\n",
        "\n",
        "\n",
        "#init Repository - OpenPose\n",
        "import os\n",
        "from os.path import exists, join, basename, splitext\n",
        "\n",
        "#Change the drive to my mounted gdrive\n",
        "%cd /content\n",
        "\n",
        "git_repo_url = 'https://github.com/thofes/openpose'\n",
        "project_name = splitext(basename(git_repo_url))[0]\n",
        "\n",
        "if 1 or not exists(project_name):\n",
        "  !rm -rf openpose\n",
        "  # see: https://github.com/CMU-Perceptual-Computing-Lab/openpose/issues/949\n",
        "  print(\"install new CMake becaue of CUDA10\")\n",
        "  cmake_version = 'cmake-3.20.2-linux-x86_64.tar.gz'\n",
        "  if not exists(cmake_version):\n",
        "    !wget -q 'https://cmake.org/files/v3.20/{cmake_version}'\n",
        "  !tar xfz {cmake_version} --strip-components=1 -C /usr/local\n",
        "\n",
        "  print(\"clone openpose\")\n",
        "  !git clone -q --depth 1 $git_repo_url\n",
        "  print(\"install system dependencies\")\n",
        "  !apt-get -qq install -y libatlas-base-dev libprotobuf-dev libleveldb-dev libsnappy-dev libhdf5-serial-dev protobuf-compiler libgflags-dev libgoogle-glog-dev liblmdb-dev opencl-headers ocl-icd-opencl-dev libviennacl-dev\n",
        "  print(\"build openpose\")\n",
        "  !cd openpose && rm -rf build || true && mkdir build && cd build && cmake .. && make -j`nproc`"
      ]
    },
    {
      "cell_type": "code",
      "source": [
        "import os\n",
        "from os.path import exists, join, basename, splitext\n",
        "import json\n",
        "import numpy as np\n",
        "\n",
        "\n",
        "\n",
        "#json_path = \"/content.gdrive/My Drive//Train2/data.json\"\n",
        "json_path = \"/content/data.json\"\n",
        "# dictionary to store mapping, labels, and Keypoints\n",
        "data = {\n",
        "    \"labels\":[],\n",
        "    \"keypoints\":[]\n",
        "}\n",
        "\n",
        "PATH = \"/content.gdrive/My Drive/Train2\"\n",
        "label= []\n",
        "try:\n",
        "    label = next(os.walk(PATH))[1]\n",
        "except StopIteration:\n",
        "    pass\n",
        "data[\"labels\"].append(label)\n",
        "print(label)\n",
        "\n",
        "for l in label:\n",
        "  Path_jumpers = PATH + '/' + l\n",
        "  print(Path_jumpers)\n",
        "  Jumpers = []\n",
        "  try:\n",
        "    Jumpers = next(os.walk(Path_jumpers))[1]\n",
        "  except StopIteration:\n",
        "    pass\n",
        "  print(Jumpers)\n",
        "\n",
        "  for j in Jumpers:\n",
        "    Path_Pic = Path_jumpers + '/' + j\n",
        "    print(Path_Pic)\n",
        "\n",
        "    #%cd /content/yolov5\n",
        "    #!python detect.py --save-crop --source '{Path_Pic}' --project '{Path_Pic}' --save-txt\n",
        "\n",
        "    #folder_dir = Path_Pic + '/exp'\n",
        "    #%cd /content/openpose/build/examples/tutorial_api_python\n",
        "    #!python3 04_keypoints_from_images.py --image_dir '{folder_dir}' --keypoint_scale 3 --no_display true\n",
        "    keypoints = np.zeros(shape=(75))\n",
        "    keypoint_list = keypoints.tolist()\n",
        "    data[\"keypoints\"].append(keypoint_list)\n",
        "\n",
        "print(data)\n",
        "\n",
        "with open(json_path, \"w\") as fp:\n",
        "  json.dump(data, fp, indent=4)\n"
      ],
      "metadata": {
        "colab": {
          "base_uri": "https://localhost:8080/"
        },
        "id": "QSl7fKevSZFM",
        "outputId": "d5ab0fdb-21e0-49ac-9568-b9396b7e423a"
      },
      "execution_count": 8,
      "outputs": [
        {
          "output_type": "stream",
          "name": "stdout",
          "text": [
            "['NoTelemark', 'Telemark']\n",
            "/content.gdrive/My Drive/Train2/NoTelemark\n",
            "['01']\n",
            "/content.gdrive/My Drive/Train2/NoTelemark/01\n",
            "/content.gdrive/My Drive/Train2/Telemark\n",
            "['02', '01']\n",
            "/content.gdrive/My Drive/Train2/Telemark/02\n",
            "/content.gdrive/My Drive/Train2/Telemark/01\n",
            "{'labels': [['NoTelemark', 'Telemark']], 'keypoints': [[0.0, 0.0, 0.0, 0.0, 0.0, 0.0, 0.0, 0.0, 0.0, 0.0, 0.0, 0.0, 0.0, 0.0, 0.0, 0.0, 0.0, 0.0, 0.0, 0.0, 0.0, 0.0, 0.0, 0.0, 0.0, 0.0, 0.0, 0.0, 0.0, 0.0, 0.0, 0.0, 0.0, 0.0, 0.0, 0.0, 0.0, 0.0, 0.0, 0.0, 0.0, 0.0, 0.0, 0.0, 0.0, 0.0, 0.0, 0.0, 0.0, 0.0, 0.0, 0.0, 0.0, 0.0, 0.0, 0.0, 0.0, 0.0, 0.0, 0.0, 0.0, 0.0, 0.0, 0.0, 0.0, 0.0, 0.0, 0.0, 0.0, 0.0, 0.0, 0.0, 0.0, 0.0, 0.0], [0.0, 0.0, 0.0, 0.0, 0.0, 0.0, 0.0, 0.0, 0.0, 0.0, 0.0, 0.0, 0.0, 0.0, 0.0, 0.0, 0.0, 0.0, 0.0, 0.0, 0.0, 0.0, 0.0, 0.0, 0.0, 0.0, 0.0, 0.0, 0.0, 0.0, 0.0, 0.0, 0.0, 0.0, 0.0, 0.0, 0.0, 0.0, 0.0, 0.0, 0.0, 0.0, 0.0, 0.0, 0.0, 0.0, 0.0, 0.0, 0.0, 0.0, 0.0, 0.0, 0.0, 0.0, 0.0, 0.0, 0.0, 0.0, 0.0, 0.0, 0.0, 0.0, 0.0, 0.0, 0.0, 0.0, 0.0, 0.0, 0.0, 0.0, 0.0, 0.0, 0.0, 0.0, 0.0], [0.0, 0.0, 0.0, 0.0, 0.0, 0.0, 0.0, 0.0, 0.0, 0.0, 0.0, 0.0, 0.0, 0.0, 0.0, 0.0, 0.0, 0.0, 0.0, 0.0, 0.0, 0.0, 0.0, 0.0, 0.0, 0.0, 0.0, 0.0, 0.0, 0.0, 0.0, 0.0, 0.0, 0.0, 0.0, 0.0, 0.0, 0.0, 0.0, 0.0, 0.0, 0.0, 0.0, 0.0, 0.0, 0.0, 0.0, 0.0, 0.0, 0.0, 0.0, 0.0, 0.0, 0.0, 0.0, 0.0, 0.0, 0.0, 0.0, 0.0, 0.0, 0.0, 0.0, 0.0, 0.0, 0.0, 0.0, 0.0, 0.0, 0.0, 0.0, 0.0, 0.0, 0.0, 0.0]]}\n"
          ]
        }
      ]
    }
  ]
}