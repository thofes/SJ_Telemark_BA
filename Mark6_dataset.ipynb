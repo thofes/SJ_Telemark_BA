{
  "cells": [
    {
      "cell_type": "markdown",
      "metadata": {
        "id": "view-in-github",
        "colab_type": "text"
      },
      "source": [
        "<a href=\"https://colab.research.google.com/github/thofes/judging_SJ_BA/blob/main/Mark6_dataset.ipynb\" target=\"_parent\"><img src=\"https://colab.research.google.com/assets/colab-badge.svg\" alt=\"Open In Colab\"/></a>"
      ]
    },
    {
      "cell_type": "code",
      "execution_count": null,
      "metadata": {
        "id": "fHxXEr88Ra6k"
      },
      "outputs": [],
      "source": [
        "#Connect GDrive\n",
        "from google.colab import drive\n",
        "drive.mount('/content.gdrive')\n",
        "\n",
        "#init Repository - YOLOv5\n",
        "%cd /content\n",
        "\n",
        "\n",
        "!git clone https://github.com/thofes/yolov5  # clone\n",
        "%cd yolov5\n",
        "%pip install -qr requirements.txt  # install\n",
        "\n",
        "\n",
        "#init Repository - OpenPose\n",
        "import os\n",
        "from os.path import exists, join, basename, splitext\n",
        "\n",
        "#Change the drive to my mounted gdrive\n",
        "%cd /content\n",
        "\n",
        "git_repo_url = 'https://github.com/thofes/openpose'\n",
        "project_name = splitext(basename(git_repo_url))[0]\n",
        "\n",
        "if 1 or not exists(project_name):\n",
        "  !rm -rf openpose\n",
        "  # see: https://github.com/CMU-Perceptual-Computing-Lab/openpose/issues/949\n",
        "  print(\"install new CMake becaue of CUDA10\")\n",
        "  cmake_version = 'cmake-3.20.2-linux-x86_64.tar.gz'\n",
        "  if not exists(cmake_version):\n",
        "    !wget -q 'https://cmake.org/files/v3.20/{cmake_version}'\n",
        "  !tar xfz {cmake_version} --strip-components=1 -C /usr/local\n",
        "\n",
        "  print(\"clone openpose\")\n",
        "  !git clone -q --depth 1 $git_repo_url\n",
        "  print(\"install system dependencies\")\n",
        "  !apt-get -qq install -y libatlas-base-dev libprotobuf-dev libleveldb-dev libsnappy-dev libhdf5-serial-dev protobuf-compiler libgflags-dev libgoogle-glog-dev liblmdb-dev opencl-headers ocl-icd-opencl-dev libviennacl-dev\n",
        "  print(\"build openpose\")\n",
        "  !cd openpose && rm -rf build || true && mkdir build && cd build && cmake .. && make -j`nproc`"
      ]
    },
    {
      "cell_type": "code",
      "execution_count": null,
      "metadata": {
        "id": "QSl7fKevSZFM"
      },
      "outputs": [],
      "source": [
        "import os\n",
        "from os.path import exists, join, basename, splitext\n",
        "import json\n",
        "import numpy as np\n",
        "\n",
        "#Aufbau Json File genau anschauen\n",
        "\n",
        "json_path = \"/content.gdrive/My Drive//Train2/data.json\"\n",
        "#json_path = \"/content/data.json\"\n",
        "# dictionary to store mapping, labels, and Keypoints\n",
        "data = {\n",
        "    \"labels\":[],\n",
        "    \"keypoints\":[]\n",
        "}\n",
        "\n",
        "PATH = \"/content.gdrive/My Drive/Train2\"\n",
        "label= []\n",
        "try:\n",
        "    label = next(os.walk(PATH))[1]\n",
        "except StopIteration:\n",
        "    pass\n",
        "#data[\"labels\"].append(label)\n",
        "print(label)\n",
        "\n",
        "for l in label:\n",
        "  Path_jumpers = PATH + '/' + l\n",
        "  print(Path_jumpers)\n",
        "  Jumpers = []\n",
        "  try:\n",
        "    Jumpers = next(os.walk(Path_jumpers))[1]\n",
        "  except StopIteration:\n",
        "    pass\n",
        "  print(Jumpers)\n",
        "\n",
        "  for j in Jumpers:\n",
        "    Path_Pic = Path_jumpers + '/' + j\n",
        "    print(Path_Pic)\n",
        "\n",
        "    %cd /content/yolov5\n",
        "    !python detect.py --save-crop --source '{Path_Pic}' --project '{Path_Pic}' --save-txt\n",
        "\n",
        "    folder_dir = Path_Pic + '/exp'\n",
        "    %cd /content/openpose/build/examples/tutorial_api_python\n",
        "    !python3 04_keypoints_from_images.py --image_dir '{folder_dir}' --keypoint_scale 3 --no_display true\n",
        "\n",
        "    with open(Path_Pic + '/exp/keypoints.json', \"r\") as fp:\n",
        "        keypoints_json = json.load(fp)\n",
        "\n",
        "    data[\"keypoints\"].append(keypoints_json)\n",
        "\n",
        "    if l == 'NoTelemark':\n",
        "        data[\"labels\"].append(0)\n",
        "    if l == 'Telemark':\n",
        "        data[\"labels\"].append(1)    \n",
        "\n",
        "    #with open(Path_Pic + '/exp/keypoints.txt', \"r\") as keypointfile:\n",
        "        #keypoints = keypointfile.read()\n",
        "    #data[\"keypoints\"].append(keypoints)\n",
        "\n",
        "\n",
        "with open(json_path, \"w\") as fp:\n",
        "  json.dump(data, fp, indent=4)\n"
      ]
    },
    {
      "cell_type": "code",
      "source": [
        "\n",
        "#test load data\n",
        "import json\n",
        "import numpy as np\n",
        "from sklearn.model_selection import train_test_split\n",
        "import tensorflow.keras as keras\n",
        "\n",
        "with open('/content.gdrive/MyDrive/Train2/data.json', \"r\") as fp:\n",
        "    data = json.load(fp)\n",
        "\n",
        "# convert lists to numpy arrays\n",
        "X = np.array(data[\"keypoints\"])\n",
        "#X = np.array(data[\"mfcc\"])\n",
        "y = np.array(data[\"labels\"])\n",
        "\n",
        "print(X)\n",
        "print(X.shape)\n",
        "print(y)\n",
        "print(y.shape)\n",
        "\n",
        "\n",
        "#X_train, X_test, y_train, y_test = train_test_split(X, y, test_size=0.3)\n"
      ],
      "metadata": {
        "id": "E9TXW6Gm35oc"
      },
      "execution_count": null,
      "outputs": []
    }
  ],
  "metadata": {
    "accelerator": "GPU",
    "colab": {
      "name": "Mark6_dataset.ipynb",
      "provenance": [],
      "authorship_tag": "ABX9TyNiER1l152ksSXid+01f+Tc",
      "include_colab_link": true
    },
    "kernelspec": {
      "display_name": "Python 3",
      "name": "python3"
    },
    "language_info": {
      "name": "python"
    }
  },
  "nbformat": 4,
  "nbformat_minor": 0
}