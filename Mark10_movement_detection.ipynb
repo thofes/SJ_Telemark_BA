{
  "nbformat": 4,
  "nbformat_minor": 0,
  "metadata": {
    "colab": {
      "name": "Mark10_movement_detection.ipynb",
      "provenance": [],
      "authorship_tag": "ABX9TyNSPFOq9hLDxcvKabKuVdc9",
      "include_colab_link": true
    },
    "kernelspec": {
      "name": "python3",
      "display_name": "Python 3"
    },
    "language_info": {
      "name": "python"
    }
  },
  "cells": [
    {
      "cell_type": "markdown",
      "metadata": {
        "id": "view-in-github",
        "colab_type": "text"
      },
      "source": [
        "<a href=\"https://colab.research.google.com/github/thofes/judging_SJ_BA/blob/main/Mark10_movement_detection.ipynb\" target=\"_parent\"><img src=\"https://colab.research.google.com/assets/colab-badge.svg\" alt=\"Open In Colab\"/></a>"
      ]
    },
    {
      "cell_type": "code",
      "execution_count": 1,
      "metadata": {
        "colab": {
          "base_uri": "https://localhost:8080/"
        },
        "id": "bufQyvAjLFI0",
        "outputId": "6171349c-7f4f-4b75-eca1-ad4250d6f71c"
      },
      "outputs": [
        {
          "output_type": "stream",
          "name": "stdout",
          "text": [
            "Mounted at /content.gdrive\n"
          ]
        }
      ],
      "source": [
        "#Connect GDrive\n",
        "from google.colab import drive\n",
        "drive.mount('/content.gdrive')\n"
      ]
    },
    {
      "cell_type": "code",
      "source": [
        "import json\n",
        "import numpy as np\n",
        "import cv2\n",
        "\n",
        "with open('/content.gdrive/MyDrive/Test2/mark5/predictions.json', \"r\") as fp:\n",
        "    data = json.load(fp)\n",
        "\n",
        "print(type(data[\"x_center\"]))\n",
        "print(data[\"x_center\"])\n",
        "# convert lists to numpy arrays\n",
        "x_center = np.array(data[\"x_center\"])\n",
        "y_center = np.array(data[\"y_center\"])\n",
        "x1 = np.array(data[\"x1\"])\n",
        "x2 = np.array(data[\"x2\"])\n",
        "y1 = np.array(data[\"y1\"])\n",
        "y2 = np.array(data[\"y2\"])\n",
        "det = np.array(data[\"det\"])\n",
        "width = 1920\n",
        "hight = 1080\n"
      ],
      "metadata": {
        "colab": {
          "base_uri": "https://localhost:8080/"
        },
        "id": "IxzSQTXfLIDB",
        "outputId": "86668809-8024-4dcd-9cc4-b1d13302a20c"
      },
      "execution_count": 29,
      "outputs": [
        {
          "output_type": "stream",
          "name": "stdout",
          "text": [
            "<class 'list'>\n",
            "[1276.4999771118164, 1277.9999542236328, 347.49999046325684, 1145.0000381469727, 416.49999618530273, 956.0000038146973, 720.9999847412109, 1232.4999618530273, 346.5000057220459, 416.49999618530273, 1276.9999694824219, 1144.5000457763672, 956.9999885559082, 720.4999923706055, 1456.4999771118164, 416.49999618530273, 1276.4999771118164, 1145.5000305175781, 956.0000038146973, 347.49999046325684, 720.4999923706055, 1155.4999923706055, 1275.999984741211, 956.4999961853027, 416.00000381469727, 1145.5000305175781, 348.0000114440918, 720.0, 350.50000190734863, 416.49999618530273, 1275.4999923706055, 956.0000038146973, 1145.0000381469727, 1115.0000381469727, 720.4999923706055, 1095.999984741211, 1276.9999694824219, 350.50000190734863, 416.9999885559082, 956.4999961853027, 1145.0000381469727, 719.5000076293945, 1064.000015258789, 956.9999885559082, 1276.4999771118164, 350.50000190734863, 1145.5000305175781, 416.49999618530273, 720.0, 837.4999809265137, 1277.4999618530273, 956.9999885559082, 416.9999885559082, 352.00000762939453, 1145.5000305175781, 720.4999923706055, 1014.4999694824219, 1277.9999542236328, 956.9999885559082, 1145.5000305175781, 416.9999885559082, 350.50000190734863, 719.5000076293945, 981.0000228881836, 1277.4999618530273, 957.4999809265137, 948.0000114440918, 1146.0000228881836, 416.9999885559082, 352.00000762939453, 720.0, 283.99998664855957, 1145.5000305175781, 1276.9999694824219, 957.4999809265137, 911.4999961853027, 417.50000953674316, 350.00000953674316, 719.5000076293945, 283.4999942779541, 352.00000762939453, 957.4999809265137, 1146.0000228881836, 1277.4999618530273, 417.50000953674316, 877.9999923706055, 720.0, 283.99998664855957, 957.4999809265137, 847.0000076293945, 354.99999046325684, 1276.9999694824219, 1146.500015258789, 417.50000953674316, 720.0, 958.5000228881836, 1277.4999618530273, 809.0000152587891, 1146.500015258789, 417.50000953674316, 720.4999923706055, 772.0000076293945, 358.00000190734863, 283.4999942779541, 1281.500015258789, 957.9999732971191, 776.9999885559082, 1146.500015258789, 418.00000190734863, 720.4999923706055, 745.5000114440918, 1277.4999618530273, 957.4999809265137, 418.00000190734863, 1146.0000228881836, 719.5000076293945, 285.0, 708.0000114440918, 1280.0000381469727, 957.4999809265137, 358.00000190734863, 1145.5000305175781, 417.50000953674316, 720.0, 283.4999942779541, 1279.5000457763672, 957.4999809265137, 358.99998664855957, 677.0000267028809, 1146.0000228881836, 418.00000190734863, 719.5000076293945, 283.99998664855957, 645.4999923706055, 1281.0000228881836, 957.9999732971191, 357.50000953674316, 418.4999942779541, 1146.0000228881836, 720.0, 614.5000076293945, 961.4999771118164, 1279.5000457763672, 355.5000114440918, 417.50000953674316, 1146.0000228881836, 720.0, 210.99999904632568, 283.00000190734863, 584.0000152587891, 1277.4999618530273, 957.9999732971191, 417.50000953674316, 355.5000114440918, 1146.500015258789, 720.0]\n"
          ]
        }
      ]
    },
    {
      "cell_type": "code",
      "source": [
        "print(sum(det[:1]))\n",
        "print(det)\n",
        "print(sum(det[:0+1]))\n",
        "print(sum(det[:0])+0)\n",
        "print(math.sqrt((x_center[sum(det[:0+1])]-x_center[sum(det[:0])+0])**2 + (y_center[sum(det[:0+1])]-y_center[sum(det[:0])+0])**2))\n",
        "\n",
        "list_soll = [1,0,'X',0,5,0,0,7,6,2,4,6,2,2,5,0,1,4,1,0,2]\n"
      ],
      "metadata": {
        "colab": {
          "base_uri": "https://localhost:8080/"
        },
        "id": "2jkWg-i3NH9X",
        "outputId": "64e262c3-e28d-4be6-b585-c0c5c5673163"
      },
      "execution_count": 42,
      "outputs": [
        {
          "output_type": "stream",
          "name": "stdout",
          "text": [
            "7\n",
            "[7 7 7 7 7 7 7 8 7 7 8 8 8 6 9 6 8 8 8 7 9]\n",
            "7\n",
            "0\n",
            "115.69361771412606\n"
          ]
        }
      ]
    },
    {
      "cell_type": "code",
      "source": [
        "#detect movement\n",
        "import math\n",
        "from collections import OrderedDict\n",
        "\n",
        "athlet_det_index = []\n",
        "y_centers = []\n",
        "\n",
        "for y in range(21):\n",
        "    distance = []\n",
        "    distance_index = []\n",
        "    valid_dist_index = []\n",
        "    y_center_per_det = []\n",
        "    if y < 20:\n",
        "        for x in range(det[y+1]):\n",
        "            y_center_per_det.append(y_center[sum(det[:y])+x])\n",
        "            for i in range(det[y]):\n",
        "                distance.append(math.sqrt((x_center[sum(det[:y+1])+x]-x_center[sum(det[:y])+i])**2 + (y_center[sum(det[:y+1])+x]-y_center[sum(det[:y])+i])**2))\n",
        "                distance_index.append(i)\n",
        "        #print(distance)\n",
        "        \n",
        "              \n",
        "    else:\n",
        "        for x in range(det[y-1]):\n",
        "\n",
        "            for i in range(det[y]):\n",
        "                distance.append(math.sqrt((x_center[sum(det[:y-1])+x]-x_center[sum(det[:y])+i])**2 + (y_center[sum(det[:y-1])+x]-y_center[sum(det[:y])+i])**2))\n",
        "                distance_index.append(i)\n",
        "        #print(distance)\n",
        "        #print(distance_index)\n",
        "\n",
        "    #print(y_center_per_det)\n",
        "    y_centers.append(y_center_per_det)\n",
        "    for i, x in enumerate(distance):\n",
        "        if x > 15 and x < 50:\n",
        "            valid_dist_index.append(distance_index[i])\n",
        "    \n",
        "    #print(y_centers)\n",
        "    #print(len(y_center_per_det))\n",
        "    #print(athlet_det_index)\n",
        "    print(\"bevor\", valid_dist_index)\n",
        "    #print(\"athlet\", athlet_det_index)\n",
        "    if len(valid_dist_index) == 0:\n",
        "        athlet_det_index.append('X')\n",
        "        \"\"\"\n",
        "        #athlet_det_index.append('X')\n",
        "        distance = []\n",
        "        distance_index = []\n",
        "        valid_dist_index = []\n",
        "        y_center_per_det = []        \n",
        "        for x in range(det[y-1]):\n",
        "\n",
        "            for i in range(det[y]):\n",
        "                distance.append(math.sqrt((x_center[sum(det[:y-1])+x]-x_center[sum(det[:y])+i])**2 + (y_center[sum(det[:y-1])+x]-y_center[sum(det[:y])+i])**2))\n",
        "                distance_index.append(i)\n",
        "        #y_centers.append(y_center_per_det)\n",
        "        for i, x in enumerate(distance):\n",
        "            if x > 15 and x < 50:\n",
        "                valid_dist_index.append(distance_index[i])\n",
        "        print(\"BPBP\", valid_dist_index)\n",
        "        \"\"\"\n",
        "        \n",
        "\n",
        "    if len(valid_dist_index) > 1:\n",
        "        valid_dist_index = list(OrderedDict.fromkeys(valid_dist_index))\n",
        "        #print(valid_dist_index) \n",
        "    #print(len(valid_dist_index))\n",
        "    if len(valid_dist_index) == 1:\n",
        "        athlet_det_index.append(valid_dist_index[0])\n",
        "      \n",
        "\n",
        "\n",
        "\n",
        "    if len(valid_dist_index) > 1:\n",
        "        dist_to_previous_y_center = []\n",
        "        print(\"for\", valid_dist_index)\n",
        "        for i, x in enumerate(valid_dist_index):\n",
        "            #print(\"x\",x)\n",
        "            #print(\"y\",y)\n",
        "            #print(len(y_centers))\n",
        "            #print(len(y_center_per_det))\n",
        "            #print(len(athlet_det_index))\n",
        "            #print(\"abs\", abs(y_center_per_det[x]-y_centers[y-1][athlet_det_index[y-1]]))\n",
        "            dist_to_previous_y_center.append(abs(y_center_per_det[x]-y_centers[y-1][athlet_det_index[y-1]]))\n",
        "\n",
        "        #print(\"dist\", dist_to_previous_y_center)\n",
        "\n",
        "        closest = min(dist_to_previous_y_center)\n",
        "        min_index = dist_to_previous_y_center.index(closest)\n",
        "        athlet_det_index.append(valid_dist_index[min_index])\n",
        "        #print(\"BP\",valid_dist_index[min_index])\n",
        "\n",
        "\n",
        "\n",
        "\n",
        "    \n",
        "\n",
        "\n",
        "\n",
        "\n",
        "\n",
        "\n",
        "#print(list_soll)\n",
        "print(athlet_det_index)\n",
        "\n",
        "\n",
        "\n",
        "\n",
        "\n"
      ],
      "metadata": {
        "colab": {
          "base_uri": "https://localhost:8080/",
          "height": 755
        },
        "id": "6Z5KA_1nLV8X",
        "outputId": "13234096-6c6f-4032-b157-0a4145ff1b8b"
      },
      "execution_count": 36,
      "outputs": [
        {
          "output_type": "stream",
          "name": "stdout",
          "text": [
            "bevor [1]\n",
            "bevor []\n",
            "bevor []\n",
            "bevor [0]\n",
            "bevor [5]\n",
            "bevor [0]\n",
            "bevor [0]\n",
            "bevor [7]\n",
            "bevor [6]\n",
            "bevor [5, 2]\n",
            "for [5, 2]\n",
            "bevor [6, 0, 4]\n",
            "for [6, 0, 4]\n",
            "bevor [1, 6, 0]\n",
            "for [1, 6, 0]\n",
            "bevor [2]\n",
            "bevor [2, 2]\n",
            "bevor [0, 5]\n",
            "for [0, 5]\n",
            "bevor [0]\n",
            "bevor [4, 0, 1]\n",
            "for [4, 0, 1]\n",
            "bevor [3, 4, 0]\n",
            "for [3, 4, 0]\n",
            "bevor [1, 0]\n",
            "for [1, 0]\n",
            "bevor [3, 0]\n",
            "for [3, 0]\n",
            "bevor [2, 1]\n",
            "for [2, 1]\n"
          ]
        },
        {
          "output_type": "error",
          "ename": "IndexError",
          "evalue": "ignored",
          "traceback": [
            "\u001b[0;31m---------------------------------------------------------------------------\u001b[0m",
            "\u001b[0;31mIndexError\u001b[0m                                Traceback (most recent call last)",
            "\u001b[0;32m<ipython-input-36-b98d401eb4fd>\u001b[0m in \u001b[0;36m<module>\u001b[0;34m()\u001b[0m\n\u001b[1;32m     81\u001b[0m             \u001b[0;31m#print(len(athlet_det_index))\u001b[0m\u001b[0;34m\u001b[0m\u001b[0;34m\u001b[0m\u001b[0;34m\u001b[0m\u001b[0m\n\u001b[1;32m     82\u001b[0m             \u001b[0;31m#print(\"abs\", abs(y_center_per_det[x]-y_centers[y-1][athlet_det_index[y-1]]))\u001b[0m\u001b[0;34m\u001b[0m\u001b[0;34m\u001b[0m\u001b[0;34m\u001b[0m\u001b[0m\n\u001b[0;32m---> 83\u001b[0;31m             \u001b[0mdist_to_previous_y_center\u001b[0m\u001b[0;34m.\u001b[0m\u001b[0mappend\u001b[0m\u001b[0;34m(\u001b[0m\u001b[0mabs\u001b[0m\u001b[0;34m(\u001b[0m\u001b[0my_center_per_det\u001b[0m\u001b[0;34m[\u001b[0m\u001b[0mx\u001b[0m\u001b[0;34m]\u001b[0m\u001b[0;34m-\u001b[0m\u001b[0my_centers\u001b[0m\u001b[0;34m[\u001b[0m\u001b[0my\u001b[0m\u001b[0;34m-\u001b[0m\u001b[0;36m1\u001b[0m\u001b[0;34m]\u001b[0m\u001b[0;34m[\u001b[0m\u001b[0mathlet_det_index\u001b[0m\u001b[0;34m[\u001b[0m\u001b[0my\u001b[0m\u001b[0;34m-\u001b[0m\u001b[0;36m1\u001b[0m\u001b[0;34m]\u001b[0m\u001b[0;34m]\u001b[0m\u001b[0;34m)\u001b[0m\u001b[0;34m)\u001b[0m\u001b[0;34m\u001b[0m\u001b[0;34m\u001b[0m\u001b[0m\n\u001b[0m\u001b[1;32m     84\u001b[0m \u001b[0;34m\u001b[0m\u001b[0m\n\u001b[1;32m     85\u001b[0m         \u001b[0;31m#print(\"dist\", dist_to_previous_y_center)\u001b[0m\u001b[0;34m\u001b[0m\u001b[0;34m\u001b[0m\u001b[0;34m\u001b[0m\u001b[0m\n",
            "\u001b[0;31mIndexError\u001b[0m: list index out of range"
          ]
        }
      ]
    },
    {
      "cell_type": "code",
      "source": [
        "for i,x in enumerate(athlet_det_index):\n",
        "    if x != 'X':\n",
        "        print(sum(det[:i]))\n",
        "        print(x)\n",
        "        x_1 = x1[sum(det[:i])+x]-50\n",
        "        x_2 = x2[sum(det[:i])+x]+50\n",
        "        y_1 = y1[sum(det[:i])+x]-50\n",
        "        y_2 = y2[sum(det[:i])+x]+50\n",
        "\n",
        "        if x_1 < 0:\n",
        "            x_1 = 0\n",
        "\n",
        "        if x_2 > width:\n",
        "            x_2 = width\n",
        "\n",
        "        if y_1 < 0:\n",
        "            y_1 = 0\n",
        "\n",
        "        if y_2 > hight:\n",
        "            y_2 = hight\n",
        "\n",
        "\n",
        "        path = '/content.gdrive/MyDrive/Test2/' + str(i+1) + '.jpg'\n",
        "        print(path)\n",
        "        im = cv2.imread(path)\n",
        "        print(x_1, x_2, y_1, y_2)\n",
        "        crop = im[int(y_1):int(y_2), int(x_1):int(x_2)] \n",
        "        #save_dir.parent.mkdir(parents=True, exist_ok=True)  # make directory\n",
        "        save_path = '/content.gdrive/MyDrive/Test2/mark10/' + str(i+1) + '.jpg'\n",
        "        cv2.imwrite(save_path, crop) # speicher nur den zugeschnittenen Springer\n"
      ],
      "metadata": {
        "colab": {
          "base_uri": "https://localhost:8080/"
        },
        "id": "-PqeKqS6udZm",
        "outputId": "ff785c7f-6050-418f-f412-a59a68526567"
      },
      "execution_count": 32,
      "outputs": [
        {
          "output_type": "stream",
          "name": "stdout",
          "text": [
            "0\n",
            "1\n",
            "/content.gdrive/MyDrive/Test2/1.jpg\n",
            "1204.0 1352.0 543.0 749.0\n",
            "21\n",
            "0\n",
            "/content.gdrive/MyDrive/Test2/4.jpg\n",
            "1074.0 1237.0 562.0 765.0\n",
            "28\n",
            "5\n",
            "/content.gdrive/MyDrive/Test2/5.jpg\n",
            "1032.0 1198.0 551.0 767.0\n",
            "35\n",
            "0\n",
            "/content.gdrive/MyDrive/Test2/6.jpg\n",
            "1007.0 1185.0 578.0 765.0\n",
            "42\n",
            "0\n",
            "/content.gdrive/MyDrive/Test2/7.jpg\n",
            "974.0 1154.0 581.0 773.0\n",
            "49\n",
            "7\n",
            "/content.gdrive/MyDrive/Test2/8.jpg\n",
            "936.0 1093.0 584.0 779.0\n",
            "57\n",
            "6\n",
            "/content.gdrive/MyDrive/Test2/9.jpg\n",
            "906.0 1056.0 584.0 784.0\n",
            "64\n",
            "2\n",
            "/content.gdrive/MyDrive/Test2/10.jpg\n",
            "874.0 1022.0 596.0 786.0\n",
            "71\n",
            "4\n",
            "/content.gdrive/MyDrive/Test2/11.jpg\n",
            "837.0 986.0 601.0 788.0\n",
            "79\n",
            "6\n",
            "/content.gdrive/MyDrive/Test2/12.jpg\n",
            "804.0 952.0 595.0 790.0\n",
            "87\n",
            "2\n",
            "/content.gdrive/MyDrive/Test2/13.jpg\n",
            "776.0 918.0 619.0 794.0\n",
            "95\n",
            "2\n",
            "/content.gdrive/MyDrive/Test2/14.jpg\n",
            "737.0 881.0 610.0 794.0\n",
            "101\n",
            "5\n",
            "/content.gdrive/MyDrive/Test2/15.jpg\n",
            "701.0 853.0 618.0 792.0\n",
            "110\n",
            "0\n",
            "/content.gdrive/MyDrive/Test2/16.jpg\n",
            "671.0 820.0 620.0 792.0\n",
            "116\n",
            "1\n",
            "/content.gdrive/MyDrive/Test2/17.jpg\n",
            "631.0 785.0 619.0 794.0\n",
            "124\n",
            "4\n",
            "/content.gdrive/MyDrive/Test2/18.jpg\n",
            "603.0 751.0 617.0 794.0\n",
            "132\n",
            "1\n",
            "/content.gdrive/MyDrive/Test2/19.jpg\n",
            "571.0 720.0 624.0 795.0\n",
            "140\n",
            "0\n",
            "/content.gdrive/MyDrive/Test2/20.jpg\n",
            "539.0 690.0 624.0 800.0\n",
            "147\n",
            "2\n",
            "/content.gdrive/MyDrive/Test2/21.jpg\n",
            "509.0 659.0 628.0 801.0\n"
          ]
        }
      ]
    },
    {
      "cell_type": "code",
      "source": [
        ""
      ],
      "metadata": {
        "id": "522Mtjw-udhr"
      },
      "execution_count": null,
      "outputs": []
    }
  ]
}