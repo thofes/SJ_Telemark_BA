{
  "nbformat": 4,
  "nbformat_minor": 0,
  "metadata": {
    "colab": {
      "name": "Mark10_movement_detection.ipynb",
      "provenance": [],
      "authorship_tag": "ABX9TyNeAy+OkpVpm5w5GEH9bAde",
      "include_colab_link": true
    },
    "kernelspec": {
      "name": "python3",
      "display_name": "Python 3"
    },
    "language_info": {
      "name": "python"
    }
  },
  "cells": [
    {
      "cell_type": "markdown",
      "metadata": {
        "id": "view-in-github",
        "colab_type": "text"
      },
      "source": [
        "<a href=\"https://colab.research.google.com/github/thofes/judging_SJ_BA/blob/main/Mark10_movement_detection.ipynb\" target=\"_parent\"><img src=\"https://colab.research.google.com/assets/colab-badge.svg\" alt=\"Open In Colab\"/></a>"
      ]
    },
    {
      "cell_type": "code",
      "execution_count": 1,
      "metadata": {
        "colab": {
          "base_uri": "https://localhost:8080/"
        },
        "id": "bufQyvAjLFI0",
        "outputId": "2ffba131-34e1-45b5-c5ca-3d1c519affbe"
      },
      "outputs": [
        {
          "output_type": "stream",
          "name": "stdout",
          "text": [
            "Mounted at /content.gdrive\n"
          ]
        }
      ],
      "source": [
        "#Connect GDrive\n",
        "from google.colab import drive\n",
        "drive.mount('/content.gdrive')\n"
      ]
    },
    {
      "cell_type": "code",
      "source": [
        "import json\n",
        "import numpy as np\n",
        "import cv2\n",
        "\n",
        "with open('/content.gdrive/MyDrive/Test2/exp53/predictions.json', \"r\") as fp:\n",
        "    data = json.load(fp)\n",
        "\n",
        "print(type(data[\"x_center\"]))\n",
        "print(data[\"x_center\"])\n",
        "# convert lists to numpy arrays\n",
        "x_center = np.array(data[\"x_center\"])\n",
        "y_center = np.array(data[\"y_center\"])\n",
        "x1 = np.array(data[\"x1\"])\n",
        "x2 = np.array(data[\"x2\"])\n",
        "y1 = np.array(data[\"y1\"])\n",
        "y2 = np.array(data[\"y2\"])\n",
        "det = np.array(data[\"det\"])\n",
        "width = 1920\n",
        "hight = 1080\n"
      ],
      "metadata": {
        "colab": {
          "base_uri": "https://localhost:8080/"
        },
        "id": "IxzSQTXfLIDB",
        "outputId": "e933e4fd-c396-4171-d8bd-8517e4892403"
      },
      "execution_count": 101,
      "outputs": [
        {
          "output_type": "stream",
          "name": "stdout",
          "text": [
            "<class 'list'>\n",
            "[1276.4999771118164, 1277.9999542236328, 347.49999046325684, 1145.0000381469727, 416.49999618530273, 956.0000038146973, 720.9999847412109, 1232.4999618530273, 346.5000057220459, 416.49999618530273, 1276.9999694824219, 1144.5000457763672, 956.9999885559082, 720.4999923706055, 1456.4999771118164, 416.49999618530273, 1276.4999771118164, 1145.5000305175781, 956.0000038146973, 347.49999046325684, 720.4999923706055, 1155.4999923706055, 1275.999984741211, 956.4999961853027, 416.00000381469727, 1145.5000305175781, 348.0000114440918, 720.0, 350.50000190734863, 416.49999618530273, 1275.4999923706055, 956.0000038146973, 1145.0000381469727, 1115.0000381469727, 720.4999923706055, 1095.999984741211, 1276.9999694824219, 350.50000190734863, 416.9999885559082, 956.4999961853027, 1145.0000381469727, 719.5000076293945, 1064.000015258789, 956.9999885559082, 1276.4999771118164, 350.50000190734863, 1145.5000305175781, 416.49999618530273, 720.0, 837.4999809265137, 1277.4999618530273, 956.9999885559082, 416.9999885559082, 352.00000762939453, 1145.5000305175781, 720.4999923706055, 1014.4999694824219, 1277.9999542236328, 956.9999885559082, 1145.5000305175781, 416.9999885559082, 350.50000190734863, 719.5000076293945, 981.0000228881836, 1277.4999618530273, 957.4999809265137, 948.0000114440918, 1146.0000228881836, 416.9999885559082, 352.00000762939453, 720.0, 283.99998664855957, 1145.5000305175781, 1276.9999694824219, 957.4999809265137, 911.4999961853027, 417.50000953674316, 350.00000953674316, 719.5000076293945, 283.4999942779541, 352.00000762939453, 957.4999809265137, 1146.0000228881836, 1277.4999618530273, 417.50000953674316, 877.9999923706055, 720.0, 283.99998664855957, 957.4999809265137, 847.0000076293945, 354.99999046325684, 1276.9999694824219, 1146.500015258789, 417.50000953674316, 720.0, 958.5000228881836, 1277.4999618530273, 809.0000152587891, 1146.500015258789, 417.50000953674316, 720.4999923706055, 772.0000076293945, 358.00000190734863, 283.4999942779541, 1281.500015258789, 957.9999732971191, 776.9999885559082, 1146.500015258789, 418.00000190734863, 720.4999923706055, 745.5000114440918, 1277.4999618530273, 957.4999809265137, 418.00000190734863, 1146.0000228881836, 719.5000076293945, 285.0, 708.0000114440918, 1280.0000381469727, 957.4999809265137, 358.00000190734863, 1145.5000305175781, 417.50000953674316, 720.0, 283.4999942779541, 1279.5000457763672, 957.4999809265137, 358.99998664855957, 677.0000267028809, 1146.0000228881836, 418.00000190734863, 719.5000076293945, 283.99998664855957, 645.4999923706055, 1281.0000228881836, 957.9999732971191, 357.50000953674316, 418.4999942779541, 1146.0000228881836, 720.0, 614.5000076293945, 961.4999771118164, 1279.5000457763672, 355.5000114440918, 417.50000953674316, 1146.0000228881836, 720.0, 210.99999904632568, 283.00000190734863, 584.0000152587891, 1277.4999618530273, 957.9999732971191, 417.50000953674316, 355.5000114440918, 1146.500015258789, 720.0]\n"
          ]
        }
      ]
    },
    {
      "cell_type": "code",
      "source": [
        "print(sum(det[:1]))\n",
        "print(det)\n",
        "print(sum(det[:0+1]))\n",
        "print(sum(det[:0])+0)\n",
        "print(math.sqrt((x_center[sum(det[:0+1])]-x_center[sum(det[:0])+0])**2 + (y_center[sum(det[:0+1])]-y_center[sum(det[:0])+0])**2))\n",
        "\n",
        "list_soll = [1,0,'X',0,5,0,0,7,6,2,4,6,2,2,5,0,1,4,1,0,2]\n"
      ],
      "metadata": {
        "colab": {
          "base_uri": "https://localhost:8080/"
        },
        "id": "2jkWg-i3NH9X",
        "outputId": "64e262c3-e28d-4be6-b585-c0c5c5673163"
      },
      "execution_count": 42,
      "outputs": [
        {
          "output_type": "stream",
          "name": "stdout",
          "text": [
            "7\n",
            "[7 7 7 7 7 7 7 8 7 7 8 8 8 6 9 6 8 8 8 7 9]\n",
            "7\n",
            "0\n",
            "115.69361771412606\n"
          ]
        }
      ]
    },
    {
      "cell_type": "code",
      "source": [
        "#detect movement\n",
        "import math\n",
        "from collections import OrderedDict\n",
        "\n",
        "athlet_det_index = []\n",
        "y_centers = []\n",
        "\n",
        "for y in range(21):\n",
        "    distance = []\n",
        "    distance_index = []\n",
        "    valid_dist_index = []\n",
        "    y_center_per_det = []\n",
        "    if y < 20:\n",
        "        for x in range(det[y+1]):\n",
        "            y_center_per_det.append(y_center[sum(det[:y])+x])\n",
        "            for i in range(det[y]):\n",
        "                distance.append(math.sqrt((x_center[sum(det[:y+1])+x]-x_center[sum(det[:y])+i])**2 + (y_center[sum(det[:y+1])+x]-y_center[sum(det[:y])+i])**2))\n",
        "                distance_index.append(i)\n",
        "        \n",
        "              \n",
        "    else:\n",
        "        for x in range(det[y-1]):\n",
        "\n",
        "            for i in range(det[y]):\n",
        "                distance.append(math.sqrt((x_center[sum(det[:y-1])+x]-x_center[sum(det[:y])+i])**2 + (y_center[sum(det[:y-1])+x]-y_center[sum(det[:y])+i])**2))\n",
        "                distance_index.append(i)\n",
        "        #print(distance)\n",
        "        #print(distance_index)\n",
        "\n",
        "    print(y_center_per_det)\n",
        "    y_centers.append(y_center_per_det)\n",
        "    for i, x in enumerate(distance):\n",
        "        if x > 15 and x < 50:\n",
        "            valid_dist_index.append(distance_index[i])\n",
        "    \n",
        "    print(len(y_centers))\n",
        "    print(len(y_center_per_det))\n",
        "    print(len(athlet_det_index))\n",
        "    print(\"bevor\", valid_dist_index)\n",
        "    #print(\"athlet\", athlet_det_index)\n",
        "    if len(valid_dist_index) == 0:\n",
        "        athlet_det_index.append('X')\n",
        "        \"\"\"\n",
        "        #athlet_det_index.append('X')\n",
        "        distance = []\n",
        "        distance_index = []\n",
        "        valid_dist_index = []\n",
        "        y_center_per_det = []        \n",
        "        for x in range(det[y-1]):\n",
        "\n",
        "            for i in range(det[y]):\n",
        "                distance.append(math.sqrt((x_center[sum(det[:y-1])+x]-x_center[sum(det[:y])+i])**2 + (y_center[sum(det[:y-1])+x]-y_center[sum(det[:y])+i])**2))\n",
        "                distance_index.append(i)\n",
        "        #y_centers.append(y_center_per_det)\n",
        "        for i, x in enumerate(distance):\n",
        "            if x > 15 and x < 50:\n",
        "                valid_dist_index.append(distance_index[i])\n",
        "        print(\"BPBP\", valid_dist_index)\n",
        "        \"\"\"\n",
        "        \n",
        "\n",
        "    if len(valid_dist_index) > 1:\n",
        "        valid_dist_index = list(OrderedDict.fromkeys(valid_dist_index)) \n",
        "    #print(len(valid_dist_index))\n",
        "    if len(valid_dist_index) == 1:\n",
        "        athlet_det_index.append(valid_dist_index[0])\n",
        "      \n",
        "\n",
        "\n",
        "\n",
        "    if len(valid_dist_index) > 1:\n",
        "        dist_to_previous_y_center = []\n",
        "        #print(\"for\", valid_dist_index)\n",
        "        for i, x in enumerate(valid_dist_index):\n",
        "            print(\"x\",x)\n",
        "            print(\"y\",y)\n",
        "            print(len(y_centers))\n",
        "            print(len(y_center_per_det))\n",
        "            print(len(athlet_det_index))\n",
        "            #print(\"abs\", abs(y_center_per_det[x]-y_centers[y-1][athlet_det_index[y-1]]))\n",
        "            dist_to_previous_y_center.append(abs(y_center_per_det[x]-y_centers[y-1][athlet_det_index[y-1]]))\n",
        "\n",
        "        #print(\"dist\", dist_to_previous_y_center)\n",
        "\n",
        "        closest = min(dist_to_previous_y_center)\n",
        "        min_index = dist_to_previous_y_center.index(closest)\n",
        "        athlet_det_index.append(valid_dist_index[min_index])\n",
        "        #print(\"BP\",valid_dist_index[min_index])\n",
        "\n",
        "\n",
        "\n",
        "\n",
        "    \n",
        "\n",
        "\n",
        "\n",
        "\n",
        "\n",
        "\n",
        "print(list_soll)\n",
        "print(athlet_det_index)\n",
        "\n",
        "\n",
        "\n",
        "\n",
        "\n"
      ],
      "metadata": {
        "colab": {
          "base_uri": "https://localhost:8080/"
        },
        "id": "6Z5KA_1nLV8X",
        "outputId": "8ebfcf98-9111-46d7-f023-2ecadb8c00c3"
      },
      "execution_count": 102,
      "outputs": [
        {
          "output_type": "stream",
          "name": "stdout",
          "text": [
            "[540.9999704360962, 646.0000205039978, 1015.4999756813049, 553.4999871253967, 602.5000190734863, 565.5000185966492, 576.5000152587891]\n",
            "1\n",
            "7\n",
            "0\n",
            "bevor [1]\n",
            "[648.0000257492065, 1014.9999904632568, 601.9999694824219, 542.0000052452087, 553.9999723434448, 564.9999690055847, 577.4999856948853]\n",
            "2\n",
            "7\n",
            "1\n",
            "bevor []\n",
            "[547.4999713897705, 602.5000190734863, 543.5000252723694, 553.4999871253967, 564.9999690055847, 1012.5, 577.0000004768372]\n",
            "3\n",
            "7\n",
            "2\n",
            "bevor []\n",
            "[663.500018119812, 542.9999756813049, 565.5000185966492, 602.5000190734863, 553.4999871253967, 1012.9999852180481, 577.9999709129333]\n",
            "4\n",
            "7\n",
            "3\n",
            "bevor [0]\n",
            "[1012.9999852180481, 603.0000042915344, 543.5000252723694, 565.5000185966492, 553.4999871253967, 659.0000224113464, 576.000030040741]\n",
            "5\n",
            "7\n",
            "4\n",
            "bevor [5]\n",
            "[671.4999747276306, 542.9999756813049, 1012.0000147819519, 602.5000190734863, 565.5000185966492, 553.4999871253967, 577.9999709129333]\n",
            "6\n",
            "7\n",
            "5\n",
            "bevor [0]\n",
            "[677.0000052452087, 565.5000185966492, 543.5000252723694, 1012.0000147819519, 553.9999723434448, 602.5000190734863, 577.4999856948853, 624.000027179718]\n",
            "7\n",
            "8\n",
            "6\n",
            "bevor [0]\n",
            "[624.000027179718, 542.9999756813049, 564.9999690055847, 602.5000190734863, 1012.0000147819519, 553.4999871253967, 577.0000004768372]\n",
            "8\n",
            "7\n",
            "7\n",
            "bevor [7]\n",
            "[543.5000252723694, 565.5000185966492, 553.4999871253967, 601.9999694824219, 1010.9999799728394, 577.4999856948853, 683.9999914169312]\n",
            "9\n",
            "7\n",
            "8\n",
            "bevor [6]\n",
            "[544.0000104904175, 566.0000038146973, 690.9999775886536, 552.5000166893005, 601.9999694824219, 1010.9999799728394, 576.5000152587891, 1032.9999732971191]\n",
            "10\n",
            "8\n",
            "9\n",
            "bevor [2]\n",
            "[1032.9999732971191, 553.4999871253967, 542.9999756813049, 566.4999890327454, 694.500002861023, 602.5000190734863, 1012.0000147819519, 576.5000152587891]\n",
            "11\n",
            "8\n",
            "10\n",
            "bevor [4]\n",
            "[1032.499988079071, 1011.5000295639038, 566.0000038146973, 553.9999723434448, 543.5000252723694, 602.5000190734863, 692.4999976158142, 576.5000152587891]\n",
            "12\n",
            "8\n",
            "11\n",
            "bevor [6]\n",
            "[1032.9999732971191, 566.4999890327454, 706.499969959259, 1010.4999947547913, 544.0000104904175, 553.0000019073486]\n",
            "13\n",
            "6\n",
            "12\n",
            "bevor [2]\n",
            "[566.0000038146973, 543.5000252723694, 701.9999742507935, 553.0000019073486, 601.9999694824219, 576.5000152587891, 681.5000009536743, 1010.9999799728394, 1032.9999732971191]\n",
            "14\n",
            "9\n",
            "13\n",
            "bevor [2, 2]\n",
            "[681.5000009536743, 1010.9999799728394, 1032.9999732971191, 542.4999904632568, 566.4999890327454, 705.0000143051147]\n",
            "15\n",
            "6\n",
            "14\n",
            "bevor [0, 5]\n",
            "x 0\n",
            "y 14\n",
            "15\n",
            "6\n",
            "14\n",
            "x 5\n",
            "y 14\n",
            "15\n",
            "6\n",
            "14\n",
            "[705.9999847412109, 543.5000252723694, 566.0000038146973, 601.4999842643738, 553.0000019073486, 576.5000152587891, 1032.9999732971191, 706.499969959259]\n",
            "16\n",
            "8\n",
            "15\n",
            "bevor [0]\n",
            "[1032.9999732971191, 706.499969959259, 542.4999904632568, 566.4999890327454, 1009.5000243186951, 553.0000019073486, 601.4999842643738, 577.0000004768372]\n",
            "17\n",
            "8\n",
            "16\n",
            "bevor [1]\n",
            "[1033.5000228881836, 542.4999904632568, 566.4999890327454, 1008.4999895095825, 705.4999995231628, 552.5000166893005, 601.9999694824219, 576.5000152587891]\n",
            "18\n",
            "8\n",
            "17\n",
            "bevor [4]\n",
            "[1031.5000176429749, 709.5000100135803, 542.0000052452087, 566.9999742507935, 1010.0000095367432, 601.9999694824219, 553.0000019073486]\n",
            "19\n",
            "7\n",
            "18\n",
            "bevor [1]\n",
            "[712.0000004768372, 567.5000238418579, 542.9999756813049, 1010.4999947547913, 602.5000190734863, 551.499981880188, 576.5000152587891, 627.000002861023, 1032.000002861023]\n",
            "20\n",
            "9\n",
            "19\n",
            "bevor [0]\n",
            "[]\n",
            "21\n",
            "0\n",
            "20\n",
            "bevor [2]\n",
            "[1, 0, 'X', 0, 5, 0, 0, 7, 6, 2, 4, 6, 2, 2, 5, 0, 1, 4, 1, 0, 2]\n",
            "[1, 'X', 'X', 0, 5, 0, 0, 7, 6, 2, 4, 6, 2, 2, 5, 0, 1, 4, 1, 0, 2]\n"
          ]
        }
      ]
    },
    {
      "cell_type": "code",
      "source": [
        "for i,x in enumerate(athlet_det_index):\n",
        "    if x != 'X':\n",
        "        x_1 = x1[sum(det[:i])+x]\n",
        "        x_2 = x2[sum(det[:i])+x]\n",
        "        y_1 = y1[sum(det[:i])+x]\n",
        "        y_2 = y2[sum(det[:i])+x]\n",
        "\n",
        "        path = '/content.gdrive/MyDrive/Test2/' + str(i+1) + '.jpg'\n",
        "        print(path)\n",
        "        im = cv2.imread(path)\n",
        "        print(x_1, x_2, y_1, y_2)\n",
        "        crop = im[int(y_1):int(y_2), int(x_1):int(x_2)] \n",
        "        #save_dir.parent.mkdir(parents=True, exist_ok=True)  # make directory\n",
        "        save_path = '/content.gdrive/MyDrive/Test2/test/' + str(i+1) + '.jpg'\n",
        "        cv2.imwrite(save_path, crop) # speicher nur den zugeschnittenen Springer\n"
      ],
      "metadata": {
        "colab": {
          "base_uri": "https://localhost:8080/"
        },
        "id": "-PqeKqS6udZm",
        "outputId": "fceb90d6-f156-4636-b10c-61a38c847ec0"
      },
      "execution_count": 112,
      "outputs": [
        {
          "output_type": "stream",
          "name": "stdout",
          "text": [
            "/content.gdrive/MyDrive/Test2/1.jpg\n",
            "1254.0 1302.0 593.0 699.0\n",
            "/content.gdrive/MyDrive/Test2/4.jpg\n",
            "1124.0 1187.0 612.0 715.0\n",
            "/content.gdrive/MyDrive/Test2/5.jpg\n",
            "1125.0 1165.0 529.0 578.0\n",
            "/content.gdrive/MyDrive/Test2/6.jpg\n",
            "699.0 742.0 546.0 606.0\n",
            "/content.gdrive/MyDrive/Test2/7.jpg\n",
            "1125.0 1165.0 529.0 578.0\n",
            "/content.gdrive/MyDrive/Test2/8.jpg\n",
            "309.0 395.0 946.0 1078.0\n",
            "/content.gdrive/MyDrive/Test2/9.jpg\n",
            "1126.0 1165.0 529.0 578.0\n",
            "/content.gdrive/MyDrive/Test2/10.jpg\n",
            "698.0 741.0 547.0 608.0\n",
            "/content.gdrive/MyDrive/Test2/11.jpg\n",
            "699.0 741.0 546.0 607.0\n",
            "/content.gdrive/MyDrive/Test2/12.jpg\n",
            "309.0 395.0 943.0 1080.0\n",
            "/content.gdrive/MyDrive/Test2/13.jpg\n",
            "399.0 436.0 579.0 626.0\n",
            "/content.gdrive/MyDrive/Test2/14.jpg\n",
            "1127.0 1166.0 528.0 578.0\n",
            "/content.gdrive/MyDrive/Test2/15.jpg\n",
            "751.0 793.0 662.0 701.0\n",
            "/content.gdrive/MyDrive/Test2/16.jpg\n",
            "939.0 977.0 547.0 586.0\n",
            "/content.gdrive/MyDrive/Test2/17.jpg\n",
            "938.0 977.0 546.0 586.0\n",
            "/content.gdrive/MyDrive/Test2/18.jpg\n",
            "698.0 742.0 548.0 606.0\n",
            "/content.gdrive/MyDrive/Test2/19.jpg\n",
            "653.0 701.0 667.0 744.0\n",
            "/content.gdrive/MyDrive/Test2/20.jpg\n",
            "938.0 978.0 548.0 586.0\n",
            "/content.gdrive/MyDrive/Test2/21.jpg\n",
            "399.0 436.0 579.0 626.0\n"
          ]
        }
      ]
    },
    {
      "cell_type": "code",
      "source": [
        ""
      ],
      "metadata": {
        "id": "522Mtjw-udhr"
      },
      "execution_count": null,
      "outputs": []
    }
  ]
}