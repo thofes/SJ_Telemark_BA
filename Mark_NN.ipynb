{
  "nbformat": 4,
  "nbformat_minor": 0,
  "metadata": {
    "colab": {
      "name": "Mark_NN.ipynb",
      "provenance": [],
      "authorship_tag": "ABX9TyPj7M5iRtZJLv8/h12gHKQx",
      "include_colab_link": true
    },
    "kernelspec": {
      "name": "python3",
      "display_name": "Python 3"
    },
    "language_info": {
      "name": "python"
    }
  },
  "cells": [
    {
      "cell_type": "markdown",
      "metadata": {
        "id": "view-in-github",
        "colab_type": "text"
      },
      "source": [
        "<a href=\"https://colab.research.google.com/github/thofes/judging_SJ_BA/blob/main/Mark_NN.ipynb\" target=\"_parent\"><img src=\"https://colab.research.google.com/assets/colab-badge.svg\" alt=\"Open In Colab\"/></a>"
      ]
    },
    {
      "cell_type": "code",
      "execution_count": 1,
      "metadata": {
        "colab": {
          "base_uri": "https://localhost:8080/"
        },
        "id": "q4Az5smJGhBU",
        "outputId": "9c2e879f-5679-49f3-fa4c-ba5eb9456c24"
      },
      "outputs": [
        {
          "output_type": "stream",
          "name": "stdout",
          "text": [
            "Mounted at /content.gdrive\n"
          ]
        }
      ],
      "source": [
        "#Connect GDrive\n",
        "from google.colab import drive\n",
        "drive.mount('/content.gdrive')"
      ]
    },
    {
      "cell_type": "code",
      "source": [
        "import json\n",
        "import numpy as np\n",
        "\n",
        "#merging json files\n",
        "with open('/content.gdrive/MyDrive/Datasets/data_manually_labeled_original.json', \"r\") as fp:\n",
        "    data1 = json.load(fp)\n",
        "\n",
        "# convert lists to numpy arrays\n",
        "X1 = np.array(data1[\"keypoints\"])\n",
        "#X = np.array(data[\"mfcc\"])\n",
        "y1 = np.array(data1[\"labels\"])\n",
        "\n",
        "with open('/content.gdrive/MyDrive/Datasets/data_manually_labled_Telemark_mirror.json', \"r\") as fp:\n",
        "    data2 = json.load(fp)\n",
        "# convert lists to numpy arrays\n",
        "X2 = np.array(data2[\"keypoints\"])\n",
        "#X = np.array(data[\"mfcc\"])\n",
        "y2 = np.array(data2[\"labels\"])\n",
        "\n",
        "X = np.concatenate((X1,X2), axis=0)\n",
        "y = np.concatenate((y1,y2), axis=0)\n",
        "print(X[0])\n",
        "print(X[332])\n",
        "print(X.shape)\n",
        "print(y[0])\n",
        "print(y[332])\n",
        "print(y.shape)"
      ],
      "metadata": {
        "colab": {
          "base_uri": "https://localhost:8080/"
        },
        "id": "2urcYWKzwiCD",
        "outputId": "13d2b897-b157-47f6-def8-1388ae9099e0"
      },
      "execution_count": 4,
      "outputs": [
        {
          "output_type": "stream",
          "name": "stdout",
          "text": [
            "[0.71802741 0.29048792 0.24816319 ... 0.35894373 0.65924037 0.42562544]\n",
            "[0. 0. 0. ... 0. 0. 0.]\n",
            "(443, 1575)\n",
            "1\n",
            "1\n",
            "(443,)\n"
          ]
        }
      ]
    },
    {
      "cell_type": "code",
      "source": [
        "#test load data\n",
        "import json\n",
        "import numpy as np\n",
        "from sklearn.model_selection import train_test_split\n",
        "import tensorflow.keras as keras\n",
        "\n",
        "with open('/content.gdrive/MyDrive/Manually_Labeled/data.json', \"r\") as fp:\n",
        "    data = json.load(fp)\n",
        "\n",
        "# convert lists to numpy arrays\n",
        "X = np.array(data[\"keypoints\"])\n",
        "#X = np.array(data[\"mfcc\"])\n",
        "y = np.array(data[\"labels\"])\n",
        "\n",
        "print(X)\n",
        "print(X.shape)\n",
        "print(y)\n",
        "print(y.shape)\n",
        "\"\"\"\n",
        "k = 0\n",
        "for i in range(332):\n",
        "    count = 0 \n",
        "    for y in range(1575):\n",
        "        if X[i][y] == 0:\n",
        "            count = count +1\n",
        "    #if count > 350:\n",
        "        #k = k + 1\n",
        "    print(count)        \n",
        "\n",
        "print(k)\n",
        "\"\"\""
      ],
      "metadata": {
        "colab": {
          "base_uri": "https://localhost:8080/",
          "height": 367
        },
        "id": "mzEi1csPGopH",
        "outputId": "c9c83486-70cc-4ced-dfd3-4ecc1281a9b0"
      },
      "execution_count": null,
      "outputs": [
        {
          "output_type": "stream",
          "name": "stdout",
          "text": [
            "[[0.71802741 0.29048792 0.24816319 ... 0.35894373 0.65924037 0.42562544]\n",
            " [0.68126655 0.28763264 0.38451716 ... 0.39175215 0.70825779 0.4498418 ]\n",
            " [0.70735633 0.29627445 0.15694906 ... 0.41513729 0.74908066 0.61638552]\n",
            " ...\n",
            " [0.21512574 0.36664426 0.2706992  ... 0.49334985 0.64569932 0.10506787]\n",
            " [0.         0.         0.         ... 0.         0.         0.        ]\n",
            " [0.27345929 0.35210636 0.273204   ... 0.61386955 0.70903111 0.57472718]]\n",
            "(332, 1575)\n",
            "[1 1 1 1 1 1 1 1 1 1 1 1 1 1 1 1 1 1 1 1 1 1 1 1 1 1 1 1 1 1 1 1 1 1 1 1 1\n",
            " 1 1 1 1 1 1 1 1 1 1 1 1 1 1 1 1 1 1 1 1 1 1 1 1 1 1 1 1 1 1 1 1 1 1 1 1 1\n",
            " 1 1 1 1 1 1 1 1 1 1 1 1 1 1 1 1 1 1 1 1 1 1 1 1 1 1 1 1 1 1 1 1 1 1 1 1 1\n",
            " 0 0 0 0 0 0 0 0 0 0 0 0 0 0 0 0 0 0 0 0 0 0 0 0 0 0 0 0 0 0 0 0 0 0 0 0 0\n",
            " 0 0 0 0 0 0 0 0 0 0 0 0 0 0 0 0 0 0 0 0 0 0 0 0 0 0 0 0 0 0 0 0 0 0 0 0 0\n",
            " 0 0 0 0 0 0 0 0 0 0 0 0 0 0 0 0 0 0 0 0 0 0 0 0 0 0 0 0 0 0 0 0 0 0 0 0 0\n",
            " 0 0 0 0 0 0 0 0 0 0 0 0 0 0 0 0 0 0 0 0 0 0 0 0 0 0 0 0 0 0 0 0 0 0 0 0 0\n",
            " 0 0 0 0 0 0 0 0 0 0 0 0 0 0 0 0 0 0 0 0 0 0 0 0 0 0 0 0 0 0 0 0 0 0 0 0 0\n",
            " 0 0 0 0 0 0 0 0 0 0 0 0 0 0 0 0 0 0 0 0 0 0 0 0 0 0 0 0 0 0 0 0 0 0 0 0]\n",
            "(332,)\n"
          ]
        },
        {
          "output_type": "execute_result",
          "data": {
            "text/plain": [
              "'\\nk = 0\\nfor i in range(332):\\n    count = 0 \\n    for y in range(1575):\\n        if X[i][y] == 0:\\n            count = count +1\\n    #if count > 350:\\n        #k = k + 1\\n    print(count)        \\n\\nprint(k)\\n'"
            ],
            "application/vnd.google.colaboratory.intrinsic+json": {
              "type": "string"
            }
          },
          "metadata": {},
          "execution_count": 2
        }
      ]
    },
    {
      "cell_type": "code",
      "source": [
        "#Creating binary classification model\n",
        "import json\n",
        "import numpy as np\n",
        "import tensorflow as tf\n",
        "from tensorflow import keras\n",
        "from tensorflow.keras.models import Sequential\n",
        "from tensorflow.keras.layers import Activation, Dense\n",
        "from tensorflow.keras.optimizers import Adam\n",
        "from tensorflow.keras.metrics import categorical_crossentropy\n",
        "from sklearn.utils import shuffle\n",
        "\n",
        "\n",
        "model = Sequential([\n",
        "    Dense(units=2500, input_shape=(1575,), activation='relu'),\n",
        "    Dense(units=1750, activation='relu'),\n",
        "    Dense(units=1250, activation='relu'),\n",
        "    Dense(units=750, activation='relu'),\n",
        "    Dense(units=250, activation='relu'),\n",
        "    Dense(units=2, activation='softmax')\n",
        "])\n",
        "\n",
        "model.summary()\n",
        "\n",
        "\n",
        "\n",
        "model.compile(optimizer=Adam(learning_rate=0.0001), loss='sparse_categorical_crossentropy', metrics=['accuracy'])"
      ],
      "metadata": {
        "colab": {
          "base_uri": "https://localhost:8080/"
        },
        "id": "--kNWO0HJohG",
        "outputId": "b8869cfd-5810-44e8-af4e-64bf6035e8be"
      },
      "execution_count": 23,
      "outputs": [
        {
          "output_type": "stream",
          "name": "stdout",
          "text": [
            "Model: \"sequential_6\"\n",
            "_________________________________________________________________\n",
            " Layer (type)                Output Shape              Param #   \n",
            "=================================================================\n",
            " dense_30 (Dense)            (None, 2500)              3940000   \n",
            "                                                                 \n",
            " dense_31 (Dense)            (None, 1750)              4376750   \n",
            "                                                                 \n",
            " dense_32 (Dense)            (None, 1250)              2188750   \n",
            "                                                                 \n",
            " dense_33 (Dense)            (None, 750)               938250    \n",
            "                                                                 \n",
            " dense_34 (Dense)            (None, 250)               187750    \n",
            "                                                                 \n",
            " dense_35 (Dense)            (None, 2)                 502       \n",
            "                                                                 \n",
            "=================================================================\n",
            "Total params: 11,632,002\n",
            "Trainable params: 11,632,002\n",
            "Non-trainable params: 0\n",
            "_________________________________________________________________\n"
          ]
        }
      ]
    },
    {
      "cell_type": "code",
      "source": [
        "model.fit(x=X, y=y, batch_size=10, validation_split = 0.2, epochs=19, shuffle=True, verbose = 2)"
      ],
      "metadata": {
        "colab": {
          "base_uri": "https://localhost:8080/"
        },
        "id": "G-TUyZBBLCw7",
        "outputId": "d9b792c1-a6aa-426a-c966-a7943d33e065"
      },
      "execution_count": 24,
      "outputs": [
        {
          "output_type": "stream",
          "name": "stdout",
          "text": [
            "Epoch 1/19\n",
            "36/36 - 4s - loss: 0.6756 - accuracy: 0.5960 - val_loss: 1.0054 - val_accuracy: 0.0337 - 4s/epoch - 99ms/step\n",
            "Epoch 2/19\n",
            "36/36 - 3s - loss: 0.6411 - accuracy: 0.6525 - val_loss: 0.9685 - val_accuracy: 0.1573 - 3s/epoch - 78ms/step\n",
            "Epoch 3/19\n",
            "36/36 - 3s - loss: 0.5903 - accuracy: 0.6864 - val_loss: 0.5412 - val_accuracy: 0.7528 - 3s/epoch - 82ms/step\n",
            "Epoch 4/19\n",
            "36/36 - 3s - loss: 0.4993 - accuracy: 0.7599 - val_loss: 0.7959 - val_accuracy: 0.5169 - 3s/epoch - 79ms/step\n",
            "Epoch 5/19\n",
            "36/36 - 3s - loss: 0.4623 - accuracy: 0.7627 - val_loss: 1.2557 - val_accuracy: 0.2135 - 3s/epoch - 82ms/step\n",
            "Epoch 6/19\n",
            "36/36 - 3s - loss: 0.3885 - accuracy: 0.8249 - val_loss: 0.3784 - val_accuracy: 0.8315 - 3s/epoch - 80ms/step\n",
            "Epoch 7/19\n",
            "36/36 - 3s - loss: 0.3225 - accuracy: 0.8701 - val_loss: 0.2260 - val_accuracy: 0.8539 - 3s/epoch - 79ms/step\n",
            "Epoch 8/19\n",
            "36/36 - 3s - loss: 0.2731 - accuracy: 0.8927 - val_loss: 0.0544 - val_accuracy: 0.9888 - 3s/epoch - 78ms/step\n",
            "Epoch 9/19\n",
            "36/36 - 3s - loss: 0.4137 - accuracy: 0.8136 - val_loss: 1.4805 - val_accuracy: 0.3146 - 3s/epoch - 79ms/step\n",
            "Epoch 10/19\n",
            "36/36 - 3s - loss: 0.2979 - accuracy: 0.8559 - val_loss: 0.2857 - val_accuracy: 0.9326 - 3s/epoch - 78ms/step\n",
            "Epoch 11/19\n",
            "36/36 - 3s - loss: 0.2483 - accuracy: 0.9011 - val_loss: 0.3597 - val_accuracy: 0.8202 - 3s/epoch - 77ms/step\n",
            "Epoch 12/19\n",
            "36/36 - 3s - loss: 0.1862 - accuracy: 0.9294 - val_loss: 0.4942 - val_accuracy: 0.7191 - 3s/epoch - 79ms/step\n",
            "Epoch 13/19\n",
            "36/36 - 3s - loss: 0.2068 - accuracy: 0.9096 - val_loss: 0.2984 - val_accuracy: 0.8202 - 3s/epoch - 79ms/step\n",
            "Epoch 14/19\n",
            "36/36 - 3s - loss: 0.1345 - accuracy: 0.9435 - val_loss: 0.1599 - val_accuracy: 0.9101 - 3s/epoch - 80ms/step\n",
            "Epoch 15/19\n",
            "36/36 - 3s - loss: 0.1050 - accuracy: 0.9576 - val_loss: 0.1317 - val_accuracy: 0.9326 - 3s/epoch - 78ms/step\n",
            "Epoch 16/19\n",
            "36/36 - 3s - loss: 0.1130 - accuracy: 0.9576 - val_loss: 0.4626 - val_accuracy: 0.7528 - 3s/epoch - 78ms/step\n",
            "Epoch 17/19\n",
            "36/36 - 3s - loss: 0.3155 - accuracy: 0.8842 - val_loss: 0.1694 - val_accuracy: 0.9213 - 3s/epoch - 79ms/step\n",
            "Epoch 18/19\n",
            "36/36 - 3s - loss: 0.1500 - accuracy: 0.9322 - val_loss: 0.0885 - val_accuracy: 0.9775 - 3s/epoch - 78ms/step\n",
            "Epoch 19/19\n",
            "36/36 - 3s - loss: 0.1705 - accuracy: 0.9294 - val_loss: 0.0780 - val_accuracy: 0.9775 - 3s/epoch - 77ms/step\n"
          ]
        },
        {
          "output_type": "execute_result",
          "data": {
            "text/plain": [
              "<keras.callbacks.History at 0x7f1d26ed8a10>"
            ]
          },
          "metadata": {},
          "execution_count": 24
        }
      ]
    },
    {
      "cell_type": "code",
      "source": [
        "with open('/content.gdrive/MyDrive/Datasets/data_manually_labled_Telemark_mirror.json', \"r\") as fp:\n",
        "    data2 = json.load(fp)\n",
        "# convert lists to numpy arrays\n",
        "X2 = np.array(data2[\"keypoints\"])\n",
        "#X = np.array(data[\"mfcc\"])\n",
        "y2 = np.array(data2[\"labels\"])\n",
        "\n",
        "\n",
        "predictions = model.predict(X2, batch_size = 10, verbose =0)\n",
        "\n",
        "for i in predictions:\n",
        "  if i[1] < 0.5:\n",
        "      print(\"wrong\")\n"
      ],
      "metadata": {
        "colab": {
          "base_uri": "https://localhost:8080/"
        },
        "id": "LgoXxEiVlqbn",
        "outputId": "a391c65b-248b-40c3-ad02-d3721496cde2"
      },
      "execution_count": 25,
      "outputs": [
        {
          "output_type": "stream",
          "name": "stdout",
          "text": [
            "wrong\n",
            "wrong\n"
          ]
        }
      ]
    }
  ]
}