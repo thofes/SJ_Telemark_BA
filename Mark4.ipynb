{
  "nbformat": 4,
  "nbformat_minor": 0,
  "metadata": {
    "colab": {
      "name": "Mark4.ipynb",
      "provenance": [],
      "authorship_tag": "ABX9TyOClYgfIyXWvKzUkqZYBiRP",
      "include_colab_link": true
    },
    "kernelspec": {
      "name": "python3",
      "display_name": "Python 3"
    },
    "language_info": {
      "name": "python"
    },
    "accelerator": "GPU"
  },
  "cells": [
    {
      "cell_type": "markdown",
      "metadata": {
        "id": "view-in-github",
        "colab_type": "text"
      },
      "source": [
        "<a href=\"https://colab.research.google.com/github/thofes/judging_SJ_BA/blob/main/Mark4.ipynb\" target=\"_parent\"><img src=\"https://colab.research.google.com/assets/colab-badge.svg\" alt=\"Open In Colab\"/></a>"
      ]
    },
    {
      "cell_type": "code",
      "execution_count": 6,
      "metadata": {
        "colab": {
          "base_uri": "https://localhost:8080/"
        },
        "id": "zzteND6HKnjU",
        "outputId": "39e95666-5272-4003-f5a6-4573d985673f"
      },
      "outputs": [
        {
          "output_type": "stream",
          "name": "stderr",
          "text": [
            "YOLOv5 🚀 v6.1-10-gc2403eb torch 1.10.0+cu111 CUDA:0 (Tesla K80, 11441MiB)\n"
          ]
        },
        {
          "output_type": "stream",
          "name": "stdout",
          "text": [
            "Setup complete ✅ (2 CPUs, 12.7 GB RAM, 42.1/78.2 GB disk)\n"
          ]
        }
      ],
      "source": [
        "\n",
        "#Connect GDrive\n",
        "from google.colab import drive\n",
        "drive.mount('/content.gdrive')\n",
        "\n",
        "#init Repository - YOLOv5\n",
        "%cd /content\n",
        "\n",
        "\n",
        "!git clone https://github.com/thofes/yolov5  # clone\n",
        "%cd yolov5\n",
        "%pip install -qr requirements.txt  # install\n",
        "\n",
        "import torch\n",
        "from yolov5 import utils\n",
        "display = utils.notebook_init()  # checks\n",
        "\n",
        "\n"
      ]
    },
    {
      "cell_type": "code",
      "source": [
        "#OpenPose\n",
        "import os\n",
        "from os.path import exists, join, basename, splitext\n",
        "\n",
        "#Change the drive to my mounted gdrive\n",
        "%cd /content\n",
        "\n",
        "git_repo_url = 'https://github.com/thofes/openpose'\n",
        "project_name = splitext(basename(git_repo_url))[0]\n",
        "\n",
        "if 1 or not exists(project_name):\n",
        "  !rm -rf openpose\n",
        "  # see: https://github.com/CMU-Perceptual-Computing-Lab/openpose/issues/949\n",
        "  print(\"install new CMake becaue of CUDA10\")\n",
        "  cmake_version = 'cmake-3.20.2-linux-x86_64.tar.gz'\n",
        "  if not exists(cmake_version):\n",
        "    !wget -q 'https://cmake.org/files/v3.20/{cmake_version}'\n",
        "  !tar xfz {cmake_version} --strip-components=1 -C /usr/local\n",
        "\n",
        "  print(\"clone openpose\")\n",
        "  !git clone -q --depth 1 $git_repo_url\n",
        "  print(\"install system dependencies\")\n",
        "  !apt-get -qq install -y libatlas-base-dev libprotobuf-dev libleveldb-dev libsnappy-dev libhdf5-serial-dev protobuf-compiler libgflags-dev libgoogle-glog-dev liblmdb-dev opencl-headers ocl-icd-opencl-dev libviennacl-dev\n",
        "  print(\"build openpose\")\n",
        "  !cd openpose && rm -rf build || true && mkdir build && cd build && cmake .. && make -j`nproc`"
      ],
      "metadata": {
        "id": "U6PolFM8ume1"
      },
      "execution_count": null,
      "outputs": []
    },
    {
      "cell_type": "code",
      "source": [
        "%cd /content/yolov5\n",
        "!python detect.py --weights yolov5s.pt --img 640 --conf 0.25 --save-crop --project '/content.gdrive/MyDrive/Fotos/5' --source '/content.gdrive/MyDrive/Fotos/5/1.png'"
      ],
      "metadata": {
        "colab": {
          "base_uri": "https://localhost:8080/"
        },
        "id": "VOIKpRRWLrFM",
        "outputId": "5b091b81-822a-483d-f6c2-89d1575850fd"
      },
      "execution_count": 7,
      "outputs": [
        {
          "output_type": "stream",
          "name": "stdout",
          "text": [
            "/content/yolov5\n",
            "\u001b[34m\u001b[1mdetect: \u001b[0mweights=['yolov5s.pt'], source=/content.gdrive/MyDrive/Fotos/5/1.png, data=data/coco128.yaml, imgsz=[640, 640], conf_thres=0.25, iou_thres=0.45, max_det=1000, device=, view_img=False, save_txt=False, save_conf=False, save_crop=True, nosave=False, classes=None, agnostic_nms=False, augment=False, visualize=False, update=False, project=/content.gdrive/MyDrive/Fotos/5, name=exp, exist_ok=False, line_thickness=3, hide_labels=False, hide_conf=False, half=False, dnn=False\n",
            "YOLOv5 🚀 v6.1-10-gc2403eb torch 1.10.0+cu111 CUDA:0 (Tesla K80, 11441MiB)\n",
            "\n",
            "Fusing layers... \n",
            "Model Summary: 213 layers, 7225885 parameters, 0 gradients, 16.5 GFLOPs\n",
            "Confidence:  tensor(0.36438, device='cuda:0')\n",
            "Hight:  1128 Widht:  1972\n",
            "Coordinates:  tensor([[704, 121, 738, 173]])\n",
            "Confidence:  tensor(0.75860, device='cuda:0')\n",
            "Hight:  1128 Widht:  1972\n",
            "Coordinates:  tensor([[1568,  342, 1647,  484]])\n",
            "image 1/1 /content.gdrive/MyDrive/Fotos/5/1.png: 384x640 2 persons, Done. (0.029s)\n",
            "Speed: 0.8ms pre-process, 28.5ms inference, 2.3ms NMS per image at shape (1, 3, 640, 640)\n",
            "Results saved to \u001b[1m/content.gdrive/MyDrive/Fotos/5/exp8\u001b[0m\n"
          ]
        }
      ]
    },
    {
      "cell_type": "code",
      "source": [
        "#OpenPose\n",
        "\n",
        "%cd /content\n",
        "\n",
        "folder_path = '/content.gdrive/MyDrive/Fotos/5/exp4/crops/person'\n",
        "!cd openpose && ./build/examples/openpose/openpose.bin --model_pose 'MPI' --number_people_max 1 --keypoint_scale 3 --part_candidates --image_dir '{folder_path}' --display 0  --write_images '{folder_path}' --write_json '{folder_path}' \n"
      ],
      "metadata": {
        "id": "0r8sn3izp9wF"
      },
      "execution_count": null,
      "outputs": []
    }
  ]
}