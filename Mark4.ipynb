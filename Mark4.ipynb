{
  "nbformat": 4,
  "nbformat_minor": 0,
  "metadata": {
    "colab": {
      "name": "Mark4.ipynb",
      "provenance": [],
      "authorship_tag": "ABX9TyNjaX1rQRDjyt9Sbj7/GZYM",
      "include_colab_link": true
    },
    "kernelspec": {
      "name": "python3",
      "display_name": "Python 3"
    },
    "language_info": {
      "name": "python"
    },
    "accelerator": "GPU"
  },
  "cells": [
    {
      "cell_type": "markdown",
      "metadata": {
        "id": "view-in-github",
        "colab_type": "text"
      },
      "source": [
        "<a href=\"https://colab.research.google.com/github/thofes/judging_SJ_BA/blob/main/Mark4.ipynb\" target=\"_parent\"><img src=\"https://colab.research.google.com/assets/colab-badge.svg\" alt=\"Open In Colab\"/></a>"
      ]
    },
    {
      "cell_type": "code",
      "execution_count": null,
      "metadata": {
        "id": "zzteND6HKnjU"
      },
      "outputs": [],
      "source": [
        "\n",
        "#Connect GDrive\n",
        "from google.colab import drive\n",
        "drive.mount('/content.gdrive')\n",
        "\n",
        "#init Repository - YOLOv5\n",
        "%cd /content\n",
        "\n",
        "\n",
        "!git clone https://github.com/thofes/yolov5  # clone\n",
        "%cd yolov5\n",
        "%pip install -qr requirements.txt  # install\n",
        "\n",
        "import torch\n",
        "from yolov5 import utils\n",
        "display = utils.notebook_init()  # checks\n",
        "\n",
        "\n"
      ]
    },
    {
      "cell_type": "code",
      "source": [
        "#OpenPose\n",
        "import os\n",
        "from os.path import exists, join, basename, splitext\n",
        "\n",
        "#Change the drive to my mounted gdrive\n",
        "%cd /content\n",
        "\n",
        "git_repo_url = 'https://github.com/thofes/openpose'\n",
        "project_name = splitext(basename(git_repo_url))[0]\n",
        "\n",
        "if 1 or not exists(project_name):\n",
        "  !rm -rf openpose\n",
        "  # see: https://github.com/CMU-Perceptual-Computing-Lab/openpose/issues/949\n",
        "  print(\"install new CMake becaue of CUDA10\")\n",
        "  cmake_version = 'cmake-3.20.2-linux-x86_64.tar.gz'\n",
        "  if not exists(cmake_version):\n",
        "    !wget -q 'https://cmake.org/files/v3.20/{cmake_version}'\n",
        "  !tar xfz {cmake_version} --strip-components=1 -C /usr/local\n",
        "\n",
        "  print(\"clone openpose\")\n",
        "  !git clone -q --depth 1 $git_repo_url\n",
        "  print(\"install system dependencies\")\n",
        "  !apt-get -qq install -y libatlas-base-dev libprotobuf-dev libleveldb-dev libsnappy-dev libhdf5-serial-dev protobuf-compiler libgflags-dev libgoogle-glog-dev liblmdb-dev opencl-headers ocl-icd-opencl-dev libviennacl-dev\n",
        "  print(\"build openpose\")\n",
        "  !cd openpose && rm -rf build || true && mkdir build && cd build && cmake .. && make -j`nproc`"
      ],
      "metadata": {
        "id": "U6PolFM8ume1"
      },
      "execution_count": null,
      "outputs": []
    },
    {
      "cell_type": "code",
      "source": [
        "# Yolo muss nur der Pfad angegebn werden es werden alle Fotos darin gemacht\n",
        "#detect.py und plot.py muss bearbeitet werden\n",
        "%cd /content/yolov5\n",
        "path = '/content.gdrive/MyDrive/Fotos/1/2.jpg'\n",
        "path_2 = '/content.gdrive/MyDrive/Fotos/1'\n",
        "!python detect.py --weights yolov5s.pt --img 640 --max-det 1 --conf 0.25 --save-crop --project '{path_2}' --source '{path}'"
      ],
      "metadata": {
        "id": "VOIKpRRWLrFM"
      },
      "execution_count": null,
      "outputs": []
    },
    {
      "cell_type": "code",
      "source": [
        "#OpenPose\n",
        "\n",
        "%cd /content\n",
        "\n",
        "folder_path = '/content.gdrive/MyDrive/Fotos/1/person'\n",
        "!cd openpose && ./build/examples/openpose/openpose.bin  --number_people_max -1 --keypoint_scale 3 --disable_blending --image_dir '{folder_path}' --display 0 --write_images '{folder_path}' --write_json '{folder_path}' \n",
        "#--model_pose 'MPI'\n",
        "#--write_images '{folder_path}'"
      ],
      "metadata": {
        "id": "0r8sn3izp9wF"
      },
      "execution_count": null,
      "outputs": []
    },
    {
      "cell_type": "code",
      "source": [
        "PATH = \"/content.gdrive/My Drive/Train\"\n",
        "Hills= []\n",
        "try:\n",
        "    Hills = next(os.walk(PATH))[1]\n",
        "except StopIteration:\n",
        "    pass\n",
        "print(Hills)\n",
        "\n",
        "for h in Hills:\n",
        "  Path_Hills = PATH + '/' + h\n",
        "  print(Path_Hills)\n",
        "  Bibs = []\n",
        "  try:\n",
        "    Bibs = next(os.walk(Path_Hills))[1]\n",
        "  except StopIteration:\n",
        "    pass\n",
        "  print(Bibs)\n",
        "\n",
        "  for b in Bibs:\n",
        "    Path_Bib = Path_Hills + '/' + b\n",
        "    print(Path_Bib)\n",
        "    Pics = []\n",
        "    try:\n",
        "      Pics = next(os.walk(Path_Bib))[2]\n",
        "    except StopIteration:\n",
        "      pass\n",
        "    print(Pics)\n",
        "\n",
        "    for p in Pics:\n",
        "      Path_Pic = Path_Bib + '/' + p\n",
        "      %cd /content/yolov5\n",
        "      !python detect.py --weights yolov5s.pt --img 640 --conf 0.5 --save-crop --project '{Path_Bib}' --source '{Path_Pic}'\n",
        "#--max-det 1 \n",
        "    %cd /content\n",
        "    folder_path = Path_Bib + '/' + 'person'\n",
        "    !cd openpose && ./build/examples/openpose/openpose.bin  --disable_blending --number_people_max -1 --keypoint_scale 3 --image_dir '{folder_path}' --display 0  --write_images '{folder_path}' --write_json '{folder_path}' \n",
        "\n",
        "\n",
        "\n"
      ],
      "metadata": {
        "id": "Q49LPvbsF4uQ"
      },
      "execution_count": null,
      "outputs": []
    },
    {
      "cell_type": "code",
      "source": [
        " # Test zu erstellen eines Datensets mit Json\n",
        "\n",
        "import json\n",
        "import os\n",
        "\n",
        "dataset_path = \"/content.gdrive/My Drive/Dataset\" \n",
        "json_path = \"/content.gdrive/My Drive//Dataset/data_10.json\"\n",
        "\n",
        "# dictionary to store mapping, labels, and Keypoints\n",
        "data = {\n",
        "    \"Decision\": [],\n",
        "    \"labels\":[],\n",
        "    \"keypoints\":[]\n",
        "}\n",
        "\n",
        "\n",
        "for i, (dirpath, dirnames, filenames) in enumerate(os.walk(dataset_path)):\n",
        "\n",
        "# ensure we're processing a genre sub-folder level\n",
        "  if dirpath is not dataset_path:\n",
        "# save genre label (i.e., sub-folder name) in the mapping\n",
        "    semantic_label = dirpath.split(\"/\")[-1]\n",
        "    data[\"Decision\"].append(semantic_label)\n",
        "    print(\"\\nProcessing: {}\".format(semantic_label))\n",
        "\n",
        "    print(\"dirPath: \", dirpath, \"sematicpath: \", semantic_label, \"filenames: \", filenames )\n",
        "\n",
        "    %cd /content/yolov5\n",
        "    !python detect.py --weights yolov5s.pt --img 640 --conf 0.5 --save-crop --project '{dirpath}' --source '{dirpath}'\n",
        "\n",
        "# process all audio files in genre sub-dir\n",
        "    for f in filenames:\n",
        "      data[\"keypoints\"].append(i-1)\n",
        "      data[\"labels\"].append(i-1)\n",
        "\n",
        "\n",
        "    #%cd /content\n",
        "    #folder_path = Path_save + '/exp/crops/person'\n",
        "    #!cd openpose && ./build/examples/openpose/openpose.bin  --disable_blending --number_people_max -1 --keypoint_scale 3 --image_dir '{folder_path}' --display 0  --write_images '{folder_path}' --write_json '{folder_path}'\n",
        "    \n",
        "\n",
        "print(data)\n",
        "\n",
        "with open(json_path, \"w\") as fp:\n",
        "  json.dump(data, fp, indent=4)\n"
      ],
      "metadata": {
        "id": "QDZluNlUM8fn"
      },
      "execution_count": null,
      "outputs": []
    }
  ]
}