{
  "nbformat": 4,
  "nbformat_minor": 0,
  "metadata": {
    "colab": {
      "name": "Mark 8.ipynb",
      "provenance": [],
      "authorship_tag": "ABX9TyNgtbr2F74/ogzORmpnNyrJ",
      "include_colab_link": true
    },
    "kernelspec": {
      "name": "python3",
      "display_name": "Python 3"
    },
    "language_info": {
      "name": "python"
    }
  },
  "cells": [
    {
      "cell_type": "markdown",
      "metadata": {
        "id": "view-in-github",
        "colab_type": "text"
      },
      "source": [
        "<a href=\"https://colab.research.google.com/github/thofes/judging_SJ_BA/blob/main/Mark_8.ipynb\" target=\"_parent\"><img src=\"https://colab.research.google.com/assets/colab-badge.svg\" alt=\"Open In Colab\"/></a>"
      ]
    },
    {
      "cell_type": "code",
      "source": [
        "#Connect GDrive\n",
        "from google.colab import drive\n",
        "drive.mount('/content.gdrive')"
      ],
      "metadata": {
        "colab": {
          "base_uri": "https://localhost:8080/"
        },
        "id": "YTP16A8mVfVe",
        "outputId": "8777d95a-b2bd-4e89-969d-15d3f6a12a82"
      },
      "execution_count": 2,
      "outputs": [
        {
          "output_type": "stream",
          "name": "stdout",
          "text": [
            "Mounted at /content.gdrive\n"
          ]
        }
      ]
    },
    {
      "cell_type": "code",
      "execution_count": null,
      "metadata": {
        "id": "_ytKGxMQTD-g"
      },
      "outputs": [],
      "source": [
        "#Connect GDrive\n",
        "from google.colab import drive\n",
        "drive.mount('/content.gdrive')\n",
        "\n",
        "#init Repository - YOLOv5\n",
        "%cd /content\n",
        "\n",
        "\n",
        "!git clone https://github.com/thofes/yolov5  # clone\n",
        "%cd yolov5\n",
        "%pip install -qr requirements.txt  # install\n",
        "\n",
        "\n",
        "#init Repository - OpenPose\n",
        "import os\n",
        "from os.path import exists, join, basename, splitext\n",
        "\n",
        "#Change the drive to my mounted gdrive\n",
        "%cd /content\n",
        "\n",
        "git_repo_url = 'https://github.com/thofes/openpose'\n",
        "project_name = splitext(basename(git_repo_url))[0]\n",
        "\n",
        "if 1 or not exists(project_name):\n",
        "  !rm -rf openpose\n",
        "  # see: https://github.com/CMU-Perceptual-Computing-Lab/openpose/issues/949\n",
        "  print(\"install new CMake becaue of CUDA10\")\n",
        "  cmake_version = 'cmake-3.20.2-linux-x86_64.tar.gz'\n",
        "  if not exists(cmake_version):\n",
        "    !wget -q 'https://cmake.org/files/v3.20/{cmake_version}'\n",
        "  !tar xfz {cmake_version} --strip-components=1 -C /usr/local\n",
        "\n",
        "  print(\"clone openpose\")\n",
        "  !git clone -q --depth 1 $git_repo_url\n",
        "  print(\"install system dependencies\")\n",
        "  !apt-get -qq install -y libatlas-base-dev libprotobuf-dev libleveldb-dev libsnappy-dev libhdf5-serial-dev protobuf-compiler libgflags-dev libgoogle-glog-dev liblmdb-dev opencl-headers ocl-icd-opencl-dev libviennacl-dev\n",
        "  print(\"build openpose\")\n",
        "  !cd openpose && rm -rf build || true && mkdir build && cd build && cmake .. && make -j`nproc`"
      ]
    },
    {
      "cell_type": "code",
      "source": [
        "#Creae Dataset\n",
        "\n",
        "import os\n",
        "from os.path import exists, join, basename, splitext\n",
        "import json\n",
        "import numpy as np\n",
        "\n",
        "\n",
        "\n",
        "json_path = \"/content.gdrive/My Drive/Try/data.json\"\n",
        "#json_path = \"/content/data.json\"\n",
        "# dictionary to store mapping, labels, and Keypoints\n",
        "data = {\n",
        "    \"labels\":[],\n",
        "    \"keypoints\":[]\n",
        "}\n",
        "\n",
        "PATH = \"/content.gdrive/My Drive/Try\"\n",
        "label= []\n",
        "try:\n",
        "    label = next(os.walk(PATH))[1]\n",
        "except StopIteration:\n",
        "    pass\n",
        "#data[\"labels\"].append(label)\n",
        "print(label)\n",
        "\n",
        "for l in label:\n",
        "  Path_jumpers = PATH + '/' + l\n",
        "  print(Path_jumpers)\n",
        "  Jumpers = []\n",
        "  try:\n",
        "    Jumpers = next(os.walk(Path_jumpers))[1]\n",
        "  except StopIteration:\n",
        "    pass\n",
        "  print(Jumpers)\n",
        "\n",
        "  for j in Jumpers:\n",
        "    Path_Pic = Path_jumpers + '/' + j\n",
        "    print(Path_Pic)\n",
        "\n",
        "    %cd /content/yolov5\n",
        "    !python detect.py --save-crop --source '{Path_Pic}' --project '{Path_Pic}' --save-txt\n",
        "\n",
        "    folder_dir = Path_Pic + '/exp'\n",
        "    %cd /content/openpose/build/examples/tutorial_api_python\n",
        "    !python3 04_keypoints_from_images.py --image_dir '{folder_dir}' --keypoint_scale 3 --no_display true\n",
        "\n",
        "    with open(Path_Pic + '/exp/keypoints.json', \"r\") as fp:\n",
        "        keypoints_json = json.load(fp)\n",
        "\n",
        "    data[\"keypoints\"].append(keypoints_json)\n",
        "\n",
        "    if l == 'NoTelemark':\n",
        "        data[\"labels\"].append(0)\n",
        "    if l == 'Telemark':\n",
        "        data[\"labels\"].append(1)    \n",
        "\n",
        "    #with open(Path_Pic + '/exp/keypoints.txt', \"r\") as keypointfile:\n",
        "        #keypoints = keypointfile.read()\n",
        "    #data[\"keypoints\"].append(keypoints)\n",
        "\n",
        "\n",
        "with open(json_path, \"w\") as fp:\n",
        "  json.dump(data, fp, indent=4)\n"
      ],
      "metadata": {
        "id": "a3-6xS7HTGir"
      },
      "execution_count": null,
      "outputs": []
    },
    {
      "cell_type": "code",
      "source": [
        "#Creating binary classification model\n",
        "import json\n",
        "import numpy as np\n",
        "import tensorflow as tf\n",
        "from tensorflow import keras\n",
        "from tensorflow.keras.models import Sequential\n",
        "from tensorflow.keras.layers import Activation, Dense\n",
        "from tensorflow.keras.optimizers import Adam\n",
        "from tensorflow.keras.metrics import categorical_crossentropy\n",
        "from sklearn.utils import shuffle\n",
        "\n",
        "\n",
        "model = Sequential([\n",
        "    Dense(units=2500, input_shape=(1575,), activation='relu'),\n",
        "    Dense(units=1250, activation='relu'),\n",
        "    Dense(units=250, activation='relu'),\n",
        "    Dense(units=2, activation='softmax')\n",
        "])\n",
        "\n",
        "model.summary()\n",
        "\n",
        "\n",
        "with open('/content.gdrive/MyDrive/Try/data_try1.json', \"r\") as fp:\n",
        "    data = json.load(fp)\n",
        "\n",
        "# convert lists to numpy arrays\n",
        "X = np.array(data[\"keypoints\"])\n",
        "#X = np.array(data[\"mfcc\"])\n",
        "y = np.array(data[\"labels\"])\n",
        "\n",
        "X,y = shuffle(X,y)\n",
        "\n",
        "print(X[0])\n",
        "print(X.shape)\n",
        "print(y[0])\n",
        "print(y.shape)\n",
        "\n",
        "model.compile(optimizer=Adam(learning_rate=0.0001), loss='sparse_categorical_crossentropy', metrics=['accuracy'])\n",
        "\n",
        "\n",
        "\n"
      ],
      "metadata": {
        "colab": {
          "base_uri": "https://localhost:8080/"
        },
        "id": "GUTz2554TY4g",
        "outputId": "05420c00-2145-493a-95e1-da46529d05bd"
      },
      "execution_count": 10,
      "outputs": [
        {
          "output_type": "stream",
          "name": "stdout",
          "text": [
            "Model: \"sequential_5\"\n",
            "_________________________________________________________________\n",
            " Layer (type)                Output Shape              Param #   \n",
            "=================================================================\n",
            " dense_20 (Dense)            (None, 2500)              3940000   \n",
            "                                                                 \n",
            " dense_21 (Dense)            (None, 1250)              3126250   \n",
            "                                                                 \n",
            " dense_22 (Dense)            (None, 250)               312750    \n",
            "                                                                 \n",
            " dense_23 (Dense)            (None, 2)                 502       \n",
            "                                                                 \n",
            "=================================================================\n",
            "Total params: 7,379,502\n",
            "Trainable params: 7,379,502\n",
            "Non-trainable params: 0\n",
            "_________________________________________________________________\n",
            "[0.56830007 0.38073403 0.58075005 ... 0.         0.         0.        ]\n",
            "(104, 1575)\n",
            "0\n",
            "(104,)\n"
          ]
        }
      ]
    },
    {
      "cell_type": "code",
      "source": [
        "model.fit(x=X, y=y, batch_size=10, validation_split = 0.1, epochs=10, shuffle=True, verbose = 2)"
      ],
      "metadata": {
        "colab": {
          "base_uri": "https://localhost:8080/"
        },
        "id": "_tqUpiJkVpBx",
        "outputId": "9a141a52-267b-417e-8f05-6995109fa112"
      },
      "execution_count": 11,
      "outputs": [
        {
          "output_type": "stream",
          "name": "stdout",
          "text": [
            "Epoch 1/10\n",
            "10/10 - 2s - loss: 0.7425 - accuracy: 0.5161 - val_loss: 0.7180 - val_accuracy: 0.7273 - 2s/epoch - 160ms/step\n",
            "Epoch 2/10\n",
            "10/10 - 1s - loss: 0.5539 - accuracy: 0.7097 - val_loss: 1.1046 - val_accuracy: 0.2727 - 582ms/epoch - 58ms/step\n",
            "Epoch 3/10\n",
            "10/10 - 1s - loss: 0.5761 - accuracy: 0.6882 - val_loss: 0.8720 - val_accuracy: 0.6364 - 510ms/epoch - 51ms/step\n",
            "Epoch 4/10\n",
            "10/10 - 1s - loss: 0.5661 - accuracy: 0.7097 - val_loss: 1.0104 - val_accuracy: 0.6364 - 508ms/epoch - 51ms/step\n",
            "Epoch 5/10\n",
            "10/10 - 0s - loss: 0.5178 - accuracy: 0.7742 - val_loss: 0.9155 - val_accuracy: 0.4545 - 494ms/epoch - 49ms/step\n",
            "Epoch 6/10\n",
            "10/10 - 0s - loss: 0.3894 - accuracy: 0.7849 - val_loss: 1.1065 - val_accuracy: 0.2727 - 485ms/epoch - 48ms/step\n",
            "Epoch 7/10\n",
            "10/10 - 0s - loss: 0.3053 - accuracy: 0.9570 - val_loss: 1.1581 - val_accuracy: 0.2727 - 498ms/epoch - 50ms/step\n",
            "Epoch 8/10\n",
            "10/10 - 0s - loss: 0.2864 - accuracy: 0.9032 - val_loss: 1.3386 - val_accuracy: 0.2727 - 488ms/epoch - 49ms/step\n",
            "Epoch 9/10\n",
            "10/10 - 0s - loss: 0.1946 - accuracy: 0.9785 - val_loss: 1.3963 - val_accuracy: 0.2727 - 481ms/epoch - 48ms/step\n",
            "Epoch 10/10\n",
            "10/10 - 1s - loss: 0.2181 - accuracy: 0.9032 - val_loss: 1.5360 - val_accuracy: 0.3636 - 501ms/epoch - 50ms/step\n"
          ]
        },
        {
          "output_type": "execute_result",
          "data": {
            "text/plain": [
              "<keras.callbacks.History at 0x7fa6fcb06750>"
            ]
          },
          "metadata": {},
          "execution_count": 11
        }
      ]
    },
    {
      "cell_type": "code",
      "source": [
        "predictions = model.predict(X, batch_size = 10, verbose =0)"
      ],
      "metadata": {
        "id": "fY-NnRkEX6Mg"
      },
      "execution_count": 12,
      "outputs": []
    },
    {
      "cell_type": "code",
      "source": [
        "for i in predictions:\n",
        "  print(i)"
      ],
      "metadata": {
        "colab": {
          "base_uri": "https://localhost:8080/"
        },
        "id": "JfTw-ROiVVm9",
        "outputId": "78fc3b94-b57a-465d-d6c0-4a9dad2ea432"
      },
      "execution_count": 13,
      "outputs": [
        {
          "output_type": "stream",
          "name": "stdout",
          "text": [
            "[0.9966413  0.00335868]\n",
            "[0.9894678  0.01053227]\n",
            "[0.42375273 0.5762472 ]\n",
            "[0.0628267  0.93717325]\n",
            "[0.07208315 0.9279169 ]\n",
            "[0.98811054 0.01188947]\n",
            "[0.9671194  0.03288059]\n",
            "[0.9947103 0.0052897]\n",
            "[0.6417022  0.35829785]\n",
            "[0.9890337  0.01096634]\n",
            "[0.32248393 0.67751604]\n",
            "[0.09596359 0.9040364 ]\n",
            "[0.9883642  0.01163575]\n",
            "[0.9706898  0.02931018]\n",
            "[0.03246811 0.9675319 ]\n",
            "[0.05246657 0.9475334 ]\n",
            "[0.97902757 0.02097246]\n",
            "[0.1881209  0.81187916]\n",
            "[0.98745745 0.01254252]\n",
            "[0.98552644 0.01447354]\n",
            "[0.9670702  0.03292977]\n",
            "[0.97820836 0.02179164]\n",
            "[0.98528093 0.01471903]\n",
            "[0.9935361  0.00646386]\n",
            "[0.08106289 0.9189371 ]\n",
            "[0.28106508 0.7189349 ]\n",
            "[0.9839663  0.01603364]\n",
            "[0.97153497 0.02846503]\n",
            "[0.99044764 0.0095524 ]\n",
            "[0.9540058  0.04599427]\n",
            "[0.97357935 0.02642069]\n",
            "[0.80394685 0.19605318]\n",
            "[0.23021293 0.769787  ]\n",
            "[0.9034219  0.09657812]\n",
            "[0.9798187  0.02018129]\n",
            "[0.95201176 0.04798827]\n",
            "[0.5870854 0.4129145]\n",
            "[0.9768312  0.02316881]\n",
            "[0.9893294  0.01067058]\n",
            "[0.9405359  0.05946401]\n",
            "[0.9015674  0.09843261]\n",
            "[0.9806009  0.01939916]\n",
            "[0.10962625 0.8903737 ]\n",
            "[0.9526689  0.04733105]\n",
            "[0.26255545 0.73744464]\n",
            "[0.48629662 0.51370335]\n",
            "[0.9825904  0.01740958]\n",
            "[0.2716742  0.72832584]\n",
            "[0.1755948 0.8244052]\n",
            "[0.60327595 0.39672396]\n",
            "[0.9761485  0.02385156]\n",
            "[0.2428515 0.7571485]\n",
            "[0.9789972  0.02100286]\n",
            "[0.9810596  0.01894037]\n",
            "[0.5340003  0.46599978]\n",
            "[0.0586708 0.9413292]\n",
            "[0.05561306 0.94438696]\n",
            "[0.41795054 0.5820494 ]\n",
            "[0.97331244 0.02668762]\n",
            "[0.46384326 0.5361568 ]\n",
            "[0.9741262  0.02587374]\n",
            "[0.508615   0.49138495]\n",
            "[0.21337035 0.7866297 ]\n",
            "[0.92205924 0.07794074]\n",
            "[0.07703644 0.92296356]\n",
            "[0.9866258  0.01337425]\n",
            "[0.9938799  0.00612008]\n",
            "[0.9839203  0.01607971]\n",
            "[0.9886464  0.01135361]\n",
            "[0.06524397 0.93475604]\n",
            "[0.9946137  0.00538621]\n",
            "[0.99490225 0.0050977 ]\n",
            "[0.9815446 0.0184554]\n",
            "[0.04736804 0.9526319 ]\n",
            "[0.965424   0.03457598]\n",
            "[0.98029137 0.01970861]\n",
            "[0.4952925 0.5047075]\n",
            "[0.9865497  0.01345041]\n",
            "[0.98185664 0.01814337]\n",
            "[0.9805541 0.0194459]\n",
            "[0.45084175 0.5491582 ]\n",
            "[0.38772276 0.6122773 ]\n",
            "[0.94523257 0.05476741]\n",
            "[0.98532355 0.01467648]\n",
            "[0.39834696 0.60165304]\n",
            "[0.9519177  0.04808227]\n",
            "[0.9879666  0.01203339]\n",
            "[0.9112264  0.08877357]\n",
            "[0.9651262  0.03487378]\n",
            "[0.997269 0.002731]\n",
            "[0.51059204 0.48940793]\n",
            "[0.9785105  0.02148948]\n",
            "[0.046261   0.95373905]\n",
            "[0.55897325 0.4410267 ]\n",
            "[0.9710834  0.02891661]\n",
            "[0.98658633 0.01341371]\n",
            "[0.9622511 0.0377489]\n",
            "[0.97549564 0.02450432]\n",
            "[0.3972577 0.6027423]\n",
            "[0.29509413 0.70490587]\n",
            "[0.91589266 0.08410735]\n",
            "[0.35051596 0.649484  ]\n",
            "[0.08070176 0.9192982 ]\n",
            "[0.97589093 0.02410905]\n"
          ]
        }
      ]
    }
  ]
}