{
  "cells": [
    {
      "cell_type": "markdown",
      "metadata": {
        "id": "view-in-github",
        "colab_type": "text"
      },
      "source": [
        "<a href=\"https://colab.research.google.com/github/thofes/judging_SJ_BA/blob/main/NN_final_20062022.ipynb\" target=\"_parent\"><img src=\"https://colab.research.google.com/assets/colab-badge.svg\" alt=\"Open In Colab\"/></a>"
      ]
    },
    {
      "cell_type": "code",
      "execution_count": 1,
      "metadata": {
        "colab": {
          "base_uri": "https://localhost:8080/"
        },
        "id": "SVN2myC-oH6N",
        "outputId": "d434fa52-a413-4e20-acb1-1c5c87b74bd3"
      },
      "outputs": [
        {
          "output_type": "stream",
          "name": "stdout",
          "text": [
            "Mounted at /content.gdrive\n"
          ]
        }
      ],
      "source": [
        "#Connect GDrive\n",
        "from google.colab import drive\n",
        "drive.mount('/content.gdrive')"
      ]
    },
    {
      "cell_type": "code",
      "execution_count": null,
      "metadata": {
        "colab": {
          "base_uri": "https://localhost:8080/"
        },
        "id": "0UAMjfuEoISk",
        "outputId": "59e386aa-4e53-4584-a516-2e0881c0c30f"
      },
      "outputs": [
        {
          "output_type": "stream",
          "name": "stdout",
          "text": [
            "['data_manually_labeled_original.json', 'data_manually_labled_Telemark_mirror.json', 'data_Manually_Labeled_09042022.json', 'data_Manually_Labeled_mirror_09042022.json', 'data_Manually_Labeled_11042022.json', 'data_PseudoLabeled_1_50.json', 'data_PseudoLabeled_51_100.json', 'data_PseudoLabeled_101_150.json', 'data_PseudoLabeled_151_200.json', 'data_PseudoLabeled_201_250.json', 'data_PseudoLabeled_251_300.json', 'data_PseudoLabeled_301_350.json', 'data_PseudoLabeled_351_400.json', 'data_PseudoLabeled_401_450.json', 'data_PseudoLabeled_451_500.json', 'data_PseudoLabeled_501_550.json', 'data_PseudoLabeled_551_600.json', 'data_PseudoLabeled_601_650.json', 'data_PseudoLabeled_651_700.json', 'data_PseudoLabeled_701_750.json', 'data_PseudoLabeled_751_800.json', 'data_PseudoLabeled_801_850.json', 'data_PseudoLabeled_851_900.json', 'data_PseudoLabeled_901_950.json', 'data_PseudoLabeled_951_1000.json', 'data_PseudoLabeled_1001_1050.json', 'data_PseudoLabeled_1051_1100.json', 'data_PseudoLabeled_1101_1150.json', 'data_PseudoLabeled_1151_1200.json', 'data_PseudoLabeled_1201_1250.json', 'data_PseudoLabeled_1251_1300.json', 'data_PseudoLabeled_1301_1350.json', 'data_PseudoLabeled_1351_1400.json', 'data_PseudoLabeled_1401_1450.json', 'data_PseudoLabeled_1451_1500.json', 'data_PseudoLabeled_1501_1550.json', 'data_PseudoLabeled_1551_1600.json', 'data_PseudoLabeled_1601_1650.json', 'data_PseudoLabeled_1651_1700.json', 'data_PseudoLabeled_1701_1750.json', 'data_PseudoLabeled_1751_1800.json', 'data_PseudoLabeled_last_1805.json']\n",
            "[1. 1. 0. 1. 0. 0. 0. 0. 0. 0. 1. 1. 1. 1. 0. 1. 1. 0. 0. 1. 0. 1. 1. 0.\n",
            " 1. 0. 1. 0. 1. 1. 0. 0. 1. 0. 0. 0. 1. 1. 1. 0. 0. 0. 1. 0. 1. 1. 1. 0.\n",
            " 0. 1. 0. 1. 0. 1. 0. 1. 1. 1. 1. 0. 1. 0. 0. 1. 1. 0. 1. 0. 0. 0. 0. 1.\n",
            " 0. 1. 1. 1. 0. 1. 0. 1. 1. 0. 1. 1. 0. 1. 1. 0. 0. 1. 0. 1. 0. 0. 1. 1.\n",
            " 0. 0. 0. 1. 0. 1. 1. 1. 1. 0. 1. 0. 1. 0. 0. 1. 1. 1. 1. 0. 1. 1. 0. 1.\n",
            " 0. 1. 1. 0. 1. 1. 0. 1. 0. 0. 0. 0. 0. 1. 1. 0. 1. 1. 0. 0. 0. 0. 0. 1.\n",
            " 0. 0. 0. 0. 1. 1. 0. 1. 0. 0. 1. 1. 1. 0. 0. 0. 0. 1. 0. 1. 1. 0. 1. 1.\n",
            " 0. 1. 1. 0. 1. 1. 0. 1. 1. 0. 0. 1. 0. 0. 0. 0. 0. 0. 1. 1. 0. 1. 0. 1.\n",
            " 1. 1. 1. 0. 0. 1. 1. 1. 0. 0. 0. 0. 1. 0. 0. 0. 1. 1. 0. 0. 0. 0. 0. 0.\n",
            " 0. 0. 1. 0. 0. 1. 0. 1. 1. 1. 0. 1. 0. 1. 1. 1. 0. 0. 0. 1. 0. 0. 1. 1.\n",
            " 1. 0. 0. 1. 1. 0. 0. 1. 1. 1. 0. 1. 0. 0. 1. 0. 0. 1. 0. 1. 1. 0. 0. 1.\n",
            " 0. 1. 1. 0. 1. 0. 0. 0. 0. 0. 0. 0. 0. 1. 0. 0. 1. 1. 0. 0. 0. 1. 0. 1.\n",
            " 1. 1. 1. 0. 1. 0. 0. 1. 1. 0. 0. 0. 0. 0. 0. 1. 1. 1. 0. 1. 1. 0. 1. 1.\n",
            " 1. 0. 0. 0. 0. 0. 0. 0. 0. 0. 0. 1. 0. 0. 0. 1. 1. 0. 1. 0. 0. 1. 0. 1.\n",
            " 1. 0. 0. 1. 1. 0. 1. 1. 0. 0. 0. 0. 0. 1. 0. 1. 1. 0. 1. 1. 1. 0. 0. 1.\n",
            " 1. 1. 1. 1. 0. 0. 1. 1. 1. 0. 1. 0. 1. 1. 0. 0. 0. 0. 0. 0. 0. 1. 1. 0.\n",
            " 0. 0. 1. 1. 0. 0. 0. 0. 1. 0. 1. 1. 0. 0. 0. 0. 0. 1. 0. 0. 1. 0. 1. 0.\n",
            " 0. 0. 0. 0. 1. 1. 1. 0. 0. 1. 0. 1. 0. 0. 0. 1. 1. 0. 0. 0. 0. 1. 0. 0.\n",
            " 1. 1. 1. 1. 0. 0. 1. 0. 0. 0. 0. 0. 0. 0. 0. 0. 1. 0. 1. 1. 0. 0. 1. 0.\n",
            " 0. 0. 1. 1. 0. 1. 0. 1. 0. 1. 0. 0. 0. 0. 0. 0. 0. 0. 0. 0. 1. 0. 1. 1.\n",
            " 1. 1. 0. 0. 0. 0. 1. 0. 0. 0. 1. 0. 0. 0. 1. 1. 1. 0. 0. 0. 1. 0. 1. 1.\n",
            " 0. 0. 0. 0. 0. 1. 0. 0. 1. 0. 0. 0. 1. 1. 0. 0. 0. 1. 1. 0. 1. 1. 0. 0.\n",
            " 1. 0. 0. 0. 0. 0. 0. 0. 1. 1. 1. 1. 1. 0. 0. 0. 1. 1. 1. 1. 1. 1. 1. 1.\n",
            " 0. 1. 1. 0. 0. 0. 1. 1. 1. 1. 1. 1. 1. 1. 0. 0. 0. 0. 0. 1. 0. 0. 0. 1.\n",
            " 0. 0. 1. 1. 0. 0. 1. 1. 1. 1. 0. 0. 1. 0. 1. 1. 0. 0. 1. 1. 1. 0. 1. 0.\n",
            " 0. 0. 0. 1. 0. 0. 0. 0. 0. 1. 0. 1. 1. 0. 0. 0. 0. 0. 1. 0. 0. 0. 0. 0.\n",
            " 0. 0. 0. 1. 1. 0. 0. 0. 0. 0. 0. 1. 1. 0. 0. 0. 0. 0. 0. 0. 0. 1. 0. 1.\n",
            " 1. 0. 0. 0. 1. 1. 0. 0. 1. 1. 0. 0. 1. 0. 0. 1. 0. 1. 0. 1. 1. 1. 0. 0.\n",
            " 0. 1. 0. 0. 1. 1. 0. 1. 1. 0. 0. 0. 0. 1. 0. 1. 1. 0. 0. 0. 0. 0. 0. 0.\n",
            " 0. 0. 0. 0. 1. 1. 1. 1. 0. 0. 0. 1. 1. 0. 1. 0. 1. 0. 1. 1. 1. 0. 0. 1.\n",
            " 1. 1. 1. 1. 0. 0. 0. 1. 0. 1. 0. 1. 0. 1. 0. 0. 1. 0. 0. 1. 1. 0. 1. 1.\n",
            " 0. 0. 0. 0. 0. 0. 0. 0. 0. 0. 1. 0. 1. 0. 1. 1. 0. 0. 1. 1. 1. 1. 1. 0.\n",
            " 1. 1. 0. 0. 0. 0. 1. 1. 0. 1. 1. 0. 0. 1. 0. 0. 0. 1. 1. 0. 0. 0. 1. 0.\n",
            " 1. 1. 0. 1. 0. 0. 0. 0. 0. 1. 0. 1. 0. 0. 0. 1. 0. 0. 0. 0. 0. 1. 1. 0.\n",
            " 0. 0. 0. 0. 0. 1. 1. 1. 1. 0. 0. 1. 0. 0. 0. 1. 1. 1. 1. 1. 1. 1. 0. 1.\n",
            " 1. 0. 1. 0. 0. 1. 1. 1. 0. 0. 0. 0. 0. 1. 1. 1. 0. 1. 0. 1. 1. 0. 0. 1.\n",
            " 0. 0. 0. 0. 1. 1. 0. 1. 1. 1. 1. 0. 0. 0. 0. 1. 0. 0. 0. 1. 1. 1. 0. 1.\n",
            " 0. 0. 1. 1. 0. 0. 1. 0. 0. 1. 1. 0. 1. 0. 0. 0. 1. 0. 0. 0. 0. 0. 0. 0.\n",
            " 0. 0. 0. 0. 0. 1. 0. 0. 1. 0. 1. 0. 0. 0. 1. 1. 0. 1. 0. 1. 0. 1. 0. 1.\n",
            " 0. 1. 0. 1. 0. 1. 0. 0. 0. 0. 0. 0. 0. 0. 0. 1. 1. 1. 1. 0. 0. 0. 1. 0.\n",
            " 0. 0. 1. 0. 0. 0. 1. 0. 0. 1. 0. 1. 0. 1. 0. 1. 1. 0. 1. 0. 0. 0. 0. 0.\n",
            " 1. 1. 0. 0. 0. 0. 1. 1. 0. 0. 1. 0. 1. 0. 1. 1. 0. 1. 1. 0. 1. 0. 0. 0.\n",
            " 0. 0. 1. 0. 0. 0. 0. 1. 0. 0. 0. 0. 1. 1. 1. 1. 0. 0. 1. 0. 1. 1. 0. 1.\n",
            " 1. 0. 0. 0. 1. 0. 1. 0. 0. 1. 1. 1. 1. 1. 0. 0. 1. 0. 0. 1. 0. 0. 1. 1.\n",
            " 1. 1. 0. 0. 0. 0. 0. 0. 0. 0. 1. 0. 0. 0. 1. 0. 0. 1. 0. 1. 0. 0. 1. 1.\n",
            " 1. 0. 0. 1. 0. 1. 1. 0. 0. 1. 0. 0. 0. 0. 0. 1. 0. 1. 0. 0. 1. 1. 0. 0.\n",
            " 0. 1. 0. 1. 0. 0. 1. 0. 1. 0. 0. 1. 1. 1. 0. 1. 1. 0. 0. 0. 1. 1. 1. 0.\n",
            " 0. 0. 1. 1. 1. 1. 1. 1. 1. 0. 1. 1. 0. 1. 0. 0. 1. 1. 0. 0. 0. 1. 1. 0.\n",
            " 1. 1. 1. 0. 0. 0. 0. 0. 0. 1. 0. 0. 0. 0. 0. 0. 0. 0. 1. 1. 0. 1. 0. 0.\n",
            " 1. 1. 0. 0. 1. 0. 0. 0. 0. 1. 0. 0. 0. 1. 1. 1. 0. 0. 0. 1. 1. 0. 0. 1.\n",
            " 0. 0. 1. 0. 0. 0. 0. 1. 0. 0. 1. 0. 1. 0. 1. 1. 0. 1. 1. 0. 1. 0. 1. 0.\n",
            " 1. 0. 0. 1. 0. 0. 0. 0. 1. 0. 1. 1. 0. 1. 0. 0. 0. 0. 0. 0. 0. 0. 1. 0.\n",
            " 1. 0. 0. 0. 1. 1. 1. 1. 0. 0. 0. 0. 1. 0. 1. 0. 1. 0. 1. 0. 0. 1. 1. 0.\n",
            " 1. 0. 1. 0. 1. 1. 0. 0. 1. 0. 1. 0. 0. 1. 1. 1. 1. 1. 1. 1. 0. 0. 0. 0.\n",
            " 0. 0. 0. 1. 1. 1. 0. 0. 0. 0. 0. 0. 0. 0. 1. 0. 1. 1. 1. 1. 0. 0. 1. 0.\n",
            " 0. 0. 0. 1. 0. 1. 1. 0. 1. 0. 0. 1. 0. 1. 0. 1. 0. 0. 0. 1. 0. 1. 0. 0.\n",
            " 0. 1. 1. 0. 0. 0. 1. 0. 0. 0. 0. 0. 1. 1. 1. 0. 0. 1. 0. 0. 0. 0. 0. 0.\n",
            " 0. 0. 1. 0. 1. 1. 0. 0. 0. 1. 0. 1. 0. 0. 1. 0. 0. 0. 1. 1. 0. 1. 0. 0.\n",
            " 1. 0. 1. 0. 1. 0. 1. 0. 0. 0. 1. 0. 0. 0. 1. 1. 0. 0. 0. 1. 0. 0. 1. 0.\n",
            " 0. 1. 0. 0. 0. 0. 0. 0. 0. 0. 1. 0. 1. 0. 1. 1. 1. 0. 0. 0. 1. 0. 0. 0.\n",
            " 0. 0. 1. 0. 0. 0. 0. 0. 1. 0. 1. 1. 1. 1. 0. 0. 0. 0. 1. 0. 1. 1. 0. 1.\n",
            " 1. 1. 1. 1. 1. 1. 0. 0. 1. 1. 0. 1. 0. 1. 1. 1. 0. 0. 1. 0. 0. 0. 1. 0.\n",
            " 0. 1. 0. 0. 1. 0. 0. 1. 0. 1. 0. 1. 1. 0. 0. 0. 0. 0. 1. 0. 1. 0. 1. 0.\n",
            " 0. 1. 0. 0. 1. 0. 0. 0. 0. 0. 1. 0. 0. 0. 0. 1. 0. 1. 0. 0. 0. 0. 1. 1.\n",
            " 0. 1. 0. 1. 1. 1. 1. 1. 0. 1. 0. 0. 0. 0. 0. 1. 1. 0. 0. 0. 1. 0. 1. 0.\n",
            " 0. 0. 1. 1. 0. 0. 1. 0. 0. 0. 1. 1. 0. 1. 0. 1. 1. 0. 0. 1. 0. 1. 0. 0.\n",
            " 0. 1. 0. 0. 0. 0. 1. 0. 1. 1. 0. 0. 0. 1. 0. 0. 0. 1. 1. 0. 1. 0. 0. 0.\n",
            " 1. 0. 1. 0. 1. 1. 0. 0. 1. 1. 0. 0. 1. 0. 0. 0. 0. 1. 1. 1. 0. 1. 1. 1.\n",
            " 1. 0. 0. 0. 0. 0. 0. 1. 1. 0. 1. 0. 1. 0. 0. 1. 1. 1. 1. 1. 1. 0. 1. 0.\n",
            " 1. 1. 0. 1. 1. 0. 1. 0. 0. 0. 0. 0. 0. 0. 0. 0. 0. 0. 0. 0. 0. 0. 1. 1.\n",
            " 0. 0. 0. 0. 1. 0. 1. 0. 0. 0. 1. 1. 0. 1. 1. 0. 0. 0. 0. 1. 0. 1. 0. 0.\n",
            " 1. 0. 0. 1. 0. 0. 0. 1. 0. 0. 1. 1. 1. 1. 0. 0. 0. 0. 0. 1. 0. 0. 0. 0.\n",
            " 0. 0. 1. 1. 0. 0. 1. 0. 0. 1. 1. 1. 1. 1. 1. 0. 0. 0. 1. 0. 0. 0. 0. 0.\n",
            " 1. 1. 1. 0. 0. 1. 1. 0. 1. 1. 0. 0. 0. 1. 1. 0. 0. 0. 0. 1. 0. 1. 0. 1.\n",
            " 0. 1. 1. 0. 0. 0. 1. 0. 0. 0. 0. 1. 0. 1. 1. 1. 1. 0. 0. 0. 0. 1. 0. 0.\n",
            " 0. 1. 0. 0. 0. 0. 1. 0. 0. 0. 0. 0. 0. 1. 0. 0. 1. 0. 1. 0. 0. 0. 0. 0.\n",
            " 1. 0. 0. 1. 0. 1. 1. 0. 0. 1. 1. 0. 1. 0. 0. 1. 1. 0. 1. 1. 1. 1. 0. 0.\n",
            " 0. 0. 1. 0. 0. 0. 1. 0. 1. 1. 1. 0. 0. 1. 0. 1. 0. 0. 1. 1. 0. 0. 1. 1.\n",
            " 0. 0. 1. 1. 1. 0. 0. 0. 0. 1. 1. 1. 0. 0. 1. 0. 1. 0. 1. 0. 1. 0. 0. 0.\n",
            " 1. 0. 1. 1. 0. 0. 0. 0. 1. 1. 0. 0. 1. 1. 0. 1. 0. 1. 1. 0. 0. 0. 0. 0.\n",
            " 0. 0. 0. 1. 1. 0. 1. 1. 0. 0. 0. 0. 1. 1. 0. 0. 0. 1. 1. 1. 1. 1. 1. 0.\n",
            " 1. 0. 1. 1. 1. 1. 1. 0. 1. 0. 1. 0. 0. 1. 0. 0. 0. 1. 1. 0. 0. 1. 0. 1.\n",
            " 0. 1. 1. 1. 1. 0. 1. 0. 0. 1. 1. 1. 0. 1. 1. 0. 1. 0. 1. 0. 0. 1. 0. 0.\n",
            " 1. 0. 0. 1. 0. 1. 0. 0. 0. 0. 1. 1. 0. 0. 0. 0. 0. 1. 0. 1. 0. 0. 0. 0.\n",
            " 1. 0. 0. 0. 0. 0. 0. 1. 1. 0. 0. 1. 0. 1. 1. 1. 1. 0. 0. 1. 1. 1. 0. 1.\n",
            " 0. 1. 0. 1. 0. 1. 0. 0. 1. 1. 0. 1. 1. 1. 1. 0. 0. 1. 0. 1. 1. 0. 1. 1.\n",
            " 0. 0. 0. 0. 0. 1. 0. 0. 0. 1. 1. 1. 1. 0. 1. 1. 0. 0. 1. 0. 1. 0. 0. 0.\n",
            " 0. 0. 0. 0. 0. 0. 0. 0. 0. 1. 0. 0. 0. 1. 0. 0. 0. 0. 0. 1. 1. 1. 1. 1.\n",
            " 1. 1. 0. 0. 0. 1. 0. 0. 0. 0. 1. 1. 0. 1. 1. 0. 1. 1. 0. 1. 0. 0. 0. 0.\n",
            " 1. 0. 1. 0. 1. 1. 1. 0. 0. 1. 0. 0. 0. 0. 1. 0. 1. 1. 0. 1. 1. 0. 0. 0.\n",
            " 1. 0. 0. 0. 0. 0. 0. 0. 0. 1. 1. 1. 1. 0. 0. 0. 0. 0. 1. 0. 0. 0. 0. 1.\n",
            " 0. 0. 1. 0. 0. 0. 1. 1. 0. 1. 0. 0. 1. 1. 0. 0. 0. 1. 0. 0. 1. 1. 0. 1.\n",
            " 1. 0. 1. 0. 1. 0. 1. 1. 1. 0. 1. 0. 1. 1. 1. 1. 1. 0. 1. 0. 1. 0. 0. 1.\n",
            " 0. 0. 0. 0. 0. 1. 1. 1. 0. 0. 0. 0. 1. 0. 0. 1. 0. 1. 0. 1. 0. 1. 0. 1.\n",
            " 1. 0. 0. 0. 1. 1. 0. 1. 1. 0. 1. 0. 1. 0. 0. 0. 0. 0. 1. 0. 0. 0. 0. 0.\n",
            " 0. 0. 0. 0. 1. 0. 0. 1. 0. 0. 0. 1. 1. 0. 1. 0. 0. 0. 0. 0. 1. 1. 0. 1.\n",
            " 1. 0. 0. 0. 0. 0. 0. 0. 0. 1. 1. 0. 0. 0. 0. 1. 1. 1. 1. 0. 1. 0. 1. 0.\n",
            " 0. 1. 1. 1. 1. 1. 0. 0. 1. 0. 1. 1. 1. 0. 1. 1. 1. 0. 0. 0. 0. 1. 1. 1.\n",
            " 1. 0. 0. 1. 0. 0. 1. 0. 0. 0. 1. 1. 1. 1. 1. 0. 0. 1. 0. 0. 0. 0. 0. 0.\n",
            " 1. 1. 0. 0. 0. 0. 0. 0. 0. 0. 1. 0. 1. 0. 0. 1. 1. 0. 0. 1. 1. 0. 0. 0.\n",
            " 0. 1. 0. 0. 0. 1. 1. 1. 0. 0. 1. 1. 0. 0. 1. 1. 0. 0. 0. 1. 1. 0. 0. 0.\n",
            " 1. 0. 1. 1. 0. 0. 1. 0. 0. 0. 1. 0. 0. 0. 0. 0. 1. 0. 0. 0. 1. 1. 0. 0.\n",
            " 0. 0. 0. 0. 1. 0. 0. 0. 0. 1. 0. 0. 1. 1. 0. 1. 0. 0. 0. 0. 1. 1. 0. 1.\n",
            " 0. 1. 0. 0. 0. 1. 0. 1. 1. 0. 1. 0. 0. 1. 1. 0. 0. 0. 0. 0. 0. 0. 1. 1.\n",
            " 1. 1. 0. 1. 1. 0. 0. 0. 1. 0. 1. 0. 1. 1. 0. 0. 0. 1. 0. 0. 1. 0. 0. 1.\n",
            " 0. 0. 0. 0. 1. 1. 1. 0. 1. 1. 0. 1. 0. 0. 0. 0. 0. 0. 0. 0. 1. 0. 1. 0.\n",
            " 0. 1. 1. 1. 1. 1. 0. 0. 1. 0. 1. 0. 0. 1. 0. 1. 0. 0. 1. 0. 0. 0. 0. 0.\n",
            " 0. 0. 0. 0. 0. 1. 1. 0. 1. 0. 1. 0. 0. 1. 0. 0. 0. 0. 1. 1. 0. 1. 1. 0.\n",
            " 0. 0. 1. 0. 0. 0. 1. 0. 1. 1. 0. 0. 0. 0. 0. 1. 1. 1. 0. 1. 1. 1. 0. 0.\n",
            " 1. 0. 0. 0. 0. 0. 0. 0. 0. 1. 1. 1. 1. 1. 0. 1. 0. 0. 0. 1. 1. 1. 0. 1.\n",
            " 0. 1. 0. 1. 0. 0. 0. 1. 1. 0. 0. 0. 1. 1. 1. 0. 1. 0. 1. 0. 0. 0. 1. 0.\n",
            " 0. 0. 1. 0. 1. 1. 0. 1. 0. 1. 0. 1. 0. 1. 0. 0. 0. 0. 1. 0. 1. 1. 0. 0.\n",
            " 0. 0. 1. 1. 0. 1. 0. 0. 0. 0. 0. 0. 0. 0. 0. 0. 0. 0. 0. 0. 0. 1. 1. 0.\n",
            " 0. 1. 0. 0. 0. 1. 0. 1. 1. 0. 0. 0. 0. 0. 0. 0. 0. 0. 1. 1. 1. 0. 0. 1.\n",
            " 1. 1. 1. 0. 1. 0. 0. 1. 0. 0. 1. 1. 1. 0. 0. 0. 0. 0. 1. 1. 1. 1. 0. 1.\n",
            " 0. 0. 1. 1. 0. 0. 1. 0. 0. 1. 0. 0. 0. 1. 1. 0. 0. 1. 1. 1. 1. 0. 1. 0.\n",
            " 0. 0. 0. 0. 0. 0. 0. 1. 1. 0. 0. 1. 1. 1. 1. 1. 1. 0. 0. 1. 0. 1. 1. 0.\n",
            " 1. 0. 0. 1. 0. 0. 1. 1. 0. 0. 0. 1. 0. 1. 0. 0. 0. 1. 1. 1. 0. 0. 0. 0.\n",
            " 0. 1. 1. 1. 1. 0. 0. 0. 0. 0. 1. 1. 1. 1. 0. 1. 0. 0. 1. 1. 0. 0. 0. 0.\n",
            " 1. 1. 0. 1. 1. 1. 0. 1. 0. 0. 1. 1. 1. 0. 0. 1. 0. 0. 0. 1. 1. 0. 1. 1.\n",
            " 0. 1. 0. 1. 1. 1. 0.]\n",
            "(2887, 1575)\n",
            "(2887,)\n",
            "[1. 1. 0. ... 1. 1. 0.]\n",
            "[[0.         0.         0.         ... 0.5351246  0.75182521 0.57700419]\n",
            " [0.         0.         0.         ... 0.         0.         0.        ]\n",
            " [0.68904734 0.29925853 0.74761111 ... 0.52955014 0.72753429 0.60372621]\n",
            " ...\n",
            " [0.72149932 0.2791433  0.23972462 ... 0.38750103 0.74639601 0.39744261]\n",
            " [0.71443689 0.27171221 0.31999922 ... 0.53225851 0.72776288 0.73739231]\n",
            " [0.         0.         0.         ... 0.49164531 0.74916732 0.55337095]]\n"
          ]
        }
      ],
      "source": [
        "#import json files 1575\n",
        "\n",
        "import os\n",
        "import json\n",
        "import numpy as np\n",
        "from sklearn.utils import shuffle\n",
        "\n",
        "PATH = \"/content.gdrive/MyDrive/Datasets_1575\"\n",
        "sets = []\n",
        "try:\n",
        "    sets = next(os.walk(PATH))[2]\n",
        "except StopIteration:\n",
        "    pass\n",
        "\n",
        "print(sets)\n",
        "X = np.empty(shape=(0,1575))\n",
        "y = np.empty(shape=0)\n",
        "\n",
        "\n",
        "\n",
        "for path in sets:\n",
        "    path = PATH + '/' + path\n",
        "    with open(path, \"r\") as fp:\n",
        "        data1 = json.load(fp)\n",
        "\n",
        "    # convert lists to numpy arrays\n",
        "    X1 = np.array(data1[\"keypoints\"])\n",
        "    #X = np.array(data[\"mfcc\"])\n",
        "    y1 = np.array(data1[\"labels\"])\n",
        "\n",
        "    X = np.concatenate((X,X1), axis=0)\n",
        "    y = np.concatenate((y,y1), axis=0)\n",
        "X,y = shuffle(X,y)\n",
        "with np.printoptions(threshold=np.inf):\n",
        "    print(y)\n",
        "\n",
        "print(X.shape)\n",
        "print(y.shape)\n",
        "print(y)\n",
        "print(X)"
      ]
    },
    {
      "cell_type": "code",
      "source": [
        "#coutn for 50:50 \n",
        "counter = 0\n",
        "for i,x in enumerate(y):\n",
        "  if x == 1:\n",
        "    counter +=1\n",
        "\n",
        "print(counter)"
      ],
      "metadata": {
        "colab": {
          "base_uri": "https://localhost:8080/"
        },
        "id": "ethsquHxnXyY",
        "outputId": "66bef11c-8ab7-48e2-b658-8e26c708c8f4"
      },
      "execution_count": null,
      "outputs": [
        {
          "output_type": "stream",
          "name": "stdout",
          "text": [
            "1208\n"
          ]
        }
      ]
    },
    {
      "cell_type": "code",
      "source": [
        "# 50:50 verteilung\n",
        "counter = 0\n",
        "index0 = []\n",
        "for i,x in enumerate(np.nditer(y)):\n",
        "  if x == 0 and counter <470:\n",
        "      counter+=1\n",
        "      index0.append(i)\n",
        "\n",
        "print(counter)\n",
        "print(index0)\n",
        "X = np.delete(X, index0, 0)\n",
        "y = np.delete(y, index0, None)\n",
        "\n",
        "print(X.shape)\n",
        "print(y.shape)\n",
        "print(y)\n",
        "print(X)"
      ],
      "metadata": {
        "colab": {
          "base_uri": "https://localhost:8080/"
        },
        "id": "EH6BbA8X3j7X",
        "outputId": "4e4f7cc8-9e21-4fb5-b925-b6d55e54710a"
      },
      "execution_count": null,
      "outputs": [
        {
          "output_type": "stream",
          "name": "stdout",
          "text": [
            "470\n",
            "[2, 4, 5, 6, 7, 8, 9, 14, 17, 18, 20, 23, 25, 27, 30, 31, 33, 34, 35, 39, 40, 41, 43, 47, 48, 50, 52, 54, 59, 61, 62, 65, 67, 68, 69, 70, 72, 76, 78, 81, 84, 87, 88, 90, 92, 93, 96, 97, 98, 100, 105, 107, 109, 110, 115, 118, 120, 123, 126, 128, 129, 130, 131, 132, 135, 138, 139, 140, 141, 142, 144, 145, 146, 147, 150, 152, 153, 157, 158, 159, 160, 162, 165, 168, 171, 174, 177, 178, 180, 181, 182, 183, 184, 185, 188, 190, 195, 196, 200, 201, 202, 203, 205, 206, 207, 210, 211, 212, 213, 214, 215, 216, 217, 219, 220, 222, 226, 228, 232, 233, 234, 236, 237, 241, 242, 245, 246, 250, 252, 253, 255, 256, 258, 261, 262, 264, 267, 269, 270, 271, 272, 273, 274, 275, 276, 278, 279, 282, 283, 284, 286, 291, 293, 294, 297, 298, 299, 300, 301, 302, 306, 309, 313, 314, 315, 316, 317, 318, 319, 320, 321, 322, 324, 325, 326, 329, 331, 332, 334, 337, 338, 341, 344, 345, 346, 347, 348, 350, 353, 357, 358, 364, 365, 369, 371, 374, 375, 376, 377, 378, 379, 380, 383, 384, 385, 388, 389, 390, 391, 393, 396, 397, 398, 399, 400, 402, 403, 405, 407, 408, 409, 410, 411, 415, 416, 418, 420, 421, 422, 425, 426, 427, 428, 430, 431, 436, 437, 439, 440, 441, 442, 443, 444, 445, 446, 447, 449, 452, 453, 455, 456, 457, 460, 462, 464, 466, 467, 468, 469, 470, 471, 472, 473, 474, 475, 477, 482, 483, 484, 485, 487, 488, 489, 491, 492, 493, 497, 498, 499, 501, 504, 505, 506, 507, 508, 510, 511, 513, 514, 515, 518, 519, 520, 523, 526, 527, 529, 530, 531, 532, 533, 534, 535, 541, 542, 543, 552, 555, 556, 557, 566, 567, 568, 569, 570, 572, 573, 574, 576, 577, 580, 581, 586, 587, 589, 592, 593, 597, 599, 600, 601, 602, 604, 605, 606, 607, 608, 610, 613, 614, 615, 616, 617, 619, 620, 621, 622, 623, 624, 625, 626, 629, 630, 631, 632, 633, 634, 637, 638, 639, 640, 641, 642, 643, 644, 646, 649, 650, 651, 654, 655, 658, 659, 661, 662, 664, 666, 670, 671, 672, 674, 675, 678, 681, 682, 683, 684, 686, 689, 690, 691, 692, 693, 694, 695, 696, 697, 698, 699, 704, 705, 706, 709, 711, 713, 717, 718, 724, 725, 726, 728, 730, 732, 734, 735, 737, 738, 741, 744, 745, 746, 747, 748, 749, 750, 751, 752, 753, 755, 757, 760, 761, 767, 770, 771, 772, 773, 776, 779, 780, 782, 783, 784, 787, 788, 789, 791, 794, 796, 797, 798, 799, 800, 802, 804, 805, 806, 808, 809, 810, 811, 812, 815, 816, 817, 818, 819, 820, 825, 826]\n",
            "(2417, 1575)\n",
            "(2417,)\n",
            "[1. 1. 1. ... 1. 1. 0.]\n",
            "[[0.         0.         0.         ... 0.5351246  0.75182521 0.57700419]\n",
            " [0.         0.         0.         ... 0.         0.         0.        ]\n",
            " [0.         0.         0.         ... 0.         0.         0.        ]\n",
            " ...\n",
            " [0.72149932 0.2791433  0.23972462 ... 0.38750103 0.74639601 0.39744261]\n",
            " [0.71443689 0.27171221 0.31999922 ... 0.53225851 0.72776288 0.73739231]\n",
            " [0.         0.         0.         ... 0.49164531 0.74916732 0.55337095]]\n"
          ]
        }
      ]
    },
    {
      "cell_type": "code",
      "execution_count": null,
      "metadata": {
        "colab": {
          "base_uri": "https://localhost:8080/"
        },
        "id": "tyNWtLCwGbNG",
        "outputId": "0d59be66-2ad6-4c34-cc39-97834a0b7742"
      },
      "outputs": [
        {
          "output_type": "stream",
          "name": "stdout",
          "text": [
            "(2417, 1575)\n",
            "1117284\n",
            "[45, 46, 47, 48, 49, 50, 51, 52, 53, 54, 55, 56, 57, 58, 59, 60, 61, 62, 63, 64, 65, 66, 67, 68, 69, 70, 71, 72, 73, 74, 120, 121, 122, 123, 124, 125, 126, 127, 128, 129, 130, 131, 132, 133, 134, 135, 136, 137, 138, 139, 140, 141, 142, 143, 144, 145, 146, 147, 148, 149, 195, 196, 197, 198, 199, 200, 201, 202, 203, 204, 205, 206, 207, 208, 209, 210, 211, 212, 213, 214, 215, 216, 217, 218, 219, 220, 221, 222, 223, 224, 270, 271, 272, 273, 274, 275, 276, 277, 278, 279, 280, 281, 282, 283, 284, 285, 286, 287, 288, 289, 290, 291, 292, 293, 294, 295, 296, 297, 298, 299, 345, 346, 347, 348, 349, 350, 351, 352, 353, 354, 355, 356, 357, 358, 359, 360, 361, 362, 363, 364, 365, 366, 367, 368, 369, 370, 371, 372, 373, 374, 420, 421, 422, 423, 424, 425, 426, 427, 428, 429, 430, 431, 432, 433, 434, 435, 436, 437, 438, 439, 440, 441, 442, 443, 444, 445, 446, 447, 448, 449, 495, 496, 497, 498, 499, 500, 501, 502, 503, 504, 505, 506, 507, 508, 509, 510, 511, 512, 513, 514, 515, 516, 517, 518, 519, 520, 521, 522, 523, 524, 570, 571, 572, 573, 574, 575, 576, 577, 578, 579, 580, 581, 582, 583, 584, 585, 586, 587, 588, 589, 590, 591, 592, 593, 594, 595, 596, 597, 598, 599, 645, 646, 647, 648, 649, 650, 651, 652, 653, 654, 655, 656, 657, 658, 659, 660, 661, 662, 663, 664, 665, 666, 667, 668, 669, 670, 671, 672, 673, 674, 720, 721, 722, 723, 724, 725, 726, 727, 728, 729, 730, 731, 732, 733, 734, 735, 736, 737, 738, 739, 740, 741, 742, 743, 744, 745, 746, 747, 748, 749, 795, 796, 797, 798, 799, 800, 801, 802, 803, 804, 805, 806, 807, 808, 809, 810, 811, 812, 813, 814, 815, 816, 817, 818, 819, 820, 821, 822, 823, 824, 870, 871, 872, 873, 874, 875, 876, 877, 878, 879, 880, 881, 882, 883, 884, 885, 886, 887, 888, 889, 890, 891, 892, 893, 894, 895, 896, 897, 898, 899, 945, 946, 947, 948, 949, 950, 951, 952, 953, 954, 955, 956, 957, 958, 959, 960, 961, 962, 963, 964, 965, 966, 967, 968, 969, 970, 971, 972, 973, 974, 1020, 1021, 1022, 1023, 1024, 1025, 1026, 1027, 1028, 1029, 1030, 1031, 1032, 1033, 1034, 1035, 1036, 1037, 1038, 1039, 1040, 1041, 1042, 1043, 1044, 1045, 1046, 1047, 1048, 1049, 1095, 1096, 1097, 1098, 1099, 1100, 1101, 1102, 1103, 1104, 1105, 1106, 1107, 1108, 1109, 1110, 1111, 1112, 1113, 1114, 1115, 1116, 1117, 1118, 1119, 1120, 1121, 1122, 1123, 1124, 1170, 1171, 1172, 1173, 1174, 1175, 1176, 1177, 1178, 1179, 1180, 1181, 1182, 1183, 1184, 1185, 1186, 1187, 1188, 1189, 1190, 1191, 1192, 1193, 1194, 1195, 1196, 1197, 1198, 1199, 1245, 1246, 1247, 1248, 1249, 1250, 1251, 1252, 1253, 1254, 1255, 1256, 1257, 1258, 1259, 1260, 1261, 1262, 1263, 1264, 1265, 1266, 1267, 1268, 1269, 1270, 1271, 1272, 1273, 1274, 1320, 1321, 1322, 1323, 1324, 1325, 1326, 1327, 1328, 1329, 1330, 1331, 1332, 1333, 1334, 1335, 1336, 1337, 1338, 1339, 1340, 1341, 1342, 1343, 1344, 1345, 1346, 1347, 1348, 1349, 1395, 1396, 1397, 1398, 1399, 1400, 1401, 1402, 1403, 1404, 1405, 1406, 1407, 1408, 1409, 1410, 1411, 1412, 1413, 1414, 1415, 1416, 1417, 1418, 1419, 1420, 1421, 1422, 1423, 1424, 1470, 1471, 1472, 1473, 1474, 1475, 1476, 1477, 1478, 1479, 1480, 1481, 1482, 1483, 1484, 1485, 1486, 1487, 1488, 1489, 1490, 1491, 1492, 1493, 1494, 1495, 1496, 1497, 1498, 1499, 1545, 1546, 1547, 1548, 1549, 1550, 1551, 1552, 1553, 1554, 1555, 1556, 1557, 1558, 1559, 1560, 1561, 1562, 1563, 1564, 1565, 1566, 1567, 1568, 1569, 1570, 1571, 1572, 1573, 1574]\n",
            "(2417, 945)\n",
            "568431\n"
          ]
        }
      ],
      "source": [
        "# Relevante KP 945\n",
        "#with np.printoptions(threshold=np.inf):\n",
        "    #print(X[0])\n",
        "print(X.shape)\n",
        "counter_alt =0\n",
        "for x in X:\n",
        "  for k in x:\n",
        "      if k == 0:\n",
        "          counter_alt+= 1\n",
        "\n",
        "print(counter_alt)\n",
        "\n",
        "delete_index = []\n",
        "for i in range(21):\n",
        "    liste = [*range(45+(i*75),75+(i*75),1)]\n",
        "    delete_index.append(liste)\n",
        "\n",
        "flat_list = [item for sublist in delete_index for item in sublist]\n",
        "\n",
        "print(flat_list)\n",
        "X = np.delete(X, delete_index, axis=1)\n",
        "\n",
        "\n",
        "\n",
        "print(X.shape)\n",
        "#with np.printoptions(threshold=np.inf):\n",
        "    #print(X[0])\n",
        "\n",
        "counter_neu =0\n",
        "for x in X:\n",
        "  for k in x:\n",
        "      if k == 0:\n",
        "          counter_neu+= 1\n",
        "print(counter_neu)"
      ]
    },
    {
      "cell_type": "code",
      "execution_count": null,
      "metadata": {
        "colab": {
          "base_uri": "https://localhost:8080/"
        },
        "id": "Wk8FLAY_qCDE",
        "outputId": "a39b84fa-84b5-43c0-a761-00e4bd5db133"
      },
      "outputs": [
        {
          "output_type": "stream",
          "name": "stdout",
          "text": [
            "Looking in indexes: https://pypi.org/simple, https://us-python.pkg.dev/colab-wheels/public/simple/\n",
            "Collecting tensorflow-addons\n",
            "  Downloading tensorflow_addons-0.17.1-cp37-cp37m-manylinux_2_17_x86_64.manylinux2014_x86_64.whl (1.1 MB)\n",
            "\u001b[K     |████████████████████████████████| 1.1 MB 18.7 MB/s \n",
            "\u001b[?25hRequirement already satisfied: typeguard>=2.7 in /usr/local/lib/python3.7/dist-packages (from tensorflow-addons) (2.7.1)\n",
            "Requirement already satisfied: packaging in /usr/local/lib/python3.7/dist-packages (from tensorflow-addons) (21.3)\n",
            "Requirement already satisfied: pyparsing!=3.0.5,>=2.0.2 in /usr/local/lib/python3.7/dist-packages (from packaging->tensorflow-addons) (3.0.9)\n",
            "Installing collected packages: tensorflow-addons\n",
            "Successfully installed tensorflow-addons-0.17.1\n"
          ]
        }
      ],
      "source": [
        "\n",
        "!pip install -U tensorflow-addons"
      ]
    },
    {
      "cell_type": "code",
      "execution_count": null,
      "metadata": {
        "colab": {
          "base_uri": "https://localhost:8080/"
        },
        "id": "qi9G7kXLoMoc",
        "outputId": "40166a82-02a9-4e04-d6fa-45dde9985377"
      },
      "outputs": [
        {
          "output_type": "stream",
          "name": "stdout",
          "text": [
            "Model: \"sequential\"\n",
            "_________________________________________________________________\n",
            " Layer (type)                Output Shape              Param #   \n",
            "=================================================================\n",
            " dense (Dense)               (None, 945, 1200)         2400      \n",
            "                                                                 \n",
            " conv1d (Conv1D)             (None, 315, 32)           1728032   \n",
            "                                                                 \n",
            " dropout (Dropout)           (None, 315, 32)           0         \n",
            "                                                                 \n",
            " conv1d_1 (Conv1D)           (None, 21, 64)            30784     \n",
            "                                                                 \n",
            " dropout_1 (Dropout)         (None, 21, 64)            0         \n",
            "                                                                 \n",
            " lstm (LSTM)                 (None, 21)                7224      \n",
            "                                                                 \n",
            " dropout_2 (Dropout)         (None, 21)                0         \n",
            "                                                                 \n",
            " dense_1 (Dense)             (None, 1)                 22        \n",
            "                                                                 \n",
            "=================================================================\n",
            "Total params: 1,768,462\n",
            "Trainable params: 1,768,462\n",
            "Non-trainable params: 0\n",
            "_________________________________________________________________\n"
          ]
        }
      ],
      "source": [
        "#Creating binary classification model 1575\n",
        "import json\n",
        "import numpy as np\n",
        "import tensorflow as tf\n",
        "from tensorflow import keras\n",
        "from tensorflow.keras.models import Sequential\n",
        "from tensorflow.keras.callbacks import EarlyStopping\n",
        "from tensorflow.keras.layers import Activation, Dense, Conv1D, Dropout, MaxPooling1D, LSTM, Conv2D, Flatten,GlobalMaxPooling1D, Reshape\n",
        "from tensorflow.keras.optimizers import Adam\n",
        "from tensorflow.keras.metrics import categorical_crossentropy, binary_crossentropy\n",
        "from sklearn.utils import shuffle\n",
        "import tensorflow_addons as tfa\n",
        "\n",
        "\n",
        "\n",
        "\n",
        "\n",
        "def Ranger(sync_period=6,\n",
        "           slow_step_size=0.5,\n",
        "           learning_rate=0.001,\n",
        "           beta_1=0.9,\n",
        "           beta_2=0.999,\n",
        "           epsilon=1e-7,\n",
        "           weight_decay=0.,\n",
        "           amsgrad=False,\n",
        "           sma_threshold=5.0,\n",
        "           total_steps=0,\n",
        "           warmup_proportion=0.1,\n",
        "           min_lr=0.,\n",
        "           name=\"Ranger\"):\n",
        "    inner = tfa.optimizers.RectifiedAdam(learning_rate, beta_1, beta_2, epsilon, weight_decay, amsgrad, sma_threshold, total_steps, warmup_proportion, min_lr, name)\n",
        "    optim = tfa.optimizers.Lookahead(inner, sync_period, slow_step_size, name)\n",
        "    return optim\n",
        "\n",
        "\n",
        "\n",
        "model = Sequential([\n",
        "    \n",
        "    Dense(units=1200, input_shape=(945,1), activation='relu'), \n",
        "    #Dense(units=1575, activation='relu'),\n",
        "    \n",
        "    #Reshape((945,1)),                   \n",
        "    Conv1D(filters=32, kernel_size=45, strides=3, padding='same', activation='relu'), # input_shape=(945,1),\n",
        "    Dropout(0.15),\n",
        "    Conv1D(filters=64, kernel_size=15, strides=15, padding='same', activation='relu'),\n",
        "    Dropout(0.15),\n",
        "    LSTM(21), #, return_sequences=True\n",
        "    Dropout(0.15),\n",
        "    Dense(units=1, activation='sigmoid') #sigmoid\n",
        "])\n",
        "\n",
        "save_callback = EarlyStopping(\n",
        "    monitor=\"val_accuracy\",\n",
        "    min_delta=0,\n",
        "    patience=50,\n",
        "    verbose=1,\n",
        "    mode=\"auto\",\n",
        "    baseline=None,\n",
        "    restore_best_weights=True,\n",
        ")\n",
        "def scheduler(epoche, lr):\n",
        "      if epoche < 2:\n",
        "          return lr\n",
        "      else:\n",
        "          return lr*0.97\n",
        "lr_scheduler = keras.callbacks.LearningRateScheduler(scheduler, verbose=1)\n",
        "#model.compile(optimizer=Adam(learning_rate=0.001), loss='binary_crossentropy', metrics=['accuracy'])\n",
        "model.compile(optimizer=Ranger(), loss='binary_crossentropy', metrics=['accuracy'])\n",
        "\n",
        "\n",
        "model.summary()\n",
        "\n"
      ]
    },
    {
      "cell_type": "code",
      "execution_count": null,
      "metadata": {
        "colab": {
          "base_uri": "https://localhost:8080/"
        },
        "id": "VOEiMkStoTs9",
        "outputId": "7204fa7f-c109-47f3-c90f-86cf0c6a7b4e"
      },
      "outputs": [
        {
          "output_type": "stream",
          "name": "stdout",
          "text": [
            "Epoch 1/1000\n",
            "49/49 - 26s - loss: 0.6929 - accuracy: 0.5147 - val_loss: 0.6983 - val_accuracy: 0.4112 - 26s/epoch - 533ms/step\n",
            "Epoch 2/1000\n",
            "49/49 - 7s - loss: 0.6914 - accuracy: 0.5266 - val_loss: 0.6950 - val_accuracy: 0.4298 - 7s/epoch - 136ms/step\n",
            "Epoch 3/1000\n",
            "49/49 - 7s - loss: 0.6882 - accuracy: 0.5515 - val_loss: 0.6998 - val_accuracy: 0.4236 - 7s/epoch - 137ms/step\n",
            "Epoch 4/1000\n",
            "49/49 - 7s - loss: 0.6837 - accuracy: 0.5727 - val_loss: 0.6852 - val_accuracy: 0.5248 - 7s/epoch - 137ms/step\n",
            "Epoch 5/1000\n",
            "49/49 - 7s - loss: 0.6684 - accuracy: 0.6136 - val_loss: 0.7015 - val_accuracy: 0.4876 - 7s/epoch - 135ms/step\n",
            "Epoch 6/1000\n",
            "49/49 - 7s - loss: 0.6614 - accuracy: 0.6105 - val_loss: 0.6535 - val_accuracy: 0.6364 - 7s/epoch - 133ms/step\n",
            "Epoch 7/1000\n",
            "49/49 - 6s - loss: 0.6494 - accuracy: 0.6280 - val_loss: 0.6190 - val_accuracy: 0.6570 - 6s/epoch - 132ms/step\n",
            "Epoch 8/1000\n",
            "49/49 - 6s - loss: 0.6217 - accuracy: 0.6611 - val_loss: 0.6914 - val_accuracy: 0.5579 - 6s/epoch - 133ms/step\n",
            "Epoch 9/1000\n",
            "49/49 - 6s - loss: 0.5758 - accuracy: 0.6979 - val_loss: 0.6020 - val_accuracy: 0.6570 - 6s/epoch - 131ms/step\n",
            "Epoch 10/1000\n",
            "49/49 - 6s - loss: 0.5366 - accuracy: 0.7248 - val_loss: 0.8709 - val_accuracy: 0.5393 - 6s/epoch - 131ms/step\n",
            "Epoch 11/1000\n",
            "49/49 - 6s - loss: 0.5051 - accuracy: 0.7548 - val_loss: 0.5425 - val_accuracy: 0.7169 - 6s/epoch - 131ms/step\n",
            "Epoch 12/1000\n",
            "49/49 - 6s - loss: 0.4810 - accuracy: 0.7739 - val_loss: 0.4957 - val_accuracy: 0.7562 - 6s/epoch - 132ms/step\n",
            "Epoch 13/1000\n",
            "49/49 - 6s - loss: 0.4467 - accuracy: 0.7962 - val_loss: 0.4727 - val_accuracy: 0.7686 - 6s/epoch - 133ms/step\n",
            "Epoch 14/1000\n",
            "49/49 - 7s - loss: 0.4316 - accuracy: 0.8024 - val_loss: 0.4769 - val_accuracy: 0.7707 - 7s/epoch - 133ms/step\n",
            "Epoch 15/1000\n",
            "49/49 - 7s - loss: 0.4360 - accuracy: 0.7946 - val_loss: 0.5560 - val_accuracy: 0.7397 - 7s/epoch - 133ms/step\n",
            "Epoch 16/1000\n",
            "49/49 - 7s - loss: 0.3949 - accuracy: 0.8236 - val_loss: 0.4574 - val_accuracy: 0.7975 - 7s/epoch - 133ms/step\n",
            "Epoch 17/1000\n",
            "49/49 - 7s - loss: 0.3690 - accuracy: 0.8407 - val_loss: 0.3951 - val_accuracy: 0.8202 - 7s/epoch - 133ms/step\n",
            "Epoch 18/1000\n",
            "49/49 - 7s - loss: 0.3493 - accuracy: 0.8505 - val_loss: 0.3852 - val_accuracy: 0.8347 - 7s/epoch - 133ms/step\n",
            "Epoch 19/1000\n",
            "49/49 - 7s - loss: 0.3379 - accuracy: 0.8650 - val_loss: 0.3686 - val_accuracy: 0.8388 - 7s/epoch - 133ms/step\n",
            "Epoch 20/1000\n",
            "49/49 - 6s - loss: 0.3260 - accuracy: 0.8665 - val_loss: 0.4022 - val_accuracy: 0.8285 - 6s/epoch - 132ms/step\n",
            "Epoch 21/1000\n",
            "49/49 - 6s - loss: 0.3201 - accuracy: 0.8639 - val_loss: 0.3698 - val_accuracy: 0.8306 - 6s/epoch - 132ms/step\n",
            "Epoch 22/1000\n",
            "49/49 - 6s - loss: 0.3108 - accuracy: 0.8691 - val_loss: 0.3517 - val_accuracy: 0.8388 - 6s/epoch - 132ms/step\n",
            "Epoch 23/1000\n",
            "49/49 - 6s - loss: 0.3034 - accuracy: 0.8769 - val_loss: 0.3815 - val_accuracy: 0.8306 - 6s/epoch - 132ms/step\n",
            "Epoch 24/1000\n",
            "49/49 - 6s - loss: 0.2782 - accuracy: 0.8857 - val_loss: 0.3594 - val_accuracy: 0.8264 - 6s/epoch - 132ms/step\n",
            "Epoch 25/1000\n",
            "49/49 - 6s - loss: 0.2788 - accuracy: 0.8888 - val_loss: 0.3697 - val_accuracy: 0.8388 - 6s/epoch - 132ms/step\n",
            "Epoch 26/1000\n",
            "49/49 - 6s - loss: 0.2850 - accuracy: 0.8820 - val_loss: 0.3668 - val_accuracy: 0.8388 - 6s/epoch - 132ms/step\n",
            "Epoch 27/1000\n",
            "49/49 - 6s - loss: 0.2899 - accuracy: 0.8753 - val_loss: 0.3472 - val_accuracy: 0.8595 - 6s/epoch - 133ms/step\n",
            "Epoch 28/1000\n",
            "49/49 - 6s - loss: 0.2485 - accuracy: 0.9022 - val_loss: 0.4033 - val_accuracy: 0.8264 - 6s/epoch - 132ms/step\n",
            "Epoch 29/1000\n",
            "49/49 - 6s - loss: 0.2458 - accuracy: 0.8986 - val_loss: 0.3400 - val_accuracy: 0.8574 - 6s/epoch - 133ms/step\n",
            "Epoch 30/1000\n",
            "49/49 - 6s - loss: 0.2324 - accuracy: 0.9038 - val_loss: 0.3381 - val_accuracy: 0.8574 - 6s/epoch - 133ms/step\n",
            "Epoch 31/1000\n",
            "49/49 - 6s - loss: 0.2563 - accuracy: 0.8971 - val_loss: 0.3092 - val_accuracy: 0.8574 - 6s/epoch - 132ms/step\n",
            "Epoch 32/1000\n",
            "49/49 - 6s - loss: 0.2130 - accuracy: 0.9121 - val_loss: 0.3080 - val_accuracy: 0.8802 - 6s/epoch - 133ms/step\n",
            "Epoch 33/1000\n",
            "49/49 - 6s - loss: 0.2213 - accuracy: 0.9074 - val_loss: 0.3188 - val_accuracy: 0.8760 - 6s/epoch - 132ms/step\n",
            "Epoch 34/1000\n",
            "49/49 - 6s - loss: 0.2132 - accuracy: 0.9188 - val_loss: 0.2919 - val_accuracy: 0.8884 - 6s/epoch - 132ms/step\n",
            "Epoch 35/1000\n",
            "49/49 - 6s - loss: 0.2123 - accuracy: 0.9167 - val_loss: 0.3257 - val_accuracy: 0.8740 - 6s/epoch - 132ms/step\n",
            "Epoch 36/1000\n",
            "49/49 - 6s - loss: 0.1921 - accuracy: 0.9296 - val_loss: 0.2818 - val_accuracy: 0.8864 - 6s/epoch - 132ms/step\n",
            "Epoch 37/1000\n",
            "49/49 - 6s - loss: 0.2033 - accuracy: 0.9188 - val_loss: 0.3125 - val_accuracy: 0.8740 - 6s/epoch - 132ms/step\n",
            "Epoch 38/1000\n",
            "49/49 - 7s - loss: 0.1852 - accuracy: 0.9255 - val_loss: 0.3774 - val_accuracy: 0.8450 - 7s/epoch - 137ms/step\n",
            "Epoch 39/1000\n",
            "49/49 - 6s - loss: 0.2025 - accuracy: 0.9162 - val_loss: 0.2961 - val_accuracy: 0.8719 - 6s/epoch - 132ms/step\n",
            "Epoch 40/1000\n",
            "49/49 - 6s - loss: 0.1869 - accuracy: 0.9234 - val_loss: 0.3326 - val_accuracy: 0.8740 - 6s/epoch - 132ms/step\n",
            "Epoch 41/1000\n",
            "49/49 - 6s - loss: 0.1780 - accuracy: 0.9338 - val_loss: 0.3328 - val_accuracy: 0.8636 - 6s/epoch - 132ms/step\n",
            "Epoch 42/1000\n",
            "49/49 - 6s - loss: 0.1799 - accuracy: 0.9271 - val_loss: 0.2730 - val_accuracy: 0.8884 - 6s/epoch - 132ms/step\n",
            "Epoch 43/1000\n",
            "49/49 - 6s - loss: 0.1687 - accuracy: 0.9276 - val_loss: 0.2865 - val_accuracy: 0.8884 - 6s/epoch - 132ms/step\n",
            "Epoch 44/1000\n",
            "49/49 - 6s - loss: 0.1767 - accuracy: 0.9338 - val_loss: 0.2895 - val_accuracy: 0.8802 - 6s/epoch - 132ms/step\n",
            "Epoch 45/1000\n",
            "49/49 - 6s - loss: 0.1717 - accuracy: 0.9312 - val_loss: 0.2740 - val_accuracy: 0.8926 - 6s/epoch - 132ms/step\n",
            "Epoch 46/1000\n",
            "49/49 - 6s - loss: 0.1816 - accuracy: 0.9276 - val_loss: 0.2966 - val_accuracy: 0.8864 - 6s/epoch - 132ms/step\n",
            "Epoch 47/1000\n",
            "49/49 - 6s - loss: 0.1589 - accuracy: 0.9348 - val_loss: 0.3052 - val_accuracy: 0.8781 - 6s/epoch - 132ms/step\n",
            "Epoch 48/1000\n",
            "49/49 - 6s - loss: 0.1526 - accuracy: 0.9452 - val_loss: 0.3038 - val_accuracy: 0.8884 - 6s/epoch - 132ms/step\n",
            "Epoch 49/1000\n",
            "49/49 - 6s - loss: 0.1452 - accuracy: 0.9467 - val_loss: 0.3125 - val_accuracy: 0.8657 - 6s/epoch - 132ms/step\n",
            "Epoch 50/1000\n",
            "49/49 - 6s - loss: 0.1409 - accuracy: 0.9452 - val_loss: 0.2671 - val_accuracy: 0.8988 - 6s/epoch - 132ms/step\n",
            "Epoch 51/1000\n",
            "49/49 - 6s - loss: 0.1456 - accuracy: 0.9467 - val_loss: 0.2987 - val_accuracy: 0.8864 - 6s/epoch - 132ms/step\n",
            "Epoch 52/1000\n",
            "49/49 - 6s - loss: 0.1637 - accuracy: 0.9384 - val_loss: 0.2962 - val_accuracy: 0.8926 - 6s/epoch - 132ms/step\n",
            "Epoch 53/1000\n",
            "49/49 - 7s - loss: 0.1257 - accuracy: 0.9529 - val_loss: 0.4281 - val_accuracy: 0.8202 - 7s/epoch - 133ms/step\n",
            "Epoch 54/1000\n",
            "49/49 - 6s - loss: 0.1436 - accuracy: 0.9410 - val_loss: 0.2914 - val_accuracy: 0.8864 - 6s/epoch - 132ms/step\n",
            "Epoch 55/1000\n",
            "49/49 - 6s - loss: 0.1281 - accuracy: 0.9540 - val_loss: 0.2938 - val_accuracy: 0.8967 - 6s/epoch - 132ms/step\n",
            "Epoch 56/1000\n",
            "49/49 - 6s - loss: 0.1408 - accuracy: 0.9472 - val_loss: 0.3391 - val_accuracy: 0.8740 - 6s/epoch - 132ms/step\n",
            "Epoch 57/1000\n",
            "49/49 - 6s - loss: 0.1249 - accuracy: 0.9498 - val_loss: 0.2844 - val_accuracy: 0.8967 - 6s/epoch - 133ms/step\n",
            "Epoch 58/1000\n",
            "49/49 - 6s - loss: 0.1194 - accuracy: 0.9571 - val_loss: 0.3045 - val_accuracy: 0.8802 - 6s/epoch - 133ms/step\n",
            "Epoch 59/1000\n",
            "49/49 - 7s - loss: 0.1057 - accuracy: 0.9622 - val_loss: 0.3106 - val_accuracy: 0.8843 - 7s/epoch - 138ms/step\n",
            "Epoch 60/1000\n",
            "49/49 - 6s - loss: 0.1292 - accuracy: 0.9524 - val_loss: 0.3124 - val_accuracy: 0.8802 - 6s/epoch - 132ms/step\n",
            "Epoch 61/1000\n",
            "49/49 - 6s - loss: 0.1014 - accuracy: 0.9659 - val_loss: 0.2817 - val_accuracy: 0.9091 - 6s/epoch - 132ms/step\n",
            "Epoch 62/1000\n",
            "49/49 - 6s - loss: 0.1074 - accuracy: 0.9596 - val_loss: 0.3141 - val_accuracy: 0.8843 - 6s/epoch - 132ms/step\n",
            "Epoch 63/1000\n",
            "49/49 - 7s - loss: 0.1040 - accuracy: 0.9617 - val_loss: 0.3055 - val_accuracy: 0.9008 - 7s/epoch - 135ms/step\n",
            "Epoch 64/1000\n",
            "49/49 - 7s - loss: 0.1073 - accuracy: 0.9596 - val_loss: 0.3564 - val_accuracy: 0.8884 - 7s/epoch - 133ms/step\n",
            "Epoch 65/1000\n",
            "49/49 - 6s - loss: 0.0999 - accuracy: 0.9653 - val_loss: 0.3436 - val_accuracy: 0.8843 - 6s/epoch - 132ms/step\n",
            "Epoch 66/1000\n",
            "49/49 - 6s - loss: 0.0922 - accuracy: 0.9669 - val_loss: 0.2954 - val_accuracy: 0.9029 - 6s/epoch - 132ms/step\n",
            "Epoch 67/1000\n",
            "49/49 - 6s - loss: 0.1151 - accuracy: 0.9560 - val_loss: 0.2778 - val_accuracy: 0.8988 - 6s/epoch - 132ms/step\n",
            "Epoch 68/1000\n",
            "49/49 - 6s - loss: 0.0954 - accuracy: 0.9690 - val_loss: 0.3375 - val_accuracy: 0.8781 - 6s/epoch - 132ms/step\n",
            "Epoch 69/1000\n",
            "49/49 - 6s - loss: 0.0877 - accuracy: 0.9715 - val_loss: 0.3227 - val_accuracy: 0.8926 - 6s/epoch - 132ms/step\n",
            "Epoch 70/1000\n",
            "49/49 - 6s - loss: 0.0939 - accuracy: 0.9679 - val_loss: 0.2979 - val_accuracy: 0.8905 - 6s/epoch - 132ms/step\n",
            "Epoch 71/1000\n",
            "49/49 - 6s - loss: 0.0939 - accuracy: 0.9659 - val_loss: 0.3216 - val_accuracy: 0.8822 - 6s/epoch - 132ms/step\n",
            "Epoch 72/1000\n",
            "49/49 - 6s - loss: 0.1026 - accuracy: 0.9669 - val_loss: 0.3295 - val_accuracy: 0.8822 - 6s/epoch - 132ms/step\n",
            "Epoch 73/1000\n",
            "49/49 - 6s - loss: 0.0995 - accuracy: 0.9617 - val_loss: 0.2892 - val_accuracy: 0.9050 - 6s/epoch - 132ms/step\n",
            "Epoch 74/1000\n",
            "49/49 - 7s - loss: 0.0920 - accuracy: 0.9669 - val_loss: 0.3231 - val_accuracy: 0.8926 - 7s/epoch - 133ms/step\n",
            "Epoch 75/1000\n",
            "49/49 - 7s - loss: 0.0898 - accuracy: 0.9679 - val_loss: 0.3123 - val_accuracy: 0.8905 - 7s/epoch - 134ms/step\n",
            "Epoch 76/1000\n",
            "49/49 - 6s - loss: 0.0896 - accuracy: 0.9653 - val_loss: 0.3347 - val_accuracy: 0.8926 - 6s/epoch - 132ms/step\n",
            "Epoch 77/1000\n",
            "49/49 - 6s - loss: 0.0808 - accuracy: 0.9752 - val_loss: 0.4506 - val_accuracy: 0.8698 - 6s/epoch - 133ms/step\n",
            "Epoch 78/1000\n",
            "49/49 - 7s - loss: 0.0851 - accuracy: 0.9695 - val_loss: 0.3259 - val_accuracy: 0.9050 - 7s/epoch - 133ms/step\n",
            "Epoch 79/1000\n",
            "49/49 - 6s - loss: 0.0733 - accuracy: 0.9762 - val_loss: 0.3126 - val_accuracy: 0.8946 - 6s/epoch - 132ms/step\n",
            "Epoch 80/1000\n",
            "49/49 - 6s - loss: 0.0768 - accuracy: 0.9762 - val_loss: 0.3434 - val_accuracy: 0.8926 - 6s/epoch - 132ms/step\n",
            "Epoch 81/1000\n",
            "49/49 - 6s - loss: 0.0714 - accuracy: 0.9783 - val_loss: 0.2897 - val_accuracy: 0.9008 - 6s/epoch - 133ms/step\n",
            "Epoch 82/1000\n",
            "49/49 - 7s - loss: 0.0642 - accuracy: 0.9778 - val_loss: 0.3385 - val_accuracy: 0.8988 - 7s/epoch - 134ms/step\n",
            "Epoch 83/1000\n",
            "49/49 - 6s - loss: 0.0733 - accuracy: 0.9762 - val_loss: 0.4047 - val_accuracy: 0.8740 - 6s/epoch - 132ms/step\n",
            "Epoch 84/1000\n",
            "49/49 - 7s - loss: 0.1160 - accuracy: 0.9560 - val_loss: 0.3309 - val_accuracy: 0.8802 - 7s/epoch - 133ms/step\n",
            "Epoch 85/1000\n",
            "49/49 - 7s - loss: 0.0636 - accuracy: 0.9793 - val_loss: 0.3348 - val_accuracy: 0.8967 - 7s/epoch - 133ms/step\n",
            "Epoch 86/1000\n",
            "49/49 - 6s - loss: 0.0535 - accuracy: 0.9840 - val_loss: 0.4120 - val_accuracy: 0.8698 - 6s/epoch - 132ms/step\n",
            "Epoch 87/1000\n",
            "49/49 - 6s - loss: 0.0735 - accuracy: 0.9731 - val_loss: 0.3521 - val_accuracy: 0.8946 - 6s/epoch - 131ms/step\n",
            "Epoch 88/1000\n",
            "49/49 - 6s - loss: 0.0956 - accuracy: 0.9648 - val_loss: 0.3550 - val_accuracy: 0.8884 - 6s/epoch - 132ms/step\n",
            "Epoch 89/1000\n",
            "49/49 - 6s - loss: 0.0506 - accuracy: 0.9834 - val_loss: 0.3652 - val_accuracy: 0.8843 - 6s/epoch - 132ms/step\n",
            "Epoch 90/1000\n",
            "49/49 - 6s - loss: 0.0513 - accuracy: 0.9819 - val_loss: 0.3574 - val_accuracy: 0.8926 - 6s/epoch - 132ms/step\n",
            "Epoch 91/1000\n",
            "49/49 - 6s - loss: 0.0888 - accuracy: 0.9695 - val_loss: 0.3304 - val_accuracy: 0.8905 - 6s/epoch - 132ms/step\n",
            "Epoch 92/1000\n",
            "49/49 - 6s - loss: 0.0512 - accuracy: 0.9845 - val_loss: 0.3643 - val_accuracy: 0.8905 - 6s/epoch - 132ms/step\n",
            "Epoch 93/1000\n",
            "49/49 - 6s - loss: 0.0671 - accuracy: 0.9757 - val_loss: 0.3202 - val_accuracy: 0.8926 - 6s/epoch - 131ms/step\n",
            "Epoch 94/1000\n",
            "49/49 - 6s - loss: 0.0524 - accuracy: 0.9814 - val_loss: 0.3623 - val_accuracy: 0.8864 - 6s/epoch - 132ms/step\n",
            "Epoch 95/1000\n",
            "49/49 - 6s - loss: 0.0508 - accuracy: 0.9829 - val_loss: 0.2878 - val_accuracy: 0.9070 - 6s/epoch - 132ms/step\n",
            "Epoch 96/1000\n",
            "49/49 - 6s - loss: 0.0438 - accuracy: 0.9845 - val_loss: 0.3905 - val_accuracy: 0.8946 - 6s/epoch - 132ms/step\n",
            "Epoch 97/1000\n",
            "49/49 - 7s - loss: 0.0754 - accuracy: 0.9715 - val_loss: 0.3865 - val_accuracy: 0.8781 - 7s/epoch - 133ms/step\n",
            "Epoch 98/1000\n",
            "49/49 - 7s - loss: 0.0604 - accuracy: 0.9783 - val_loss: 0.4393 - val_accuracy: 0.8636 - 7s/epoch - 133ms/step\n",
            "Epoch 99/1000\n",
            "49/49 - 6s - loss: 0.0615 - accuracy: 0.9767 - val_loss: 0.3598 - val_accuracy: 0.8926 - 6s/epoch - 133ms/step\n",
            "Epoch 100/1000\n",
            "49/49 - 6s - loss: 0.0458 - accuracy: 0.9871 - val_loss: 0.3824 - val_accuracy: 0.8843 - 6s/epoch - 132ms/step\n",
            "Epoch 101/1000\n",
            "49/49 - 6s - loss: 0.0419 - accuracy: 0.9845 - val_loss: 0.4519 - val_accuracy: 0.8760 - 6s/epoch - 132ms/step\n",
            "Epoch 102/1000\n",
            "49/49 - 6s - loss: 0.0511 - accuracy: 0.9819 - val_loss: 0.4300 - val_accuracy: 0.8781 - 6s/epoch - 132ms/step\n",
            "Epoch 103/1000\n",
            "49/49 - 6s - loss: 0.0461 - accuracy: 0.9855 - val_loss: 0.4776 - val_accuracy: 0.8719 - 6s/epoch - 132ms/step\n",
            "Epoch 104/1000\n",
            "49/49 - 6s - loss: 0.0683 - accuracy: 0.9715 - val_loss: 0.3708 - val_accuracy: 0.8760 - 6s/epoch - 132ms/step\n",
            "Epoch 105/1000\n",
            "49/49 - 6s - loss: 0.0541 - accuracy: 0.9809 - val_loss: 0.4371 - val_accuracy: 0.8760 - 6s/epoch - 132ms/step\n",
            "Epoch 106/1000\n",
            "49/49 - 6s - loss: 0.0485 - accuracy: 0.9855 - val_loss: 0.3935 - val_accuracy: 0.8988 - 6s/epoch - 132ms/step\n",
            "Epoch 107/1000\n",
            "49/49 - 6s - loss: 0.0402 - accuracy: 0.9886 - val_loss: 0.4324 - val_accuracy: 0.8719 - 6s/epoch - 132ms/step\n",
            "Epoch 108/1000\n",
            "49/49 - 6s - loss: 0.0382 - accuracy: 0.9881 - val_loss: 0.4402 - val_accuracy: 0.8781 - 6s/epoch - 132ms/step\n",
            "Epoch 109/1000\n",
            "49/49 - 6s - loss: 0.0678 - accuracy: 0.9741 - val_loss: 0.4774 - val_accuracy: 0.8636 - 6s/epoch - 132ms/step\n",
            "Epoch 110/1000\n",
            "49/49 - 6s - loss: 0.0719 - accuracy: 0.9705 - val_loss: 0.4436 - val_accuracy: 0.8822 - 6s/epoch - 131ms/step\n",
            "Epoch 111/1000\n",
            "Restoring model weights from the end of the best epoch: 61.\n",
            "49/49 - 6s - loss: 0.0523 - accuracy: 0.9809 - val_loss: 0.3671 - val_accuracy: 0.8905 - 6s/epoch - 132ms/step\n",
            "Epoch 111: early stopping\n"
          ]
        }
      ],
      "source": [
        "history = model.fit(x=X, y=y, batch_size=40, validation_split = 0.2, epochs=1000, shuffle=True, verbose = 2, callbacks=[save_callback])"
      ]
    },
    {
      "cell_type": "code",
      "execution_count": null,
      "metadata": {
        "id": "J05JHTrNoZTL",
        "colab": {
          "base_uri": "https://localhost:8080/",
          "height": 573
        },
        "outputId": "aca9e268-411b-4078-94c7-f19937c40691"
      },
      "outputs": [
        {
          "output_type": "display_data",
          "data": {
            "text/plain": [
              "<Figure size 432x288 with 1 Axes>"
            ],
            "image/png": "[encoded data removed]"
          },
          "metadata": {
            "needs_background": "light"
          }
        },
        {
          "output_type": "display_data",
          "data": {
            "text/plain": [
              "<Figure size 432x288 with 1 Axes>"
            ],
            "image/png": "[encoded data removed]"
          },
          "metadata": {
            "needs_background": "light"
          }
        }
      ],
      "source": [
        "\n",
        "import keras\n",
        "from matplotlib import pyplot as plt\n",
        "\n",
        "plt.plot(history.history['accuracy'])\n",
        "plt.plot(history.history['val_accuracy'])\n",
        "plt.title('model accuracy')\n",
        "plt.ylabel('accuracy')\n",
        "plt.xlabel('epoch')\n",
        "plt.legend(['train', 'val'], loc='upper left')\n",
        "plt.show()\n",
        "\n",
        "plt.plot(history.history['loss'])\n",
        "plt.plot(history.history['val_loss'])\n",
        "plt.title('model loss')\n",
        "plt.ylabel('loss')\n",
        "plt.xlabel('epoch')\n",
        "plt.legend(['train', 'val'], loc='upper left')\n",
        "plt.show()"
      ]
    },
    {
      "cell_type": "code",
      "execution_count": null,
      "metadata": {
        "colab": {
          "base_uri": "https://localhost:8080/"
        },
        "id": "5yUgob2oBQET",
        "outputId": "6ff1b2d9-e674-4642-e779-179d1a665db7"
      },
      "outputs": [
        {
          "output_type": "stream",
          "name": "stderr",
          "text": [
            "WARNING:absl:Found untraced functions such as lstm_cell_3_layer_call_fn, lstm_cell_3_layer_call_and_return_conditional_losses while saving (showing 2 of 2). These functions will not be directly callable after loading.\n"
          ]
        },
        {
          "output_type": "stream",
          "name": "stdout",
          "text": [
            "INFO:tensorflow:Assets written to: /content.gdrive/MyDrive/NN_Model_20062022/assets\n"
          ]
        },
        {
          "output_type": "stream",
          "name": "stderr",
          "text": [
            "INFO:tensorflow:Assets written to: /content.gdrive/MyDrive/NN_Model_20062022/assets\n",
            "WARNING:absl:<keras.layers.recurrent.LSTMCell object at 0x7f8dd0c72650> has the same name 'LSTMCell' as a built-in Keras object. Consider renaming <class 'keras.layers.recurrent.LSTMCell'> to avoid naming conflicts when loading with `tf.keras.models.load_model`. If renaming is not possible, pass the object in the `custom_objects` parameter of the load function.\n"
          ]
        }
      ],
      "source": [
        "model.save('/content.gdrive/MyDrive/NN_Model_20062022')"
      ]
    },
    {
      "cell_type": "code",
      "source": [
        "#Load the model\n",
        "#Creating binary classification model 1575\n",
        "!pip install -U tensorflow-addons\n",
        "import json\n",
        "import numpy as np\n",
        "import tensorflow as tf\n",
        "from tensorflow import keras\n",
        "from tensorflow.keras.models import Sequential\n",
        "from tensorflow.keras.callbacks import EarlyStopping\n",
        "from tensorflow.keras.layers import Activation, Dense, Conv1D, Dropout, MaxPooling1D, LSTM, Conv2D, Flatten,GlobalMaxPooling1D, Reshape\n",
        "from tensorflow.keras.optimizers import Adam\n",
        "from tensorflow.keras.metrics import categorical_crossentropy, binary_crossentropy\n",
        "from sklearn.utils import shuffle\n",
        "import tensorflow_addons as tfa\n",
        "\n",
        "\n",
        "\n",
        "\n",
        "\n",
        "def Ranger(sync_period=6,\n",
        "           slow_step_size=0.5,\n",
        "           learning_rate=0.001,\n",
        "           beta_1=0.9,\n",
        "           beta_2=0.999,\n",
        "           epsilon=1e-7,\n",
        "           weight_decay=0.,\n",
        "           amsgrad=False,\n",
        "           sma_threshold=5.0,\n",
        "           total_steps=0,\n",
        "           warmup_proportion=0.1,\n",
        "           min_lr=0.,\n",
        "           name=\"Ranger\"):\n",
        "    inner = tfa.optimizers.RectifiedAdam(learning_rate, beta_1, beta_2, epsilon, weight_decay, amsgrad, sma_threshold, total_steps, warmup_proportion, min_lr, name)\n",
        "    optim = tfa.optimizers.Lookahead(inner, sync_period, slow_step_size, name)\n",
        "    return optim\n",
        "\n",
        "\n",
        "model = keras.models.load_model('/content.gdrive/MyDrive/Final/NN_Model_20062022')\n",
        "model.summary()"
      ],
      "metadata": {
        "colab": {
          "base_uri": "https://localhost:8080/"
        },
        "id": "hpecj7r_lntN",
        "outputId": "9e35389c-8231-498d-8dcf-65b8cd11099e"
      },
      "execution_count": 4,
      "outputs": [
        {
          "output_type": "stream",
          "name": "stdout",
          "text": [
            "Looking in indexes: https://pypi.org/simple, https://us-python.pkg.dev/colab-wheels/public/simple/\n",
            "Requirement already satisfied: tensorflow-addons in /usr/local/lib/python3.7/dist-packages (0.17.1)\n",
            "Requirement already satisfied: typeguard>=2.7 in /usr/local/lib/python3.7/dist-packages (from tensorflow-addons) (2.7.1)\n",
            "Requirement already satisfied: packaging in /usr/local/lib/python3.7/dist-packages (from tensorflow-addons) (21.3)\n",
            "Requirement already satisfied: pyparsing!=3.0.5,>=2.0.2 in /usr/local/lib/python3.7/dist-packages (from packaging->tensorflow-addons) (3.0.9)\n",
            "Model: \"sequential\"\n",
            "_________________________________________________________________\n",
            " Layer (type)                Output Shape              Param #   \n",
            "=================================================================\n",
            " dense (Dense)               (None, 945, 1200)         2400      \n",
            "                                                                 \n",
            " conv1d (Conv1D)             (None, 315, 32)           1728032   \n",
            "                                                                 \n",
            " dropout (Dropout)           (None, 315, 32)           0         \n",
            "                                                                 \n",
            " conv1d_1 (Conv1D)           (None, 21, 64)            30784     \n",
            "                                                                 \n",
            " dropout_1 (Dropout)         (None, 21, 64)            0         \n",
            "                                                                 \n",
            " lstm (LSTM)                 (None, 21)                7224      \n",
            "                                                                 \n",
            " dropout_2 (Dropout)         (None, 21)                0         \n",
            "                                                                 \n",
            " dense_1 (Dense)             (None, 1)                 22        \n",
            "                                                                 \n",
            "=================================================================\n",
            "Total params: 1,768,462\n",
            "Trainable params: 1,768,462\n",
            "Non-trainable params: 0\n",
            "_________________________________________________________________\n"
          ]
        }
      ]
    },
    {
      "cell_type": "code",
      "execution_count": 13,
      "metadata": {
        "id": "5l1_HfnSCgtC",
        "colab": {
          "base_uri": "https://localhost:8080/",
          "height": 125
        },
        "outputId": "37395940-f4eb-44f9-d36a-8bc8bd0bb05f"
      },
      "outputs": [
        {
          "output_type": "stream",
          "name": "stdout",
          "text": [
            "(1, 1575)\n",
            "[45, 46, 47, 48, 49, 50, 51, 52, 53, 54, 55, 56, 57, 58, 59, 60, 61, 62, 63, 64, 65, 66, 67, 68, 69, 70, 71, 72, 73, 74, 120, 121, 122, 123, 124, 125, 126, 127, 128, 129, 130, 131, 132, 133, 134, 135, 136, 137, 138, 139, 140, 141, 142, 143, 144, 145, 146, 147, 148, 149, 195, 196, 197, 198, 199, 200, 201, 202, 203, 204, 205, 206, 207, 208, 209, 210, 211, 212, 213, 214, 215, 216, 217, 218, 219, 220, 221, 222, 223, 224, 270, 271, 272, 273, 274, 275, 276, 277, 278, 279, 280, 281, 282, 283, 284, 285, 286, 287, 288, 289, 290, 291, 292, 293, 294, 295, 296, 297, 298, 299, 345, 346, 347, 348, 349, 350, 351, 352, 353, 354, 355, 356, 357, 358, 359, 360, 361, 362, 363, 364, 365, 366, 367, 368, 369, 370, 371, 372, 373, 374, 420, 421, 422, 423, 424, 425, 426, 427, 428, 429, 430, 431, 432, 433, 434, 435, 436, 437, 438, 439, 440, 441, 442, 443, 444, 445, 446, 447, 448, 449, 495, 496, 497, 498, 499, 500, 501, 502, 503, 504, 505, 506, 507, 508, 509, 510, 511, 512, 513, 514, 515, 516, 517, 518, 519, 520, 521, 522, 523, 524, 570, 571, 572, 573, 574, 575, 576, 577, 578, 579, 580, 581, 582, 583, 584, 585, 586, 587, 588, 589, 590, 591, 592, 593, 594, 595, 596, 597, 598, 599, 645, 646, 647, 648, 649, 650, 651, 652, 653, 654, 655, 656, 657, 658, 659, 660, 661, 662, 663, 664, 665, 666, 667, 668, 669, 670, 671, 672, 673, 674, 720, 721, 722, 723, 724, 725, 726, 727, 728, 729, 730, 731, 732, 733, 734, 735, 736, 737, 738, 739, 740, 741, 742, 743, 744, 745, 746, 747, 748, 749, 795, 796, 797, 798, 799, 800, 801, 802, 803, 804, 805, 806, 807, 808, 809, 810, 811, 812, 813, 814, 815, 816, 817, 818, 819, 820, 821, 822, 823, 824, 870, 871, 872, 873, 874, 875, 876, 877, 878, 879, 880, 881, 882, 883, 884, 885, 886, 887, 888, 889, 890, 891, 892, 893, 894, 895, 896, 897, 898, 899, 945, 946, 947, 948, 949, 950, 951, 952, 953, 954, 955, 956, 957, 958, 959, 960, 961, 962, 963, 964, 965, 966, 967, 968, 969, 970, 971, 972, 973, 974, 1020, 1021, 1022, 1023, 1024, 1025, 1026, 1027, 1028, 1029, 1030, 1031, 1032, 1033, 1034, 1035, 1036, 1037, 1038, 1039, 1040, 1041, 1042, 1043, 1044, 1045, 1046, 1047, 1048, 1049, 1095, 1096, 1097, 1098, 1099, 1100, 1101, 1102, 1103, 1104, 1105, 1106, 1107, 1108, 1109, 1110, 1111, 1112, 1113, 1114, 1115, 1116, 1117, 1118, 1119, 1120, 1121, 1122, 1123, 1124, 1170, 1171, 1172, 1173, 1174, 1175, 1176, 1177, 1178, 1179, 1180, 1181, 1182, 1183, 1184, 1185, 1186, 1187, 1188, 1189, 1190, 1191, 1192, 1193, 1194, 1195, 1196, 1197, 1198, 1199, 1245, 1246, 1247, 1248, 1249, 1250, 1251, 1252, 1253, 1254, 1255, 1256, 1257, 1258, 1259, 1260, 1261, 1262, 1263, 1264, 1265, 1266, 1267, 1268, 1269, 1270, 1271, 1272, 1273, 1274, 1320, 1321, 1322, 1323, 1324, 1325, 1326, 1327, 1328, 1329, 1330, 1331, 1332, 1333, 1334, 1335, 1336, 1337, 1338, 1339, 1340, 1341, 1342, 1343, 1344, 1345, 1346, 1347, 1348, 1349, 1395, 1396, 1397, 1398, 1399, 1400, 1401, 1402, 1403, 1404, 1405, 1406, 1407, 1408, 1409, 1410, 1411, 1412, 1413, 1414, 1415, 1416, 1417, 1418, 1419, 1420, 1421, 1422, 1423, 1424, 1470, 1471, 1472, 1473, 1474, 1475, 1476, 1477, 1478, 1479, 1480, 1481, 1482, 1483, 1484, 1485, 1486, 1487, 1488, 1489, 1490, 1491, 1492, 1493, 1494, 1495, 1496, 1497, 1498, 1499, 1545, 1546, 1547, 1548, 1549, 1550, 1551, 1552, 1553, 1554, 1555, 1556, 1557, 1558, 1559, 1560, 1561, 1562, 1563, 1564, 1565, 1566, 1567, 1568, 1569, 1570, 1571, 1572, 1573, 1574]\n",
            "(1, 945)\n",
            "[[0.98342615]] []\n"
          ]
        },
        {
          "output_type": "execute_result",
          "data": {
            "text/plain": [
              "'\\ncounter =0\\nfor i, x in enumerate(predictions):\\n    if np.around(x) != y2[i]:\\n        counter+=1\\nprint(y2.shape)\\nprint(counter)\\n'"
            ],
            "application/vnd.google.colaboratory.intrinsic+json": {
              "type": "string"
            }
          },
          "metadata": {},
          "execution_count": 13
        }
      ],
      "source": [
        "#predictions\n",
        "\n",
        "import json\n",
        "import numpy as np\n",
        "with open('/content.gdrive/MyDrive/Data_Präsentation/data/sehr tief ud eg/9.json', \"r\") as fp:\n",
        "    data2 = json.load(fp)\n",
        "# convert lists to numpy arrays\n",
        "X2 = np.array(data2[\"keypoints\"])\n",
        "y2 = np.array(data2[\"labels\"])\n",
        "\n",
        "#prepare 1575 - 945\n",
        "\n",
        "print(X2.shape)\n",
        "\n",
        "delete_index = []\n",
        "for i in range(21):\n",
        "    liste = [*range(45+(i*75),75+(i*75),1)]\n",
        "    delete_index.append(liste)\n",
        "\n",
        "flat_list = [item for sublist in delete_index for item in sublist]\n",
        "\n",
        "print(flat_list)\n",
        "X2 = np.delete(X2, delete_index, axis=1)\n",
        "\n",
        "\n",
        "\n",
        "print(X2.shape)\n",
        "\n",
        "\n",
        "predictions = model.predict(X2, batch_size = 10, verbose =0)\n",
        "\n",
        "print(predictions, y2)\n",
        "\"\"\"\n",
        "counter =0\n",
        "for i, x in enumerate(predictions):\n",
        "    if np.around(x) != y2[i]:\n",
        "        counter+=1\n",
        "print(y2.shape)\n",
        "print(counter)\n",
        "\"\"\""
      ]
    },
    {
      "cell_type": "code",
      "execution_count": null,
      "metadata": {
        "id": "WpUifyJ-nhpq"
      },
      "outputs": [],
      "source": [
        ""
      ]
    }
  ],
  "metadata": {
    "colab": {
      "name": "NN_final_20062022.ipynb",
      "provenance": [],
      "include_colab_link": true
    },
    "kernelspec": {
      "display_name": "Python 3",
      "name": "python3"
    },
    "language_info": {
      "name": "python"
    },
    "gpuClass": "standard"
  },
  "nbformat": 4,
  "nbformat_minor": 0
}