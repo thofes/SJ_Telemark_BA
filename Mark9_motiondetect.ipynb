{
  "nbformat": 4,
  "nbformat_minor": 0,
  "metadata": {
    "colab": {
      "name": "Mark9_motiondetect.ipynb",
      "provenance": [],
      "authorship_tag": "ABX9TyPKY2u9csIHDZs2ycEA0jQ1",
      "include_colab_link": true
    },
    "kernelspec": {
      "name": "python3",
      "display_name": "Python 3"
    },
    "language_info": {
      "name": "python"
    }
  },
  "cells": [
    {
      "cell_type": "markdown",
      "metadata": {
        "id": "view-in-github",
        "colab_type": "text"
      },
      "source": [
        "<a href=\"https://colab.research.google.com/github/thofes/judging_SJ_BA/blob/main/Mark9_motiondetect.ipynb\" target=\"_parent\"><img src=\"https://colab.research.google.com/assets/colab-badge.svg\" alt=\"Open In Colab\"/></a>"
      ]
    },
    {
      "cell_type": "code",
      "execution_count": 1,
      "metadata": {
        "colab": {
          "base_uri": "https://localhost:8080/"
        },
        "id": "pf2BD_PGSkWK",
        "outputId": "9145822d-e690-4a5c-da5e-cc468b949049"
      },
      "outputs": [
        {
          "output_type": "stream",
          "name": "stdout",
          "text": [
            "Mounted at /content.gdrive\n"
          ]
        }
      ],
      "source": [
        "#Connect GDrive\n",
        "from google.colab import drive\n",
        "drive.mount('/content.gdrive')\n",
        "\n"
      ]
    },
    {
      "cell_type": "code",
      "source": [
        "import json\n",
        "import numpy as np\n",
        "import cv2\n",
        "\n",
        "with open('/content.gdrive/MyDrive/Test2/exp52/predictions.json', \"r\") as fp:\n",
        "    data = json.load(fp)\n",
        "\n",
        "# convert lists to numpy arrays\n",
        "x_center = np.array(data[\"x_center\"])\n",
        "y_center = np.array(data[\"y_center\"])\n",
        "x1 = np.array(data[\"x1\"])\n",
        "x2 = np.array(data[\"x2\"])\n",
        "y1 = np.array(data[\"y1\"])\n",
        "y2 = np.array(data[\"y2\"])\n",
        "detectios = np.array(data[\"det\"])\n",
        "width = 1920\n",
        "hight = 1080\n",
        "\n",
        "\n",
        "\n"
      ],
      "metadata": {
        "id": "eOFlCJSCTXB7"
      },
      "execution_count": 30,
      "outputs": []
    },
    {
      "cell_type": "code",
      "source": [
        "#crop\n",
        "\n",
        "x1 = int(x1[1])-50\n",
        "if x1 < 0:\n",
        "  x1 = 0\n",
        "x2 = int(x2[1])+50\n",
        "if x2 > width:\n",
        "  x2 = width\n",
        "y1 = int(y1[1])-50\n",
        "if y1 < 0:\n",
        "  y1 = 0\n",
        "y2 = int(y2[1])+50\n",
        "if y2 > hight:\n",
        "  y2 = hight\n",
        "\n",
        "im = cv2.imread('/content.gdrive/MyDrive/Test2/1.jpg')      \n",
        "crop = im[y1:y2, x1:x2] \n",
        "#save_dir.parent.mkdir(parents=True, exist_ok=True)  # make directory\n",
        "cv2.imwrite('/content.gdrive/MyDrive/Test2/exp51/test.jpg', crop) # speicher nur den zugeschnittenen Springer"
      ],
      "metadata": {
        "id": "4Z-vmHxLpuJt"
      },
      "execution_count": null,
      "outputs": []
    }
  ]
}